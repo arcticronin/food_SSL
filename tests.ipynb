{
 "cells": [
  {
   "cell_type": "code",
   "execution_count": 9,
   "metadata": {},
   "outputs": [],
   "source": [
    "import os\n",
    "import pandas as pd\n",
    "from PIL import Image\n",
    "import matplotlib.pyplot as plt\n",
    "import numpy as np"
   ]
  },
  {
   "cell_type": "code",
   "execution_count": null,
   "metadata": {},
   "outputs": [],
   "source": [
    "def get_image_size(image_path):\n",
    "    try:\n",
    "        with Image.open(image_path) as img:\n",
    "            return img.size\n",
    "    except Exception as e:\n",
    "        print(f\"Could not open image {image_path}: {e}\")\n",
    "        return None\n",
    "\n",
    "def record_image_sizes(root_dir):\n",
    "    data = []\n",
    "    valid_extensions = ('.jpg', '.jpeg', '.png', '.gif', '.bmp', '.tiff')\n",
    "\n",
    "    for subdir, _, files in os.walk(root_dir):\n",
    "        for file in files:\n",
    "            if file.lower().endswith(valid_extensions):\n",
    "                file_path = os.path.join(subdir, file)\n",
    "                size = get_image_size(file_path)\n",
    "                if size:\n",
    "                    data.append({\"Path\": file_path, \"Width\": size[0], \"Height\": size[1]})\n",
    "\n",
    "    return data\n",
    "\n",
    "def list_images():\n",
    "    # root_directory = input(\"Enter the root directory to search for images: \")\n",
    "    root_directory = \"./data/data_raw/\"\n",
    "    image_data = record_image_sizes(root_directory)\n",
    "    df = pd.DataFrame(image_data)\n",
    "    \n",
    "    print(\"Image sizes have been recorded in the DataFrame:\")\n",
    "    return df\n",
    "    # Save DataFrame to a file if needed\n",
    "    # df.to_csv('image_sizes.csv', index=False)\n"
   ]
  },
  {
   "cell_type": "code",
   "execution_count": 4,
   "metadata": {},
   "outputs": [
    {
     "name": "stdout",
     "output_type": "stream",
     "text": [
      "Image sizes have been recorded in the DataFrame:\n"
     ]
    }
   ],
   "source": [
    "df = list_images()"
   ]
  },
  {
   "cell_type": "code",
   "execution_count": 13,
   "metadata": {},
   "outputs": [
    {
     "data": {
      "text/html": [
       "<div>\n",
       "<style scoped>\n",
       "    .dataframe tbody tr th:only-of-type {\n",
       "        vertical-align: middle;\n",
       "    }\n",
       "\n",
       "    .dataframe tbody tr th {\n",
       "        vertical-align: top;\n",
       "    }\n",
       "\n",
       "    .dataframe thead th {\n",
       "        text-align: right;\n",
       "    }\n",
       "</style>\n",
       "<table border=\"1\" class=\"dataframe\">\n",
       "  <thead>\n",
       "    <tr style=\"text-align: right;\">\n",
       "      <th></th>\n",
       "      <th>Width</th>\n",
       "      <th>Height</th>\n",
       "    </tr>\n",
       "  </thead>\n",
       "  <tbody>\n",
       "    <tr>\n",
       "      <th>count</th>\n",
       "      <td>158846.000000</td>\n",
       "      <td>158846.000000</td>\n",
       "    </tr>\n",
       "    <tr>\n",
       "      <th>mean</th>\n",
       "      <td>341.236348</td>\n",
       "      <td>287.476701</td>\n",
       "    </tr>\n",
       "    <tr>\n",
       "      <th>std</th>\n",
       "      <td>86.285066</td>\n",
       "      <td>75.452224</td>\n",
       "    </tr>\n",
       "    <tr>\n",
       "      <th>min</th>\n",
       "      <td>256.000000</td>\n",
       "      <td>256.000000</td>\n",
       "    </tr>\n",
       "    <tr>\n",
       "      <th>25%</th>\n",
       "      <td>256.000000</td>\n",
       "      <td>256.000000</td>\n",
       "    </tr>\n",
       "    <tr>\n",
       "      <th>50%</th>\n",
       "      <td>341.000000</td>\n",
       "      <td>256.000000</td>\n",
       "    </tr>\n",
       "    <tr>\n",
       "      <th>75%</th>\n",
       "      <td>384.000000</td>\n",
       "      <td>256.000000</td>\n",
       "    </tr>\n",
       "    <tr>\n",
       "      <th>max</th>\n",
       "      <td>2733.000000</td>\n",
       "      <td>2744.000000</td>\n",
       "    </tr>\n",
       "  </tbody>\n",
       "</table>\n",
       "</div>"
      ],
      "text/plain": [
       "               Width         Height\n",
       "count  158846.000000  158846.000000\n",
       "mean      341.236348     287.476701\n",
       "std        86.285066      75.452224\n",
       "min       256.000000     256.000000\n",
       "25%       256.000000     256.000000\n",
       "50%       341.000000     256.000000\n",
       "75%       384.000000     256.000000\n",
       "max      2733.000000    2744.000000"
      ]
     },
     "execution_count": 13,
     "metadata": {},
     "output_type": "execute_result"
    }
   ],
   "source": [
    "df[['Width', 'Height']].describe()"
   ]
  },
  {
   "cell_type": "code",
   "execution_count": null,
   "metadata": {},
   "outputs": [],
   "source": []
  }
 ],
 "metadata": {
  "kernelspec": {
   "display_name": "ai",
   "language": "python",
   "name": "python3"
  },
  "language_info": {
   "codemirror_mode": {
    "name": "ipython",
    "version": 3
   },
   "file_extension": ".py",
   "mimetype": "text/x-python",
   "name": "python",
   "nbconvert_exporter": "python",
   "pygments_lexer": "ipython3",
   "version": "3.12.0"
  }
 },
 "nbformat": 4,
 "nbformat_minor": 2
}
