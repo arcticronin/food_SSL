{
 "cells": [
  {
   "cell_type": "code",
   "execution_count": 1,
   "id": "3b79c868",
   "metadata": {
    "execution": {
     "iopub.execute_input": "2024-06-10T20:30:16.682530Z",
     "iopub.status.busy": "2024-06-10T20:30:16.682214Z",
     "iopub.status.idle": "2024-06-10T20:30:59.780160Z",
     "shell.execute_reply": "2024-06-10T20:30:59.779062Z"
    },
    "papermill": {
     "duration": 43.107729,
     "end_time": "2024-06-10T20:30:59.782683",
     "exception": false,
     "start_time": "2024-06-10T20:30:16.674954",
     "status": "completed"
    },
    "tags": []
   },
   "outputs": [
    {
     "name": "stdout",
     "output_type": "stream",
     "text": [
      "Running on Kaggle\n",
      "Collecting torchsummary\r\n",
      "  Downloading torchsummary-1.5.1-py3-none-any.whl.metadata (296 bytes)\r\n",
      "Downloading torchsummary-1.5.1-py3-none-any.whl (2.8 kB)\r\n",
      "Installing collected packages: torchsummary\r\n",
      "Successfully installed torchsummary-1.5.1\r\n",
      "Collecting mlflow\r\n",
      "  Downloading mlflow-2.13.2-py3-none-any.whl.metadata (29 kB)\r\n",
      "Requirement already satisfied: Flask<4 in /opt/conda/lib/python3.10/site-packages (from mlflow) (3.0.3)\r\n",
      "Requirement already satisfied: alembic!=1.10.0,<2 in /opt/conda/lib/python3.10/site-packages (from mlflow) (1.13.1)\r\n",
      "Collecting cachetools<6,>=5.0.0 (from mlflow)\r\n",
      "  Downloading cachetools-5.3.3-py3-none-any.whl.metadata (5.3 kB)\r\n",
      "Requirement already satisfied: click<9,>=7.0 in /opt/conda/lib/python3.10/site-packages (from mlflow) (8.1.7)\r\n",
      "Requirement already satisfied: cloudpickle<4 in /opt/conda/lib/python3.10/site-packages (from mlflow) (2.2.1)\r\n",
      "Requirement already satisfied: docker<8,>=4.0.0 in /opt/conda/lib/python3.10/site-packages (from mlflow) (7.0.0)\r\n",
      "Requirement already satisfied: entrypoints<1 in /opt/conda/lib/python3.10/site-packages (from mlflow) (0.4)\r\n",
      "Requirement already satisfied: gitpython<4,>=3.1.9 in /opt/conda/lib/python3.10/site-packages (from mlflow) (3.1.41)\r\n",
      "Collecting graphene<4 (from mlflow)\r\n",
      "  Downloading graphene-3.3-py2.py3-none-any.whl.metadata (7.7 kB)\r\n",
      "Requirement already satisfied: importlib-metadata!=4.7.0,<8,>=3.7.0 in /opt/conda/lib/python3.10/site-packages (from mlflow) (6.11.0)\r\n",
      "Requirement already satisfied: markdown<4,>=3.3 in /opt/conda/lib/python3.10/site-packages (from mlflow) (3.5.2)\r\n",
      "Requirement already satisfied: matplotlib<4 in /opt/conda/lib/python3.10/site-packages (from mlflow) (3.7.5)\r\n",
      "Requirement already satisfied: numpy<2 in /opt/conda/lib/python3.10/site-packages (from mlflow) (1.26.4)\r\n",
      "Requirement already satisfied: opentelemetry-api<3,>=1.0.0 in /opt/conda/lib/python3.10/site-packages (from mlflow) (1.22.0)\r\n",
      "Requirement already satisfied: opentelemetry-sdk<3,>=1.0.0 in /opt/conda/lib/python3.10/site-packages (from mlflow) (1.22.0)\r\n",
      "Requirement already satisfied: packaging<25 in /opt/conda/lib/python3.10/site-packages (from mlflow) (21.3)\r\n",
      "Requirement already satisfied: pandas<3 in /opt/conda/lib/python3.10/site-packages (from mlflow) (2.2.1)\r\n",
      "Requirement already satisfied: protobuf<5,>=3.12.0 in /opt/conda/lib/python3.10/site-packages (from mlflow) (3.20.3)\r\n",
      "Requirement already satisfied: pyarrow<16,>=4.0.0 in /opt/conda/lib/python3.10/site-packages (from mlflow) (14.0.2)\r\n",
      "Requirement already satisfied: pytz<2025 in /opt/conda/lib/python3.10/site-packages (from mlflow) (2023.3.post1)\r\n",
      "Requirement already satisfied: pyyaml<7,>=5.1 in /opt/conda/lib/python3.10/site-packages (from mlflow) (6.0.1)\r\n",
      "Collecting querystring-parser<2 (from mlflow)\r\n",
      "  Downloading querystring_parser-1.2.4-py2.py3-none-any.whl.metadata (559 bytes)\r\n",
      "Requirement already satisfied: requests<3,>=2.17.3 in /opt/conda/lib/python3.10/site-packages (from mlflow) (2.32.3)\r\n",
      "Requirement already satisfied: scikit-learn<2 in /opt/conda/lib/python3.10/site-packages (from mlflow) (1.2.2)\r\n",
      "Requirement already satisfied: scipy<2 in /opt/conda/lib/python3.10/site-packages (from mlflow) (1.11.4)\r\n",
      "Requirement already satisfied: sqlalchemy<3,>=1.4.0 in /opt/conda/lib/python3.10/site-packages (from mlflow) (2.0.25)\r\n",
      "Requirement already satisfied: sqlparse<1,>=0.4.0 in /opt/conda/lib/python3.10/site-packages (from mlflow) (0.4.4)\r\n",
      "Requirement already satisfied: Jinja2<4,>=2.11 in /opt/conda/lib/python3.10/site-packages (from mlflow) (3.1.2)\r\n",
      "Collecting gunicorn<23 (from mlflow)\r\n",
      "  Downloading gunicorn-22.0.0-py3-none-any.whl.metadata (4.4 kB)\r\n",
      "Requirement already satisfied: Mako in /opt/conda/lib/python3.10/site-packages (from alembic!=1.10.0,<2->mlflow) (1.3.5)\r\n",
      "Requirement already satisfied: typing-extensions>=4 in /opt/conda/lib/python3.10/site-packages (from alembic!=1.10.0,<2->mlflow) (4.9.0)\r\n",
      "Requirement already satisfied: urllib3>=1.26.0 in /opt/conda/lib/python3.10/site-packages (from docker<8,>=4.0.0->mlflow) (1.26.18)\r\n",
      "Requirement already satisfied: Werkzeug>=3.0.0 in /opt/conda/lib/python3.10/site-packages (from Flask<4->mlflow) (3.0.3)\r\n",
      "Requirement already satisfied: itsdangerous>=2.1.2 in /opt/conda/lib/python3.10/site-packages (from Flask<4->mlflow) (2.2.0)\r\n",
      "Requirement already satisfied: blinker>=1.6.2 in /opt/conda/lib/python3.10/site-packages (from Flask<4->mlflow) (1.8.2)\r\n",
      "Requirement already satisfied: gitdb<5,>=4.0.1 in /opt/conda/lib/python3.10/site-packages (from gitpython<4,>=3.1.9->mlflow) (4.0.11)\r\n",
      "Collecting graphql-core<3.3,>=3.1 (from graphene<4->mlflow)\r\n",
      "  Downloading graphql_core-3.2.3-py3-none-any.whl.metadata (10 kB)\r\n",
      "Collecting graphql-relay<3.3,>=3.1 (from graphene<4->mlflow)\r\n",
      "  Downloading graphql_relay-3.2.0-py3-none-any.whl.metadata (12 kB)\r\n",
      "Collecting aniso8601<10,>=8 (from graphene<4->mlflow)\r\n",
      "  Downloading aniso8601-9.0.1-py2.py3-none-any.whl.metadata (23 kB)\r\n",
      "Requirement already satisfied: zipp>=0.5 in /opt/conda/lib/python3.10/site-packages (from importlib-metadata!=4.7.0,<8,>=3.7.0->mlflow) (3.17.0)\r\n",
      "Requirement already satisfied: MarkupSafe>=2.0 in /opt/conda/lib/python3.10/site-packages (from Jinja2<4,>=2.11->mlflow) (2.1.3)\r\n",
      "Requirement already satisfied: contourpy>=1.0.1 in /opt/conda/lib/python3.10/site-packages (from matplotlib<4->mlflow) (1.2.0)\r\n",
      "Requirement already satisfied: cycler>=0.10 in /opt/conda/lib/python3.10/site-packages (from matplotlib<4->mlflow) (0.12.1)\r\n",
      "Requirement already satisfied: fonttools>=4.22.0 in /opt/conda/lib/python3.10/site-packages (from matplotlib<4->mlflow) (4.47.0)\r\n",
      "Requirement already satisfied: kiwisolver>=1.0.1 in /opt/conda/lib/python3.10/site-packages (from matplotlib<4->mlflow) (1.4.5)\r\n",
      "Requirement already satisfied: pillow>=6.2.0 in /opt/conda/lib/python3.10/site-packages (from matplotlib<4->mlflow) (9.5.0)\r\n",
      "Requirement already satisfied: pyparsing>=2.3.1 in /opt/conda/lib/python3.10/site-packages (from matplotlib<4->mlflow) (3.1.1)\r\n",
      "Requirement already satisfied: python-dateutil>=2.7 in /opt/conda/lib/python3.10/site-packages (from matplotlib<4->mlflow) (2.9.0.post0)\r\n",
      "Requirement already satisfied: deprecated>=1.2.6 in /opt/conda/lib/python3.10/site-packages (from opentelemetry-api<3,>=1.0.0->mlflow) (1.2.14)\r\n",
      "Requirement already satisfied: opentelemetry-semantic-conventions==0.43b0 in /opt/conda/lib/python3.10/site-packages (from opentelemetry-sdk<3,>=1.0.0->mlflow) (0.43b0)\r\n",
      "Requirement already satisfied: tzdata>=2022.7 in /opt/conda/lib/python3.10/site-packages (from pandas<3->mlflow) (2023.4)\r\n",
      "Requirement already satisfied: six in /opt/conda/lib/python3.10/site-packages (from querystring-parser<2->mlflow) (1.16.0)\r\n",
      "Requirement already satisfied: charset-normalizer<4,>=2 in /opt/conda/lib/python3.10/site-packages (from requests<3,>=2.17.3->mlflow) (3.3.2)\r\n",
      "Requirement already satisfied: idna<4,>=2.5 in /opt/conda/lib/python3.10/site-packages (from requests<3,>=2.17.3->mlflow) (3.6)\r\n",
      "Requirement already satisfied: certifi>=2017.4.17 in /opt/conda/lib/python3.10/site-packages (from requests<3,>=2.17.3->mlflow) (2024.2.2)\r\n",
      "Requirement already satisfied: joblib>=1.1.1 in /opt/conda/lib/python3.10/site-packages (from scikit-learn<2->mlflow) (1.4.2)\r\n",
      "Requirement already satisfied: threadpoolctl>=2.0.0 in /opt/conda/lib/python3.10/site-packages (from scikit-learn<2->mlflow) (3.2.0)\r\n",
      "Requirement already satisfied: greenlet!=0.4.17 in /opt/conda/lib/python3.10/site-packages (from sqlalchemy<3,>=1.4.0->mlflow) (3.0.3)\r\n",
      "Requirement already satisfied: wrapt<2,>=1.10 in /opt/conda/lib/python3.10/site-packages (from deprecated>=1.2.6->opentelemetry-api<3,>=1.0.0->mlflow) (1.14.1)\r\n",
      "Requirement already satisfied: smmap<6,>=3.0.1 in /opt/conda/lib/python3.10/site-packages (from gitdb<5,>=4.0.1->gitpython<4,>=3.1.9->mlflow) (5.0.1)\r\n",
      "Downloading mlflow-2.13.2-py3-none-any.whl (25.0 MB)\r\n",
      "\u001b[2K   \u001b[90m━━━━━━━━━━━━━━━━━━━━━━━━━━━━━━━━━━━━━━━━\u001b[0m \u001b[32m25.0/25.0 MB\u001b[0m \u001b[31m47.1 MB/s\u001b[0m eta \u001b[36m0:00:00\u001b[0m\r\n",
      "\u001b[?25hDownloading cachetools-5.3.3-py3-none-any.whl (9.3 kB)\r\n",
      "Downloading graphene-3.3-py2.py3-none-any.whl (128 kB)\r\n",
      "\u001b[2K   \u001b[90m━━━━━━━━━━━━━━━━━━━━━━━━━━━━━━━━━━━━━━━━\u001b[0m \u001b[32m128.2/128.2 kB\u001b[0m \u001b[31m9.8 MB/s\u001b[0m eta \u001b[36m0:00:00\u001b[0m\r\n",
      "\u001b[?25hDownloading gunicorn-22.0.0-py3-none-any.whl (84 kB)\r\n",
      "\u001b[2K   \u001b[90m━━━━━━━━━━━━━━━━━━━━━━━━━━━━━━━━━━━━━━━━\u001b[0m \u001b[32m84.4/84.4 kB\u001b[0m \u001b[31m6.0 MB/s\u001b[0m eta \u001b[36m0:00:00\u001b[0m\r\n",
      "\u001b[?25hDownloading querystring_parser-1.2.4-py2.py3-none-any.whl (7.9 kB)\r\n",
      "Downloading aniso8601-9.0.1-py2.py3-none-any.whl (52 kB)\r\n",
      "\u001b[2K   \u001b[90m━━━━━━━━━━━━━━━━━━━━━━━━━━━━━━━━━━━━━━━━\u001b[0m \u001b[32m52.8/52.8 kB\u001b[0m \u001b[31m4.0 MB/s\u001b[0m eta \u001b[36m0:00:00\u001b[0m\r\n",
      "\u001b[?25hDownloading graphql_core-3.2.3-py3-none-any.whl (202 kB)\r\n",
      "\u001b[2K   \u001b[90m━━━━━━━━━━━━━━━━━━━━━━━━━━━━━━━━━━━━━━━━\u001b[0m \u001b[32m202.9/202.9 kB\u001b[0m \u001b[31m15.8 MB/s\u001b[0m eta \u001b[36m0:00:00\u001b[0m\r\n",
      "\u001b[?25hDownloading graphql_relay-3.2.0-py3-none-any.whl (16 kB)\r\n",
      "Installing collected packages: aniso8601, querystring-parser, graphql-core, cachetools, gunicorn, graphql-relay, graphene, mlflow\r\n",
      "  Attempting uninstall: cachetools\r\n",
      "    Found existing installation: cachetools 4.2.4\r\n",
      "    Uninstalling cachetools-4.2.4:\r\n",
      "      Successfully uninstalled cachetools-4.2.4\r\n",
      "\u001b[31mERROR: pip's dependency resolver does not currently take into account all the packages that are installed. This behaviour is the source of the following dependency conflicts.\r\n",
      "cudf 24.4.1 requires cubinlinker, which is not installed.\r\n",
      "cudf 24.4.1 requires cupy-cuda11x>=12.0.0, which is not installed.\r\n",
      "cudf 24.4.1 requires ptxcompiler, which is not installed.\r\n",
      "cuml 24.4.0 requires cupy-cuda11x>=12.0.0, which is not installed.\r\n",
      "dask-cudf 24.4.1 requires cupy-cuda11x>=12.0.0, which is not installed.\r\n",
      "tensorflow-decision-forests 1.8.1 requires wurlitzer, which is not installed.\r\n",
      "cudf 24.4.1 requires cuda-python<12.0a0,>=11.7.1, but you have cuda-python 12.5.0 which is incompatible.\r\n",
      "kfp 2.5.0 requires google-cloud-storage<3,>=2.2.1, but you have google-cloud-storage 1.44.0 which is incompatible.\r\n",
      "tensorflow 2.15.0 requires keras<2.16,>=2.15.0, but you have keras 3.3.3 which is incompatible.\u001b[0m\u001b[31m\r\n",
      "\u001b[0mSuccessfully installed aniso8601-9.0.1 cachetools-5.3.2 graphene-3.3 graphql-core-3.2.3 graphql-relay-3.2.0 gunicorn-22.0.0 mlflow-2.13.2 querystring-parser-1.2.4\r\n"
     ]
    }
   ],
   "source": [
    "import pandas as pd\n",
    "import numpy as np\n",
    "import matplotlib.pyplot as plt\n",
    "import seaborn as sns\n",
    "import os\n",
    "import shutil\n",
    "import importlib\n",
    "import sys\n",
    "\n",
    "# Determine the environment and import preprocessing module accordingly\n",
    "def is_kaggle():\n",
    "    return 'KAGGLE_KERNEL_RUN_TYPE' in os.environ\n",
    "\n",
    "if is_kaggle():\n",
    "    print(\"Running on Kaggle\")\n",
    "    # Assuming 'preprocessing.py' and other scripts are in '/kaggle/input'\n",
    "    kaggle_input_path = '/kaggle/usr/lib'\n",
    "    sys.path.append(kaggle_input_path)\n",
    "    \n",
    "    import preprocessing_py.preprocessing_py as preprocessing\n",
    "    import models_py.models_py as models\n",
    "    import utils_py.utils_py as utils\n",
    "   \n",
    "    \n",
    "    # Install missing libraries on kaggle\n",
    "    ! pip install torchsummary\n",
    "    ! pip install mlflow\n",
    "else:\n",
    "    print(\"Running locally\")\n",
    "    import scripts.preprocessing as preprocessing\n",
    "    import scripts.models as models\n",
    "    import scripts.utils as utils\n",
    "    \n",
    "    \n",
    "    \n",
    "# Reload the module (if necessary)\n",
    "importlib.reload(preprocessing)\n",
    "importlib.reload(models)\n",
    "importlib.reload(utils)\n",
    "\n",
    "# Other imports\n",
    "import torch\n",
    "import torch.nn as nn\n",
    "import torchvision\n",
    "from torchvision import transforms\n",
    "import torchsummary\n",
    "import torch.optim as optim\n",
    "\n",
    "import tqdm\n",
    "import mlflow\n",
    "import mlflow.pytorch"
   ]
  },
  {
   "cell_type": "code",
   "execution_count": 2,
   "id": "8d30f5b6",
   "metadata": {
    "execution": {
     "iopub.execute_input": "2024-06-10T20:30:59.807339Z",
     "iopub.status.busy": "2024-06-10T20:30:59.806660Z",
     "iopub.status.idle": "2024-06-10T20:30:59.838329Z",
     "shell.execute_reply": "2024-06-10T20:30:59.837300Z"
    },
    "papermill": {
     "duration": 0.046943,
     "end_time": "2024-06-10T20:30:59.840945",
     "exception": false,
     "start_time": "2024-06-10T20:30:59.794002",
     "status": "completed"
    },
    "tags": []
   },
   "outputs": [
    {
     "name": "stdout",
     "output_type": "stream",
     "text": [
      "CUDA is available!  Training on GPU ...\n",
      "cuda:0\n"
     ]
    }
   ],
   "source": [
    "device = utils.use_GPU()"
   ]
  },
  {
   "cell_type": "code",
   "execution_count": 3,
   "id": "41061813",
   "metadata": {
    "ExecuteTime": {
     "end_time": "2024-06-04T14:24:21.972371Z",
     "start_time": "2024-06-04T14:24:21.961718Z"
    },
    "collapsed": false,
    "execution": {
     "iopub.execute_input": "2024-06-10T20:30:59.867814Z",
     "iopub.status.busy": "2024-06-10T20:30:59.867435Z",
     "iopub.status.idle": "2024-06-10T20:31:00.302968Z",
     "shell.execute_reply": "2024-06-10T20:31:00.302096Z"
    },
    "jupyter": {
     "outputs_hidden": false
    },
    "papermill": {
     "duration": 0.451778,
     "end_time": "2024-06-10T20:31:00.305629",
     "exception": false,
     "start_time": "2024-06-10T20:30:59.853851",
     "status": "completed"
    },
    "tags": []
   },
   "outputs": [],
   "source": [
    "if is_kaggle():\n",
    "    path = \"/kaggle/input/ssl/pytorch/uploaded/1\"\n",
    "else:\n",
    "    path=\".\"\n",
    "    \n",
    "\n",
    "model = models.StormSqueezeNet()\n",
    "StormModel = model.to(device)\n",
    "\n",
    "model = models.SqueezeNet()  # untill we pass to new version\n",
    "model.load_state_dict(torch.load(os.path.join(path,\"netFromSSL_10e.pth\")))\n",
    "SSLmodel = model.to(device)"
   ]
  },
  {
   "cell_type": "code",
   "execution_count": 4,
   "id": "2316d2e0",
   "metadata": {
    "ExecuteTime": {
     "end_time": "2024-06-04T14:34:04.612770Z",
     "start_time": "2024-06-04T14:34:04.593346Z"
    },
    "collapsed": false,
    "execution": {
     "iopub.execute_input": "2024-06-10T20:31:00.339094Z",
     "iopub.status.busy": "2024-06-10T20:31:00.338571Z",
     "iopub.status.idle": "2024-06-10T20:31:01.080783Z",
     "shell.execute_reply": "2024-06-10T20:31:01.079558Z"
    },
    "jupyter": {
     "outputs_hidden": false
    },
    "papermill": {
     "duration": 0.76156,
     "end_time": "2024-06-10T20:31:01.084373",
     "exception": false,
     "start_time": "2024-06-10T20:31:00.322813",
     "status": "completed"
    },
    "tags": []
   },
   "outputs": [
    {
     "name": "stdout",
     "output_type": "stream",
     "text": [
      "----------------------------------------------------------------\n",
      "        Layer (type)               Output Shape         Param #\n",
      "================================================================\n",
      "            Conv2d-1         [-1, 64, 111, 111]           1,792\n",
      "              ReLU-2         [-1, 64, 111, 111]               0\n",
      "         MaxPool2d-3           [-1, 64, 55, 55]               0\n",
      "            Conv2d-4           [-1, 16, 55, 55]           1,040\n",
      "              ReLU-5           [-1, 16, 55, 55]               0\n",
      "            Conv2d-6           [-1, 64, 55, 55]           1,088\n",
      "              ReLU-7           [-1, 64, 55, 55]               0\n",
      "            Conv2d-8           [-1, 64, 55, 55]           9,280\n",
      "              ReLU-9           [-1, 64, 55, 55]               0\n",
      "             Fire-10          [-1, 128, 55, 55]               0\n",
      "           Conv2d-11           [-1, 16, 55, 55]           2,064\n",
      "             ReLU-12           [-1, 16, 55, 55]               0\n",
      "           Conv2d-13           [-1, 64, 55, 55]           1,088\n",
      "             ReLU-14           [-1, 64, 55, 55]               0\n",
      "           Conv2d-15           [-1, 64, 55, 55]           9,280\n",
      "             ReLU-16           [-1, 64, 55, 55]               0\n",
      "             Fire-17          [-1, 128, 55, 55]               0\n",
      "        MaxPool2d-18          [-1, 128, 27, 27]               0\n",
      "           Conv2d-19           [-1, 32, 27, 27]           4,128\n",
      "             ReLU-20           [-1, 32, 27, 27]               0\n",
      "           Conv2d-21          [-1, 128, 27, 27]           4,224\n",
      "             ReLU-22          [-1, 128, 27, 27]               0\n",
      "           Conv2d-23          [-1, 128, 27, 27]          36,992\n",
      "             ReLU-24          [-1, 128, 27, 27]               0\n",
      "             Fire-25          [-1, 256, 27, 27]               0\n",
      "           Conv2d-26           [-1, 32, 27, 27]           8,224\n",
      "             ReLU-27           [-1, 32, 27, 27]               0\n",
      "           Conv2d-28          [-1, 128, 27, 27]           4,224\n",
      "             ReLU-29          [-1, 128, 27, 27]               0\n",
      "           Conv2d-30          [-1, 128, 27, 27]          36,992\n",
      "             ReLU-31          [-1, 128, 27, 27]               0\n",
      "             Fire-32          [-1, 256, 27, 27]               0\n",
      "        MaxPool2d-33          [-1, 256, 13, 13]               0\n",
      "           Conv2d-34           [-1, 48, 13, 13]          12,336\n",
      "             ReLU-35           [-1, 48, 13, 13]               0\n",
      "           Conv2d-36          [-1, 192, 13, 13]           9,408\n",
      "             ReLU-37          [-1, 192, 13, 13]               0\n",
      "           Conv2d-38          [-1, 192, 13, 13]          83,136\n",
      "             ReLU-39          [-1, 192, 13, 13]               0\n",
      "             Fire-40          [-1, 384, 13, 13]               0\n",
      "           Conv2d-41           [-1, 48, 13, 13]          18,480\n",
      "             ReLU-42           [-1, 48, 13, 13]               0\n",
      "           Conv2d-43          [-1, 192, 13, 13]           9,408\n",
      "             ReLU-44          [-1, 192, 13, 13]               0\n",
      "           Conv2d-45          [-1, 192, 13, 13]          83,136\n",
      "             ReLU-46          [-1, 192, 13, 13]               0\n",
      "             Fire-47          [-1, 384, 13, 13]               0\n",
      "           Conv2d-48           [-1, 64, 13, 13]          24,640\n",
      "             ReLU-49           [-1, 64, 13, 13]               0\n",
      "           Conv2d-50          [-1, 256, 13, 13]          16,640\n",
      "             ReLU-51          [-1, 256, 13, 13]               0\n",
      "           Conv2d-52          [-1, 256, 13, 13]         147,712\n",
      "             ReLU-53          [-1, 256, 13, 13]               0\n",
      "             Fire-54          [-1, 512, 13, 13]               0\n",
      "           Conv2d-55           [-1, 64, 13, 13]          32,832\n",
      "             ReLU-56           [-1, 64, 13, 13]               0\n",
      "           Conv2d-57          [-1, 256, 13, 13]          16,640\n",
      "             ReLU-58          [-1, 256, 13, 13]               0\n",
      "           Conv2d-59          [-1, 256, 13, 13]         147,712\n",
      "             ReLU-60          [-1, 256, 13, 13]               0\n",
      "             Fire-61          [-1, 512, 13, 13]               0\n",
      "          Dropout-62          [-1, 512, 13, 13]               0\n",
      "           Conv2d-63          [-1, 251, 13, 13]         128,763\n",
      "             ReLU-64          [-1, 251, 13, 13]               0\n",
      "AdaptiveAvgPool2d-65            [-1, 251, 1, 1]               0\n",
      "================================================================\n",
      "Total params: 851,259\n",
      "Trainable params: 851,259\n",
      "Non-trainable params: 0\n",
      "----------------------------------------------------------------\n",
      "Input size (MB): 0.57\n",
      "Forward/backward pass size (MB): 51.83\n",
      "Params size (MB): 3.25\n",
      "Estimated Total Size (MB): 55.65\n",
      "----------------------------------------------------------------\n"
     ]
    }
   ],
   "source": [
    "torchsummary.summary(model, (3, 224, 224));"
   ]
  },
  {
   "cell_type": "code",
   "execution_count": 5,
   "id": "bd856fe0",
   "metadata": {
    "ExecuteTime": {
     "end_time": "2024-06-03T16:31:14.275625Z",
     "start_time": "2024-06-03T16:30:54.879615Z"
    },
    "collapsed": false,
    "execution": {
     "iopub.execute_input": "2024-06-10T20:31:01.110560Z",
     "iopub.status.busy": "2024-06-10T20:31:01.110133Z",
     "iopub.status.idle": "2024-06-10T20:31:01.118792Z",
     "shell.execute_reply": "2024-06-10T20:31:01.117753Z"
    },
    "jupyter": {
     "outputs_hidden": false
    },
    "papermill": {
     "duration": 0.024353,
     "end_time": "2024-06-10T20:31:01.121006",
     "exception": false,
     "start_time": "2024-06-10T20:31:01.096653",
     "status": "completed"
    },
    "tags": []
   },
   "outputs": [],
   "source": [
    "# Load data\n",
    "if not is_kaggle():\n",
    "\n",
    "    # check if the train folder is  already created\n",
    "    if not os.path.exists('data/train'):\n",
    "        folder_structure = preprocessing.create_dataset()\n",
    "        # transform it in a dataframe and list the number of images per class in the folders\n",
    "        a = pd.DataFrame([(k, len(v)) for k,v in folder_structure[0].items()], \n",
    "                            columns=['class', 'count'])\n",
    "        b = pd.DataFrame([(k, len(v)) for k,v in folder_structure[1].items()], \n",
    "                            columns=['class', 'count'])\n",
    "        image_counts = pd.merge(a, \n",
    "                                b, \n",
    "                                on='class', \n",
    "                                how='outer', \n",
    "                                suffixes=('_train', '_test'))\n",
    "        \n",
    "        \n",
    "        image_counts.loc[np.argmin(image_counts['count_train']),:]\n",
    "        # create a validation set\n",
    "        preprocessing.create_validation(42);"
   ]
  },
  {
   "cell_type": "code",
   "execution_count": 6,
   "id": "ffbb2f45",
   "metadata": {
    "execution": {
     "iopub.execute_input": "2024-06-10T20:31:01.147974Z",
     "iopub.status.busy": "2024-06-10T20:31:01.147627Z",
     "iopub.status.idle": "2024-06-10T20:31:02.200818Z",
     "shell.execute_reply": "2024-06-10T20:31:02.199468Z"
    },
    "papermill": {
     "duration": 1.070081,
     "end_time": "2024-06-10T20:31:02.203342",
     "exception": false,
     "start_time": "2024-06-10T20:31:01.133261",
     "status": "completed"
    },
    "tags": []
   },
   "outputs": [
    {
     "name": "stdout",
     "output_type": "stream",
     "text": [
      "__notebook__.ipynb\r\n"
     ]
    }
   ],
   "source": [
    "ls"
   ]
  },
  {
   "cell_type": "code",
   "execution_count": 7,
   "id": "acb2e5ee",
   "metadata": {
    "execution": {
     "iopub.execute_input": "2024-06-10T20:31:02.228907Z",
     "iopub.status.busy": "2024-06-10T20:31:02.228486Z",
     "iopub.status.idle": "2024-06-10T20:31:02.233692Z",
     "shell.execute_reply": "2024-06-10T20:31:02.232721Z"
    },
    "papermill": {
     "duration": 0.020706,
     "end_time": "2024-06-10T20:31:02.235945",
     "exception": false,
     "start_time": "2024-06-10T20:31:02.215239",
     "status": "completed"
    },
    "tags": []
   },
   "outputs": [],
   "source": [
    "if is_kaggle():\n",
    "    im_dir = '/kaggle/input/food-dataset-sl/'\n",
    "else:\n",
    "    im_dir ='.'  "
   ]
  },
  {
   "cell_type": "code",
   "execution_count": 8,
   "id": "61095883",
   "metadata": {
    "execution": {
     "iopub.execute_input": "2024-06-10T20:31:02.259571Z",
     "iopub.status.busy": "2024-06-10T20:31:02.259265Z",
     "iopub.status.idle": "2024-06-10T20:31:02.266195Z",
     "shell.execute_reply": "2024-06-10T20:31:02.265306Z"
    },
    "papermill": {
     "duration": 0.020996,
     "end_time": "2024-06-10T20:31:02.268453",
     "exception": false,
     "start_time": "2024-06-10T20:31:02.247457",
     "status": "completed"
    },
    "tags": []
   },
   "outputs": [
    {
     "data": {
      "text/plain": [
       "'/kaggle/input/food-dataset-sl/'"
      ]
     },
     "execution_count": 8,
     "metadata": {},
     "output_type": "execute_result"
    }
   ],
   "source": [
    "im_dir"
   ]
  },
  {
   "cell_type": "code",
   "execution_count": 9,
   "id": "9ac74bff",
   "metadata": {
    "ExecuteTime": {
     "end_time": "2024-06-03T17:08:44.782398Z",
     "start_time": "2024-06-03T17:08:44.644528Z"
    },
    "collapsed": false,
    "execution": {
     "iopub.execute_input": "2024-06-10T20:31:02.292540Z",
     "iopub.status.busy": "2024-06-10T20:31:02.292173Z",
     "iopub.status.idle": "2024-06-10T20:31:21.564726Z",
     "shell.execute_reply": "2024-06-10T20:31:21.563712Z"
    },
    "jupyter": {
     "outputs_hidden": false
    },
    "papermill": {
     "duration": 19.287436,
     "end_time": "2024-06-10T20:31:21.567467",
     "exception": false,
     "start_time": "2024-06-10T20:31:02.280031",
     "status": "completed"
    },
    "tags": []
   },
   "outputs": [],
   "source": [
    "transform = transforms.Compose([\n",
    "    # resize \n",
    "    transforms.Resize((224, 224)),\n",
    "    transforms.RandomHorizontalFlip(),\n",
    "    transforms.RandomCrop(224),\n",
    "    transforms.ToTensor(),\n",
    "    # Normalize pixel values\n",
    "    transforms.Normalize(mean=[0.485, 0.456, 0.406], std=[0.229, 0.224, 0.225]),\n",
    "])\n",
    "\n",
    "\n",
    "# Load the training dataset\n",
    "trainset = torchvision.datasets.ImageFolder(root=os.path.join(im_dir,'data/train'), transform=transform)\n",
    "\n",
    "# Create data loader for training data with batch size 4 and shuffling\n",
    "trainloader = torch.utils.data.DataLoader(trainset, batch_size=8, shuffle=True, num_workers=4)\n",
    "\n",
    "valset = torchvision.datasets.ImageFolder(root=os.path.join(im_dir,'data/val'), transform=transform)\n",
    "\n",
    "valloader = torch.utils.data.DataLoader(valset, batch_size=16, shuffle=True, num_workers=4)\n",
    "\n",
    "testset = torchvision.datasets.ImageFolder(root=os.path.join(im_dir,'data/test'), transform=transform)\n",
    "\n",
    "testloader = torch.utils.data.DataLoader(testset, batch_size=1, shuffle=False, num_workers=4)\n"
   ]
  },
  {
   "cell_type": "code",
   "execution_count": 10,
   "id": "a33a59a5",
   "metadata": {
    "execution": {
     "iopub.execute_input": "2024-06-10T20:31:21.592485Z",
     "iopub.status.busy": "2024-06-10T20:31:21.592132Z",
     "iopub.status.idle": "2024-06-10T20:31:21.628492Z",
     "shell.execute_reply": "2024-06-10T20:31:21.627742Z"
    },
    "papermill": {
     "duration": 0.051094,
     "end_time": "2024-06-10T20:31:21.630686",
     "exception": false,
     "start_time": "2024-06-10T20:31:21.579592",
     "status": "completed"
    },
    "tags": []
   },
   "outputs": [],
   "source": [
    "# Define criterion, optimizer and scheduler and other parameters for training\n",
    "opt = \"Adam\"                        # optimizer to be used: [\"Adam\" or \"SGD\"]\n",
    "momentum = 0.9                      # momentum ONLY for SGD optimizer\n",
    "weight_decay = 1e-4                 # weight decay ONLY on Adam optimizer\n",
    "step_size = 7                       # step size for the scheduler\n",
    "gamma = 0.1                         # gamma for the scheduler\n",
    "\n",
    "batch_size = 8                      # batch size\n",
    "num_epochs=10                       # number of epochs\n",
    "patience = 3                        # patience for early stopping\n",
    "criterion =\"CrossEntropyLoss\"       # loss function to be used: [\"CrossEntropyLoss\", \"MSELoss\", \"L1Loss\", \"NLLLoss\"]\n",
    "lr = 5e-5                           # learning rate\n",
    "\n",
    "model_name = \"squeezenet\"           # model name\n",
    "model = models.SqueezeNet()         # model\n",
    "\n",
    "\n",
    "\n",
    "#set the optimizer\n",
    "if opt == \"Adam\":\n",
    "    optimizer = optim.Adam(model.parameters(), lr=lr, weight_decay=weight_decay)\n",
    "elif opt == \"SGD\":\n",
    "    optimizer = optim.SGD(model.parameters(), lr=lr, momentum=momentum)\n",
    "else:\n",
    "    print(\"Invalid optimizer\")\n",
    "\n",
    "#set the criterion\n",
    "if criterion == \"CrossEntropyLoss\":\n",
    "    criterion = nn.CrossEntropyLoss()\n",
    "elif criterion == \"MSELoss\":\n",
    "    criterion = nn.MSELoss()\n",
    "elif criterion == \"L1Loss\":\n",
    "    criterion = nn.L1Loss()\n",
    "elif criterion == \"NLLLoss\":\n",
    "    criterion = nn.NLLLoss()\n",
    "else:\n",
    "    print(\"Invalid criterion\")\n",
    "\n",
    "#set the scheduler\n",
    "scheduler = optim.lr_scheduler.StepLR(optimizer, step_size=step_size, gamma=gamma)\n",
    "\n",
    "# Upload model to correct device\n",
    "model = model.to(device)"
   ]
  },
  {
   "cell_type": "code",
   "execution_count": 11,
   "id": "6babac72",
   "metadata": {
    "execution": {
     "iopub.execute_input": "2024-06-10T20:31:21.654966Z",
     "iopub.status.busy": "2024-06-10T20:31:21.654306Z",
     "iopub.status.idle": "2024-06-10T20:31:21.664748Z",
     "shell.execute_reply": "2024-06-10T20:31:21.663780Z"
    },
    "papermill": {
     "duration": 0.024854,
     "end_time": "2024-06-10T20:31:21.666814",
     "exception": false,
     "start_time": "2024-06-10T20:31:21.641960",
     "status": "completed"
    },
    "tags": []
   },
   "outputs": [],
   "source": [
    "def set_training_parameters(model, model_name, opt, lr, weight_decay, momentum, criterion, step_size, gamma, num_epochs, patience, device):\n",
    "\n",
    "    #set the optimizer\n",
    "    if opt == \"Adam\":\n",
    "        optimizer = optim.Adam(model.parameters(), lr=lr, weight_decay=weight_decay)\n",
    "    elif opt == \"SGD\":\n",
    "        optimizer = optim.SGD(model.parameters(), lr=lr, momentum=momentum)\n",
    "    else:\n",
    "        print(\"Invalid optimizer\")\n",
    "\n",
    "    #set the criterion\n",
    "    if criterion == \"CrossEntropyLoss\":\n",
    "        criterion = nn.CrossEntropyLoss()\n",
    "    elif criterion == \"MSELoss\":\n",
    "        criterion = nn.MSELoss()\n",
    "    elif criterion == \"L1Loss\":\n",
    "        criterion = nn.L1Loss()\n",
    "    elif criterion == \"NLLLoss\":\n",
    "        criterion = nn.NLLLoss()\n",
    "    else:\n",
    "        print(\"Invalid criterion\")\n",
    "\n",
    "    #set the scheduler\n",
    "    scheduler = optim.lr_scheduler.StepLR(optimizer, step_size=step_size, gamma=gamma)\n",
    "\n",
    "    # Upload model to correct device\n",
    "    model = model.to(device)\n",
    "    \n",
    "    training_parameters = {}\n",
    "    training_parameters['model'] = model\n",
    "    training_parameters['model_name'] = model_name\n",
    "    training_parameters['criterion'] = criterion\n",
    "    training_parameters['optimizer'] = optimizer\n",
    "    training_parameters['scheduler'] = scheduler\n",
    "    training_parameters['num_epochs'] = num_epochs\n",
    "    training_parameters['patience'] = patience\n",
    "    \n",
    "    return training_parameters"
   ]
  },
  {
   "cell_type": "code",
   "execution_count": 12,
   "id": "d2220c94",
   "metadata": {
    "ExecuteTime": {
     "end_time": "2024-06-03T17:23:52.036996Z",
     "start_time": "2024-06-03T17:20:54.527188Z"
    },
    "collapsed": false,
    "execution": {
     "iopub.execute_input": "2024-06-10T20:31:21.691353Z",
     "iopub.status.busy": "2024-06-10T20:31:21.691048Z",
     "iopub.status.idle": "2024-06-10T20:31:21.707695Z",
     "shell.execute_reply": "2024-06-10T20:31:21.706766Z"
    },
    "jupyter": {
     "outputs_hidden": false
    },
    "papermill": {
     "duration": 0.03126,
     "end_time": "2024-06-10T20:31:21.709677",
     "exception": false,
     "start_time": "2024-06-10T20:31:21.678417",
     "status": "completed"
    },
    "tags": []
   },
   "outputs": [],
   "source": [
    "# Training function based on above parameters\n",
    "def train_model(model, model_name, trainloader, valloader, criterion, optimizer, scheduler, num_epochs=10, patience=3 ):\n",
    "\n",
    "    mlflow.start_run(run_name=model_name)\n",
    "\n",
    "    # Log model parameters\n",
    "    mlflow.log_param(\"optimizer\", opt)\n",
    "    mlflow.log_param(\"learning_rate\", lr)\n",
    "    mlflow.log_param(\"batch_size\", batch_size)\n",
    "    mlflow.log_param(\"num_epochs\", num_epochs)\n",
    "    mlflow.log_param(\"momentum\", momentum)\n",
    "    mlflow.log_param(\"weight_decay\", weight_decay)\n",
    "    mlflow.log_param(\"step_size\", step_size)\n",
    "    mlflow.log_param(\"gamma\", gamma)\n",
    "    mlflow.log_param(\"patience\", patience)\n",
    "\n",
    "\n",
    "    patience_counter = 0\n",
    "    best_model = None\n",
    "    best_loss = np.inf\n",
    "        \n",
    "    for epoch in range(num_epochs):\n",
    "        model.train()  # Set model to training mode\n",
    "        running_loss = 0.0\n",
    "        train_loader_tqdm = tqdm.tqdm(trainloader, desc=f\"Epoch {epoch+1}/{num_epochs}\", \n",
    "                                unit=\"batch\")\n",
    "        ind_rloss=1\n",
    "        for inputs, labels in train_loader_tqdm:\n",
    "            inputs, labels = inputs.to(device), labels.to(device)\n",
    "\n",
    "            # Zero the parameter gradients\n",
    "            optimizer.zero_grad()\n",
    "\n",
    "            # Forward pass\n",
    "            outputs = model(inputs)\n",
    "            loss = criterion(outputs, labels)\n",
    "\n",
    "            # Backward pass and optimize\n",
    "            loss.backward()\n",
    "            optimizer.step()\n",
    "\n",
    "            # Print statistics\n",
    "            running_loss += loss.item()\n",
    "            train_loader_tqdm.set_postfix(loss=running_loss / ind_rloss)\n",
    "            ind_rloss +=1\n",
    "\n",
    "        epoch_loss = running_loss / len(trainloader)\n",
    "        print(f'Epoch [{epoch+1}/{num_epochs}], Loss: {epoch_loss:.4f}')\n",
    "\n",
    "        scheduler.step()\n",
    "        mlflow.log_metric(\"train_loss\", epoch_loss, step=epoch)\n",
    "        \n",
    "        # Validation loop (optional)\n",
    "        model.eval()  # Set model to evaluation mode\n",
    "        val_loss = 0.0\n",
    "        correct = 0\n",
    "        total = 0\n",
    "\n",
    "        with torch.no_grad():\n",
    "            for inputs, labels in valloader:\n",
    "                inputs, labels = inputs.to(device), labels.to(device)\n",
    "\n",
    "                outputs = model(inputs)\n",
    "                loss = criterion(outputs, labels)\n",
    "                val_loss += loss.item()\n",
    "\n",
    "                _, predicted = torch.max(outputs.data, 1)\n",
    "                total += labels.size(0)\n",
    "                correct += (predicted == labels).sum().item()\n",
    "\n",
    "        val_loss /= len(valloader)\n",
    "        val_accuracy = 100 * correct / total\n",
    "        print(f'Validation Loss: {val_loss:.4f}, Validation Accuracy: {val_accuracy:.2f}%')\n",
    "        \n",
    "        # Log validation loss and accuracy\n",
    "        mlflow.log_metric(\"val_loss\", val_loss, step=epoch)\n",
    "        mlflow.log_metric(\"val_accuracy\", val_accuracy, step=epoch)\n",
    "        \n",
    "        # Early stopping\n",
    "        if val_loss < best_loss:\n",
    "            best_loss = val_loss\n",
    "            best_model = model\n",
    "            patience_counter = 0\n",
    "        else:\n",
    "            patience_counter += 1\n",
    "            if patience_counter > patience:\n",
    "                print(\"Early stopping\")\n",
    "                break\n",
    "                    \n",
    "    # Log the model\n",
    "    mlflow.pytorch.log_model(best_model, model_name)\n",
    "\n",
    "    # End the MLflow run\n",
    "    mlflow.end_run()\n",
    "\n",
    "    print('Finished Training')\n"
   ]
  },
  {
   "cell_type": "markdown",
   "id": "028df57a",
   "metadata": {
    "papermill": {
     "duration": 0.011358,
     "end_time": "2024-06-10T20:31:21.732684",
     "exception": false,
     "start_time": "2024-06-10T20:31:21.721326",
     "status": "completed"
    },
    "tags": []
   },
   "source": []
  },
  {
   "cell_type": "code",
   "execution_count": 13,
   "id": "87569f92",
   "metadata": {
    "execution": {
     "iopub.execute_input": "2024-06-10T20:31:21.758648Z",
     "iopub.status.busy": "2024-06-10T20:31:21.758304Z",
     "iopub.status.idle": "2024-06-10T20:31:21.766103Z",
     "shell.execute_reply": "2024-06-10T20:31:21.765125Z"
    },
    "papermill": {
     "duration": 0.023465,
     "end_time": "2024-06-10T20:31:21.768325",
     "exception": false,
     "start_time": "2024-06-10T20:31:21.744860",
     "status": "completed"
    },
    "tags": []
   },
   "outputs": [],
   "source": [
    "def Save_mlruns():\n",
    "    print(\"moving to working directory...\")\n",
    "    ! cd /kaggle/working/\n",
    "    print(\"zipping directory...\")\n",
    "    ! zip -r mlruns.zip mlruns\n",
    "    print(\"!!REMEMBER TO DOWNLOAD IT FROM THE OUTPUT SECTION!!\")\n",
    "    print(\"back to home directory...\")\n",
    "    ! cd "
   ]
  },
  {
   "cell_type": "code",
   "execution_count": 14,
   "id": "decbf37c",
   "metadata": {
    "execution": {
     "iopub.execute_input": "2024-06-10T20:31:21.793863Z",
     "iopub.status.busy": "2024-06-10T20:31:21.793219Z",
     "iopub.status.idle": "2024-06-10T21:23:47.683680Z",
     "shell.execute_reply": "2024-06-10T21:23:47.682577Z"
    },
    "papermill": {
     "duration": 3146.289016,
     "end_time": "2024-06-10T21:23:48.069324",
     "exception": false,
     "start_time": "2024-06-10T20:31:21.780308",
     "status": "completed"
    },
    "tags": []
   },
   "outputs": [
    {
     "name": "stderr",
     "output_type": "stream",
     "text": [
      "Epoch 1/10: 100%|██████████| 11860/11860 [04:38<00:00, 42.58batch/s, loss=5.06]"
     ]
    },
    {
     "name": "stdout",
     "output_type": "stream",
     "text": [
      "Epoch [1/10], Loss: 5.0589\n"
     ]
    },
    {
     "name": "stderr",
     "output_type": "stream",
     "text": [
      "\n"
     ]
    },
    {
     "name": "stdout",
     "output_type": "stream",
     "text": [
      "Validation Loss: 4.6541, Validation Accuracy: 6.39%\n"
     ]
    },
    {
     "name": "stderr",
     "output_type": "stream",
     "text": [
      "Epoch 2/10: 100%|██████████| 11860/11860 [04:28<00:00, 44.25batch/s, loss=4.74]\n"
     ]
    },
    {
     "name": "stdout",
     "output_type": "stream",
     "text": [
      "Epoch [2/10], Loss: 4.7421\n",
      "Validation Loss: 4.4402, Validation Accuracy: 8.82%\n"
     ]
    },
    {
     "name": "stderr",
     "output_type": "stream",
     "text": [
      "Epoch 3/10: 100%|██████████| 11860/11860 [04:34<00:00, 43.14batch/s, loss=4.57]"
     ]
    },
    {
     "name": "stdout",
     "output_type": "stream",
     "text": [
      "Epoch [3/10], Loss: 4.5688\n"
     ]
    },
    {
     "name": "stderr",
     "output_type": "stream",
     "text": [
      "\n"
     ]
    },
    {
     "name": "stdout",
     "output_type": "stream",
     "text": [
      "Validation Loss: 4.3028, Validation Accuracy: 11.01%\n"
     ]
    },
    {
     "name": "stderr",
     "output_type": "stream",
     "text": [
      "Epoch 4/10: 100%|██████████| 11860/11860 [04:40<00:00, 42.21batch/s, loss=4.43]"
     ]
    },
    {
     "name": "stdout",
     "output_type": "stream",
     "text": [
      "Epoch [4/10], Loss: 4.4292\n"
     ]
    },
    {
     "name": "stderr",
     "output_type": "stream",
     "text": [
      "\n"
     ]
    },
    {
     "name": "stdout",
     "output_type": "stream",
     "text": [
      "Validation Loss: 4.1675, Validation Accuracy: 12.77%\n"
     ]
    },
    {
     "name": "stderr",
     "output_type": "stream",
     "text": [
      "Epoch 5/10: 100%|██████████| 11860/11860 [04:27<00:00, 44.41batch/s, loss=4.32]"
     ]
    },
    {
     "name": "stdout",
     "output_type": "stream",
     "text": [
      "Epoch [5/10], Loss: 4.3198\n"
     ]
    },
    {
     "name": "stderr",
     "output_type": "stream",
     "text": [
      "\n"
     ]
    },
    {
     "name": "stdout",
     "output_type": "stream",
     "text": [
      "Validation Loss: 4.0937, Validation Accuracy: 14.28%\n"
     ]
    },
    {
     "name": "stderr",
     "output_type": "stream",
     "text": [
      "Epoch 6/10: 100%|██████████| 11860/11860 [04:27<00:00, 44.27batch/s, loss=4.22]"
     ]
    },
    {
     "name": "stdout",
     "output_type": "stream",
     "text": [
      "Epoch [6/10], Loss: 4.2196\n"
     ]
    },
    {
     "name": "stderr",
     "output_type": "stream",
     "text": [
      "\n"
     ]
    },
    {
     "name": "stdout",
     "output_type": "stream",
     "text": [
      "Validation Loss: 3.9641, Validation Accuracy: 16.06%\n"
     ]
    },
    {
     "name": "stderr",
     "output_type": "stream",
     "text": [
      "Epoch 7/10: 100%|██████████| 11860/11860 [04:28<00:00, 44.20batch/s, loss=4.12]"
     ]
    },
    {
     "name": "stdout",
     "output_type": "stream",
     "text": [
      "Epoch [7/10], Loss: 4.1231\n"
     ]
    },
    {
     "name": "stderr",
     "output_type": "stream",
     "text": [
      "\n"
     ]
    },
    {
     "name": "stdout",
     "output_type": "stream",
     "text": [
      "Validation Loss: 3.8718, Validation Accuracy: 17.73%\n"
     ]
    },
    {
     "name": "stderr",
     "output_type": "stream",
     "text": [
      "Epoch 8/10: 100%|██████████| 11860/11860 [04:28<00:00, 44.22batch/s, loss=4.05]"
     ]
    },
    {
     "name": "stdout",
     "output_type": "stream",
     "text": [
      "Epoch [8/10], Loss: 4.0496\n"
     ]
    },
    {
     "name": "stderr",
     "output_type": "stream",
     "text": [
      "\n"
     ]
    },
    {
     "name": "stdout",
     "output_type": "stream",
     "text": [
      "Validation Loss: 3.8231, Validation Accuracy: 18.39%\n"
     ]
    },
    {
     "name": "stderr",
     "output_type": "stream",
     "text": [
      "Epoch 9/10: 100%|██████████| 11860/11860 [04:32<00:00, 43.51batch/s, loss=3.98]"
     ]
    },
    {
     "name": "stdout",
     "output_type": "stream",
     "text": [
      "Epoch [9/10], Loss: 3.9762\n"
     ]
    },
    {
     "name": "stderr",
     "output_type": "stream",
     "text": [
      "\n"
     ]
    },
    {
     "name": "stdout",
     "output_type": "stream",
     "text": [
      "Validation Loss: 3.7667, Validation Accuracy: 19.19%\n"
     ]
    },
    {
     "name": "stderr",
     "output_type": "stream",
     "text": [
      "Epoch 10/10: 100%|██████████| 11860/11860 [04:30<00:00, 43.81batch/s, loss=3.92]"
     ]
    },
    {
     "name": "stdout",
     "output_type": "stream",
     "text": [
      "Epoch [10/10], Loss: 3.9152\n"
     ]
    },
    {
     "name": "stderr",
     "output_type": "stream",
     "text": [
      "\n"
     ]
    },
    {
     "name": "stdout",
     "output_type": "stream",
     "text": [
      "Validation Loss: 3.6817, Validation Accuracy: 20.93%\n",
      "Finished Training\n"
     ]
    }
   ],
   "source": [
    "# example of training \n",
    "\n",
    "# Define criterion, optimizer and scheduler and other parameters for training\n",
    "opt = \"Adam\"                        # optimizer to be used: [\"Adam\" or \"SGD\"]\n",
    "momentum = 0.9                      # momentum ONLY for SGD optimizer\n",
    "weight_decay = 1e-4                 # weight decay ONLY on Adam optimizer\n",
    "step_size = 50                      # step size for the scheduler\n",
    "gamma = 0.5                         # gamma for the scheduler\n",
    "\n",
    "batch_size = 64                      # batch size\n",
    "num_epochs=10                       # number of epochs\n",
    "patience = 3                        # patience for early stopping\n",
    "criterion =\"CrossEntropyLoss\"       # loss function to be used: [\"CrossEntropyLoss\", \"MSELoss\", \"L1Loss\", \"NLLLoss\"]\n",
    "lr = 5e-5                           # learning rate\n",
    "\n",
    "model_name = \"StormModel_1.0\"           # model name\n",
    "model =  StormModel      # model, StormModel, SSLmodel\n",
    "\n",
    "tr_param = set_training_parameters(model=model,model_name = model_name, opt=opt, lr=lr, weight_decay=weight_decay, \n",
    "                                   momentum=momentum, criterion=criterion, step_size=step_size, gamma=gamma, num_epochs=num_epochs, \n",
    "                                   patience=patience, device=device)\n",
    "\n",
    "#stop eventual mlflow runs\n",
    "mlflow.end_run()\n",
    "train_model(**tr_param, trainloader=trainloader, valloader=valloader)"
   ]
  },
  {
   "cell_type": "code",
   "execution_count": 15,
   "id": "f98273c9",
   "metadata": {
    "execution": {
     "iopub.execute_input": "2024-06-10T21:24:13.826246Z",
     "iopub.status.busy": "2024-06-10T21:24:13.825293Z",
     "iopub.status.idle": "2024-06-10T21:24:17.050845Z",
     "shell.execute_reply": "2024-06-10T21:24:17.049586Z"
    },
    "papermill": {
     "duration": 15.862065,
     "end_time": "2024-06-10T21:24:17.053387",
     "exception": false,
     "start_time": "2024-06-10T21:24:01.191322",
     "status": "completed"
    },
    "tags": []
   },
   "outputs": [
    {
     "name": "stdout",
     "output_type": "stream",
     "text": [
      "moving to working directory...\n",
      "zipping directory...\n",
      "  adding: mlruns/ (stored 0%)\r\n",
      "  adding: mlruns/0/ (stored 0%)\r\n",
      "  adding: mlruns/0/meta.yaml (deflated 24%)\r\n",
      "  adding: mlruns/0/19889da6bed342e6a1378cca8adbc2bf/ (stored 0%)\r\n",
      "  adding: mlruns/0/19889da6bed342e6a1378cca8adbc2bf/metrics/ (stored 0%)\r\n",
      "  adding: mlruns/0/19889da6bed342e6a1378cca8adbc2bf/metrics/train_loss (deflated 50%)\r\n",
      "  adding: mlruns/0/19889da6bed342e6a1378cca8adbc2bf/metrics/val_accuracy (deflated 50%)\r\n",
      "  adding: mlruns/0/19889da6bed342e6a1378cca8adbc2bf/metrics/val_loss (deflated 51%)\r\n",
      "  adding: mlruns/0/19889da6bed342e6a1378cca8adbc2bf/artifacts/ (stored 0%)\r\n",
      "  adding: mlruns/0/19889da6bed342e6a1378cca8adbc2bf/artifacts/StormModel_1.0/ (stored 0%)\r\n",
      "  adding: mlruns/0/19889da6bed342e6a1378cca8adbc2bf/artifacts/StormModel_1.0/python_env.yaml (deflated 19%)\r\n",
      "  adding: mlruns/0/19889da6bed342e6a1378cca8adbc2bf/artifacts/StormModel_1.0/data/ (stored 0%)\r\n",
      "  adding: mlruns/0/19889da6bed342e6a1378cca8adbc2bf/artifacts/StormModel_1.0/data/pickle_module_info.txt (stored 0%)\r\n",
      "  adding: mlruns/0/19889da6bed342e6a1378cca8adbc2bf/artifacts/StormModel_1.0/data/model.pth (deflated 8%)\r\n",
      "  adding: mlruns/0/19889da6bed342e6a1378cca8adbc2bf/artifacts/StormModel_1.0/metadata/ (stored 0%)\r\n",
      "  adding: mlruns/0/19889da6bed342e6a1378cca8adbc2bf/artifacts/StormModel_1.0/metadata/python_env.yaml (deflated 19%)\r\n",
      "  adding: mlruns/0/19889da6bed342e6a1378cca8adbc2bf/artifacts/StormModel_1.0/metadata/requirements.txt (deflated 35%)\r\n",
      "  adding: mlruns/0/19889da6bed342e6a1378cca8adbc2bf/artifacts/StormModel_1.0/metadata/MLmodel (deflated 44%)\r\n",
      "  adding: mlruns/0/19889da6bed342e6a1378cca8adbc2bf/artifacts/StormModel_1.0/metadata/conda.yaml (deflated 44%)\r\n",
      "  adding: mlruns/0/19889da6bed342e6a1378cca8adbc2bf/artifacts/StormModel_1.0/requirements.txt (deflated 35%)\r\n",
      "  adding: mlruns/0/19889da6bed342e6a1378cca8adbc2bf/artifacts/StormModel_1.0/MLmodel (deflated 44%)\r\n",
      "  adding: mlruns/0/19889da6bed342e6a1378cca8adbc2bf/artifacts/StormModel_1.0/conda.yaml (deflated 44%)\r\n",
      "  adding: mlruns/0/19889da6bed342e6a1378cca8adbc2bf/meta.yaml (deflated 43%)\r\n",
      "  adding: mlruns/0/19889da6bed342e6a1378cca8adbc2bf/params/ (stored 0%)\r\n",
      "  adding: mlruns/0/19889da6bed342e6a1378cca8adbc2bf/params/momentum (stored 0%)\r\n",
      "  adding: mlruns/0/19889da6bed342e6a1378cca8adbc2bf/params/patience (stored 0%)\r\n",
      "  adding: mlruns/0/19889da6bed342e6a1378cca8adbc2bf/params/gamma (stored 0%)\r\n",
      "  adding: mlruns/0/19889da6bed342e6a1378cca8adbc2bf/params/learning_rate (stored 0%)\r\n",
      "  adding: mlruns/0/19889da6bed342e6a1378cca8adbc2bf/params/step_size (stored 0%)\r\n",
      "  adding: mlruns/0/19889da6bed342e6a1378cca8adbc2bf/params/weight_decay (stored 0%)\r\n",
      "  adding: mlruns/0/19889da6bed342e6a1378cca8adbc2bf/params/batch_size (stored 0%)\r\n",
      "  adding: mlruns/0/19889da6bed342e6a1378cca8adbc2bf/params/num_epochs (stored 0%)\r\n",
      "  adding: mlruns/0/19889da6bed342e6a1378cca8adbc2bf/params/optimizer (stored 0%)\r\n",
      "  adding: mlruns/0/19889da6bed342e6a1378cca8adbc2bf/tags/ (stored 0%)\r\n",
      "  adding: mlruns/0/19889da6bed342e6a1378cca8adbc2bf/tags/mlflow.source.name (deflated 3%)\r\n",
      "  adding: mlruns/0/19889da6bed342e6a1378cca8adbc2bf/tags/mlflow.source.type (stored 0%)\r\n",
      "  adding: mlruns/0/19889da6bed342e6a1378cca8adbc2bf/tags/mlflow.log-model.history (deflated 44%)\r\n",
      "  adding: mlruns/0/19889da6bed342e6a1378cca8adbc2bf/tags/mlflow.user (stored 0%)\r\n",
      "  adding: mlruns/0/19889da6bed342e6a1378cca8adbc2bf/tags/mlflow.runName (stored 0%)\r\n",
      "  adding: mlruns/.trash/ (stored 0%)\r\n",
      "!!REMEMBER TO DOWNLOAD IT FROM THE OUTPUT SECTION!!\n",
      "back to home directory...\n"
     ]
    }
   ],
   "source": [
    "if is_kaggle():\n",
    "    Save_mlruns()"
   ]
  }
 ],
 "metadata": {
  "kaggle": {
   "accelerator": "nvidiaTeslaT4",
   "dataSources": [
    {
     "datasetId": 5175452,
     "sourceId": 8646217,
     "sourceType": "datasetVersion"
    },
    {
     "sourceId": 182257654,
     "sourceType": "kernelVersion"
    },
    {
     "sourceId": 182257811,
     "sourceType": "kernelVersion"
    },
    {
     "sourceId": 182257893,
     "sourceType": "kernelVersion"
    },
    {
     "sourceId": 182624921,
     "sourceType": "kernelVersion"
    },
    {
     "isSourceIdPinned": true,
     "modelInstanceId": 53173,
     "sourceId": 63760,
     "sourceType": "modelInstanceVersion"
    }
   ],
   "dockerImageVersionId": 30732,
   "isGpuEnabled": true,
   "isInternetEnabled": true,
   "language": "python",
   "sourceType": "notebook"
  },
  "kernelspec": {
   "display_name": "Python 3",
   "language": "python",
   "name": "python3"
  },
  "language_info": {
   "codemirror_mode": {
    "name": "ipython",
    "version": 3
   },
   "file_extension": ".py",
   "mimetype": "text/x-python",
   "name": "python",
   "nbconvert_exporter": "python",
   "pygments_lexer": "ipython3",
   "version": "3.10.13"
  },
  "papermill": {
   "default_parameters": {},
   "duration": 3258.420962,
   "end_time": "2024-06-10T21:24:32.067290",
   "environment_variables": {},
   "exception": null,
   "input_path": "__notebook__.ipynb",
   "output_path": "__notebook__.ipynb",
   "parameters": {},
   "start_time": "2024-06-10T20:30:13.646328",
   "version": "2.5.0"
  }
 },
 "nbformat": 4,
 "nbformat_minor": 5
}
