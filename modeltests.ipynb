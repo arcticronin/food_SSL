{
 "cells": [
  {
   "cell_type": "code",
   "execution_count": 61,
   "metadata": {},
   "outputs": [
    {
     "data": {
      "text/plain": [
       "<module 'models2' from '/home/ronin/Dev/notebooks/machinelearningformodeling/supervised/project/scripts/models2.py'>"
      ]
     },
     "execution_count": 61,
     "metadata": {},
     "output_type": "execute_result"
    }
   ],
   "source": [
    "import torch\n",
    "import torch.nn as nn\n",
    "import torch.nn.functional as F\n",
    "import torch.optim as optim\n",
    "import numpy as np\n",
    "import torchsummary\n",
    "# import libary models in folder scripts\n",
    "import sys\n",
    "sys.path.append('scripts')\n",
    "import models2\n",
    "from importlib import reload\n",
    "reload(models2)"
   ]
  },
  {
   "cell_type": "code",
   "execution_count": 62,
   "metadata": {},
   "outputs": [],
   "source": [
    "model = models2.ColorizationSqueezeNet()"
   ]
  },
  {
   "cell_type": "code",
   "execution_count": 63,
   "metadata": {},
   "outputs": [
    {
     "name": "stdout",
     "output_type": "stream",
     "text": [
      "==========================================================================================\n",
      "Layer (type:depth-idx)                   Output Shape              Param #\n",
      "==========================================================================================\n",
      "├─Encoder_greyscale: 1-1                 [-1, 512, 13, 13]         --\n",
      "|    └─Sequential: 2-1                   [-1, 512, 13, 13]         --\n",
      "|    |    └─Conv2d: 3-1                  [-1, 64, 111, 111]        640\n",
      "|    |    └─ReLU: 3-2                    [-1, 64, 111, 111]        --\n",
      "|    |    └─MaxPool2d: 3-3               [-1, 64, 55, 55]          --\n",
      "|    |    └─Fire: 3-4                    [-1, 128, 55, 55]         11,408\n",
      "|    |    └─Fire: 3-5                    [-1, 128, 55, 55]         12,432\n",
      "|    |    └─MaxPool2d: 3-6               [-1, 128, 27, 27]         --\n",
      "|    |    └─Fire: 3-7                    [-1, 256, 27, 27]         45,344\n",
      "|    |    └─Fire: 3-8                    [-1, 256, 27, 27]         49,440\n",
      "|    |    └─MaxPool2d: 3-9               [-1, 256, 13, 13]         --\n",
      "|    |    └─Fire: 3-10                   [-1, 384, 13, 13]         104,880\n",
      "|    |    └─Fire: 3-11                   [-1, 384, 13, 13]         111,024\n",
      "|    |    └─Fire: 3-12                   [-1, 512, 13, 13]         188,992\n",
      "|    |    └─Fire: 3-13                   [-1, 512, 13, 13]         197,184\n",
      "├─Decoder: 1-2                           [-1, 3, 208, 208]         --\n",
      "|    └─Sequential: 2-2                   [-1, 3, 208, 208]         --\n",
      "|    |    └─Conv2d: 3-14                 [-1, 256, 13, 13]         131,328\n",
      "|    |    └─ReLU: 3-15                   [-1, 256, 13, 13]         --\n",
      "|    |    └─Upsample: 3-16               [-1, 256, 26, 26]         --\n",
      "|    |    └─FireDecoder: 3-17            [-1, 128, 26, 26]         90,304\n",
      "|    |    └─Upsample: 3-18               [-1, 128, 52, 52]         --\n",
      "|    |    └─FireDecoder: 3-19            [-1, 64, 52, 52]          22,624\n",
      "|    |    └─Upsample: 3-20               [-1, 64, 104, 104]        --\n",
      "|    |    └─FireDecoder: 3-21            [-1, 32, 104, 104]        5,680\n",
      "|    |    └─Upsample: 3-22               [-1, 32, 208, 208]        --\n",
      "|    |    └─FireDecoder: 3-23            [-1, 16, 208, 208]        1,432\n",
      "|    |    └─Conv2d: 3-24                 [-1, 3, 208, 208]         435\n",
      "|    |    └─Tanh: 3-25                   [-1, 3, 208, 208]         --\n",
      "==========================================================================================\n",
      "Total params: 973,147\n",
      "Trainable params: 973,147\n",
      "Non-trainable params: 0\n",
      "Total mult-adds (M): 535.71\n",
      "==========================================================================================\n",
      "Input size (MB): 0.19\n",
      "Forward/backward pass size (MB): 34.64\n",
      "Params size (MB): 3.71\n",
      "Estimated Total Size (MB): 38.54\n",
      "==========================================================================================\n"
     ]
    }
   ],
   "source": [
    "torchsummary.summary(model, (1, 224, 224));"
   ]
  },
  {
   "cell_type": "code",
   "execution_count": null,
   "metadata": {},
   "outputs": [],
   "source": []
  }
 ],
 "metadata": {
  "kernelspec": {
   "display_name": "ai",
   "language": "python",
   "name": "python3"
  },
  "language_info": {
   "codemirror_mode": {
    "name": "ipython",
    "version": 3
   },
   "file_extension": ".py",
   "mimetype": "text/x-python",
   "name": "python",
   "nbconvert_exporter": "python",
   "pygments_lexer": "ipython3",
   "version": "3.12.0"
  }
 },
 "nbformat": 4,
 "nbformat_minor": 2
}
