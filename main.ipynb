{
 "cells": [
  {
   "cell_type": "code",
   "execution_count": 14,
   "id": "initial_id",
   "metadata": {
    "collapsed": true,
    "ExecuteTime": {
     "end_time": "2024-06-04T14:24:21.429316Z",
     "start_time": "2024-06-04T14:24:21.426058Z"
    }
   },
   "outputs": [],
   "source": [
    "import pandas as pd\n",
    "import numpy as np\n",
    "import matplotlib.pyplot as plt\n",
    "import seaborn as sns\n",
    "import os\n",
    "import shutil\n",
    "import importlib\n",
    "import scripts.preprocessing as preprocessing\n",
    "importlib.reload(preprocessing)\n",
    "import torch\n",
    "import torchvision\n",
    "from torchvision import transforms\n",
    "import torchsummary\n",
    "import torch.optim as optim\n",
    "import scripts.models as models"
   ]
  },
  {
   "cell_type": "code",
   "outputs": [],
   "source": [
    "model = models.SqueezeNet()"
   ],
   "metadata": {
    "collapsed": false,
    "ExecuteTime": {
     "end_time": "2024-06-04T14:24:21.972371Z",
     "start_time": "2024-06-04T14:24:21.961718Z"
    }
   },
   "id": "8aec841b882f4ea5",
   "execution_count": 15
  },
  {
   "cell_type": "code",
   "outputs": [
    {
     "name": "stdout",
     "output_type": "stream",
     "text": [
      "==========================================================================================\n",
      "Layer (type:depth-idx)                   Output Shape              Param #\n",
      "==========================================================================================\n",
      "├─Sequential: 1-1                        [-1, 512, 15, 15]         --\n",
      "|    └─Conv2d: 2-1                       [-1, 64, 127, 127]        1,792\n",
      "|    └─ReLU: 2-2                         [-1, 64, 127, 127]        --\n",
      "|    └─MaxPool2d: 2-3                    [-1, 64, 63, 63]          --\n",
      "|    └─Fire: 2-4                         [-1, 128, 63, 63]         --\n",
      "|    |    └─Conv2d: 3-1                  [-1, 16, 63, 63]          1,040\n",
      "|    |    └─ReLU: 3-2                    [-1, 16, 63, 63]          --\n",
      "|    |    └─Conv2d: 3-3                  [-1, 64, 63, 63]          1,088\n",
      "|    |    └─ReLU: 3-4                    [-1, 64, 63, 63]          --\n",
      "|    |    └─Conv2d: 3-5                  [-1, 64, 63, 63]          9,280\n",
      "|    |    └─ReLU: 3-6                    [-1, 64, 63, 63]          --\n",
      "|    └─Fire: 2-5                         [-1, 128, 63, 63]         --\n",
      "|    |    └─Conv2d: 3-7                  [-1, 16, 63, 63]          2,064\n",
      "|    |    └─ReLU: 3-8                    [-1, 16, 63, 63]          --\n",
      "|    |    └─Conv2d: 3-9                  [-1, 64, 63, 63]          1,088\n",
      "|    |    └─ReLU: 3-10                   [-1, 64, 63, 63]          --\n",
      "|    |    └─Conv2d: 3-11                 [-1, 64, 63, 63]          9,280\n",
      "|    |    └─ReLU: 3-12                   [-1, 64, 63, 63]          --\n",
      "|    └─MaxPool2d: 2-6                    [-1, 128, 31, 31]         --\n",
      "|    └─Fire: 2-7                         [-1, 256, 31, 31]         --\n",
      "|    |    └─Conv2d: 3-13                 [-1, 32, 31, 31]          4,128\n",
      "|    |    └─ReLU: 3-14                   [-1, 32, 31, 31]          --\n",
      "|    |    └─Conv2d: 3-15                 [-1, 128, 31, 31]         4,224\n",
      "|    |    └─ReLU: 3-16                   [-1, 128, 31, 31]         --\n",
      "|    |    └─Conv2d: 3-17                 [-1, 128, 31, 31]         36,992\n",
      "|    |    └─ReLU: 3-18                   [-1, 128, 31, 31]         --\n",
      "|    └─Fire: 2-8                         [-1, 256, 31, 31]         --\n",
      "|    |    └─Conv2d: 3-19                 [-1, 32, 31, 31]          8,224\n",
      "|    |    └─ReLU: 3-20                   [-1, 32, 31, 31]          --\n",
      "|    |    └─Conv2d: 3-21                 [-1, 128, 31, 31]         4,224\n",
      "|    |    └─ReLU: 3-22                   [-1, 128, 31, 31]         --\n",
      "|    |    └─Conv2d: 3-23                 [-1, 128, 31, 31]         36,992\n",
      "|    |    └─ReLU: 3-24                   [-1, 128, 31, 31]         --\n",
      "|    └─MaxPool2d: 2-9                    [-1, 256, 15, 15]         --\n",
      "|    └─Fire: 2-10                        [-1, 384, 15, 15]         --\n",
      "|    |    └─Conv2d: 3-25                 [-1, 48, 15, 15]          12,336\n",
      "|    |    └─ReLU: 3-26                   [-1, 48, 15, 15]          --\n",
      "|    |    └─Conv2d: 3-27                 [-1, 192, 15, 15]         9,408\n",
      "|    |    └─ReLU: 3-28                   [-1, 192, 15, 15]         --\n",
      "|    |    └─Conv2d: 3-29                 [-1, 192, 15, 15]         83,136\n",
      "|    |    └─ReLU: 3-30                   [-1, 192, 15, 15]         --\n",
      "|    └─Fire: 2-11                        [-1, 384, 15, 15]         --\n",
      "|    |    └─Conv2d: 3-31                 [-1, 48, 15, 15]          18,480\n",
      "|    |    └─ReLU: 3-32                   [-1, 48, 15, 15]          --\n",
      "|    |    └─Conv2d: 3-33                 [-1, 192, 15, 15]         9,408\n",
      "|    |    └─ReLU: 3-34                   [-1, 192, 15, 15]         --\n",
      "|    |    └─Conv2d: 3-35                 [-1, 192, 15, 15]         83,136\n",
      "|    |    └─ReLU: 3-36                   [-1, 192, 15, 15]         --\n",
      "|    └─Fire: 2-12                        [-1, 512, 15, 15]         --\n",
      "|    |    └─Conv2d: 3-37                 [-1, 64, 15, 15]          24,640\n",
      "|    |    └─ReLU: 3-38                   [-1, 64, 15, 15]          --\n",
      "|    |    └─Conv2d: 3-39                 [-1, 256, 15, 15]         16,640\n",
      "|    |    └─ReLU: 3-40                   [-1, 256, 15, 15]         --\n",
      "|    |    └─Conv2d: 3-41                 [-1, 256, 15, 15]         147,712\n",
      "|    |    └─ReLU: 3-42                   [-1, 256, 15, 15]         --\n",
      "|    └─Fire: 2-13                        [-1, 512, 15, 15]         --\n",
      "|    |    └─Conv2d: 3-43                 [-1, 64, 15, 15]          32,832\n",
      "|    |    └─ReLU: 3-44                   [-1, 64, 15, 15]          --\n",
      "|    |    └─Conv2d: 3-45                 [-1, 256, 15, 15]         16,640\n",
      "|    |    └─ReLU: 3-46                   [-1, 256, 15, 15]         --\n",
      "|    |    └─Conv2d: 3-47                 [-1, 256, 15, 15]         147,712\n",
      "|    |    └─ReLU: 3-48                   [-1, 256, 15, 15]         --\n",
      "├─Sequential: 1-2                        [-1, 251, 1, 1]           --\n",
      "|    └─Dropout: 2-14                     [-1, 512, 15, 15]         --\n",
      "|    └─Conv2d: 2-15                      [-1, 251, 15, 15]         128,763\n",
      "|    └─ReLU: 2-16                        [-1, 251, 15, 15]         --\n",
      "|    └─AdaptiveAvgPool2d: 2-17           [-1, 251, 1, 1]           --\n",
      "==========================================================================================\n",
      "Total params: 851,259\n",
      "Trainable params: 851,259\n",
      "Non-trainable params: 0\n",
      "Total mult-adds (M): 377.38\n",
      "==========================================================================================\n",
      "Input size (MB): 0.75\n",
      "Forward/backward pass size (MB): 24.71\n",
      "Params size (MB): 3.25\n",
      "Estimated Total Size (MB): 28.71\n",
      "==========================================================================================\n"
     ]
    }
   ],
   "source": [
    "torchsummary.summary(model, (3, 256, 256));"
   ],
   "metadata": {
    "collapsed": false,
    "ExecuteTime": {
     "end_time": "2024-06-04T14:34:04.612770Z",
     "start_time": "2024-06-04T14:34:04.593346Z"
    }
   },
   "id": "cd403b9a5a3434e0",
   "execution_count": 19
  },
  {
   "cell_type": "code",
   "outputs": [
    {
     "name": "stdout",
     "output_type": "stream",
     "text": [
      "Populating data/train\n",
      "Populating data/test\n"
     ]
    }
   ],
   "source": [
    "# Load data\n",
    "folder_structure = preprocessing.create_dataset()"
   ],
   "metadata": {
    "collapsed": false,
    "ExecuteTime": {
     "end_time": "2024-06-03T16:31:14.275625Z",
     "start_time": "2024-06-03T16:30:54.879615Z"
    }
   },
   "id": "e14ecb8153d3b00",
   "execution_count": 32
  },
  {
   "cell_type": "code",
   "outputs": [],
   "source": [
    "# transform it in a dataframe\n",
    "a = pd.DataFrame([(k, len(v)) for k,v in folder_structure[0].items()], columns=['class', 'count'])\n",
    "b = pd.DataFrame([(k, len(v)) for k,v in folder_structure[1].items()], columns=['class', 'count'])\n",
    "image_counts = pd.merge(a, b, on='class', how='outer', suffixes=('_train', '_test'))"
   ],
   "metadata": {
    "collapsed": false,
    "ExecuteTime": {
     "end_time": "2024-06-03T16:31:32.022652Z",
     "start_time": "2024-06-03T16:31:32.017921Z"
    }
   },
   "id": "a64bae5e0016840c",
   "execution_count": 34
  },
  {
   "cell_type": "code",
   "outputs": [
    {
     "data": {
      "text/plain": "                       class  count_train  count_test\n0                     dolmas          546          42\n1    coquilles_saint_jacques          518          52\n2           veal_cordon_bleu          277          23\n3                shirred_egg          440          42\n4             barbecued_wing          602          34\n..                       ...          ...         ...\n246             chicken_wing          508          43\n247  grilled_cheese_sandwich          541          69\n248           beef_carpaccio          478          53\n249                  hot_dog          332          43\n250               fried_rice          526          43\n\n[251 rows x 3 columns]",
      "text/html": "<div>\n<style scoped>\n    .dataframe tbody tr th:only-of-type {\n        vertical-align: middle;\n    }\n\n    .dataframe tbody tr th {\n        vertical-align: top;\n    }\n\n    .dataframe thead th {\n        text-align: right;\n    }\n</style>\n<table border=\"1\" class=\"dataframe\">\n  <thead>\n    <tr style=\"text-align: right;\">\n      <th></th>\n      <th>class</th>\n      <th>count_train</th>\n      <th>count_test</th>\n    </tr>\n  </thead>\n  <tbody>\n    <tr>\n      <th>0</th>\n      <td>dolmas</td>\n      <td>546</td>\n      <td>42</td>\n    </tr>\n    <tr>\n      <th>1</th>\n      <td>coquilles_saint_jacques</td>\n      <td>518</td>\n      <td>52</td>\n    </tr>\n    <tr>\n      <th>2</th>\n      <td>veal_cordon_bleu</td>\n      <td>277</td>\n      <td>23</td>\n    </tr>\n    <tr>\n      <th>3</th>\n      <td>shirred_egg</td>\n      <td>440</td>\n      <td>42</td>\n    </tr>\n    <tr>\n      <th>4</th>\n      <td>barbecued_wing</td>\n      <td>602</td>\n      <td>34</td>\n    </tr>\n    <tr>\n      <th>...</th>\n      <td>...</td>\n      <td>...</td>\n      <td>...</td>\n    </tr>\n    <tr>\n      <th>246</th>\n      <td>chicken_wing</td>\n      <td>508</td>\n      <td>43</td>\n    </tr>\n    <tr>\n      <th>247</th>\n      <td>grilled_cheese_sandwich</td>\n      <td>541</td>\n      <td>69</td>\n    </tr>\n    <tr>\n      <th>248</th>\n      <td>beef_carpaccio</td>\n      <td>478</td>\n      <td>53</td>\n    </tr>\n    <tr>\n      <th>249</th>\n      <td>hot_dog</td>\n      <td>332</td>\n      <td>43</td>\n    </tr>\n    <tr>\n      <th>250</th>\n      <td>fried_rice</td>\n      <td>526</td>\n      <td>43</td>\n    </tr>\n  </tbody>\n</table>\n<p>251 rows × 3 columns</p>\n</div>"
     },
     "execution_count": 35,
     "metadata": {},
     "output_type": "execute_result"
    }
   ],
   "source": [
    "image_counts"
   ],
   "metadata": {
    "collapsed": false,
    "ExecuteTime": {
     "end_time": "2024-06-03T16:31:32.731631Z",
     "start_time": "2024-06-03T16:31:32.724127Z"
    }
   },
   "id": "bc827c60ede55707",
   "execution_count": 35
  },
  {
   "cell_type": "code",
   "outputs": [
    {
     "data": {
      "text/plain": "class          marble_cake\ncount_train             34\ncount_test              49\nName: 120, dtype: object"
     },
     "execution_count": 36,
     "metadata": {},
     "output_type": "execute_result"
    }
   ],
   "source": [
    "image_counts.loc[np.argmin(image_counts['count_train']),:]"
   ],
   "metadata": {
    "collapsed": false,
    "ExecuteTime": {
     "end_time": "2024-06-03T16:31:34.075806Z",
     "start_time": "2024-06-03T16:31:34.072217Z"
    }
   },
   "id": "c0f834241754535d",
   "execution_count": 36
  },
  {
   "cell_type": "code",
   "outputs": [],
   "source": [
    "preprocessing.create_validation(42);"
   ],
   "metadata": {
    "collapsed": false,
    "ExecuteTime": {
     "end_time": "2024-06-03T16:33:42.664214Z",
     "start_time": "2024-06-03T16:33:42.030197Z"
    }
   },
   "id": "beb3e757ecebab77",
   "execution_count": 38
  },
  {
   "cell_type": "code",
   "outputs": [],
   "source": [
    "transform = transforms.Compose([\n",
    "    # Convert PIL images to PyTorch tensors\n",
    "    transforms.ToTensor(),\n",
    "    # Normalize pixel values\n",
    "    transforms.Normalize(mean=[0.485, 0.456, 0.406], std=[0.229, 0.224, 0.225]),\n",
    "    # Resize images to a common size\n",
    "    transforms.Resize(size=(64,64)) #forse da ridurre? abbiamo troppe immagini\n",
    "])\n",
    "\n",
    "# Load the training dataset\n",
    "trainset = torchvision.datasets.ImageFolder(root='data/train', transform=transform)\n",
    "\n",
    "# Create data loader for training data with batch size 4 and shuffling\n",
    "trainloader = torch.utils.data.DataLoader(trainset, batch_size=8, shuffle=True, num_workers=2)\n",
    "\n",
    "valset = torchvision.datasets.ImageFolder(root='data/val', transform=transform)\n",
    "\n",
    "valloader = torch.utils.data.DataLoader(valset, batch_size=16, shuffle=True, num_workers=2)\n",
    "\n",
    "testset = torchvision.datasets.ImageFolder(root='data/test', transform=transform)\n",
    "\n",
    "testloader = torch.utils.data.DataLoader(testset, batch_size=1, shuffle=False, num_workers=2)"
   ],
   "metadata": {
    "collapsed": false,
    "ExecuteTime": {
     "end_time": "2024-06-03T17:08:44.782398Z",
     "start_time": "2024-06-03T17:08:44.644528Z"
    }
   },
   "id": "f1979fcf16872184",
   "execution_count": 97
  },
  {
   "cell_type": "code",
   "outputs": [],
   "source": [
    "\n",
    "import torch\n",
    "import torch.nn as nn\n",
    "import torch.nn.functional as F\n",
    "\n",
    "class EfficientCNN(nn.Module):\n",
    "    def __init__(self, num_classes=251):\n",
    "        super(EfficientCNN, self).__init__()\n",
    "        \n",
    "        # Convolutional layers\n",
    "        self.conv1 = nn.Conv2d(in_channels=3, out_channels=32, kernel_size=3, stride=1, padding=1)\n",
    "        self.conv2 = nn.Conv2d(in_channels=32, out_channels=64, kernel_size=3, stride=1, padding=1)\n",
    "        self.conv3 = nn.Conv2d(in_channels=64, out_channels=128, kernel_size=3, stride=1, padding=1)\n",
    "        self.conv4 = nn.Conv2d(in_channels=128, out_channels=256, kernel_size=3, stride=1, padding=1)\n",
    "        \n",
    "        # Batch Normalization layers\n",
    "        self.bn1 = nn.BatchNorm2d(32)\n",
    "        self.bn2 = nn.BatchNorm2d(64)\n",
    "        self.bn3 = nn.BatchNorm2d(128)\n",
    "        self.bn4 = nn.BatchNorm2d(256)\n",
    "        \n",
    "        # Fully connected layers\n",
    "        self.fc1 = nn.Linear(256 * 4 , 512)\n",
    "        self.fc2 = nn.Linear(512, num_classes)\n",
    "        \n",
    "    def forward(self, x):\n",
    "        # Convolutional layers with ReLU and MaxPooling\n",
    "        x = F.relu(self.bn1(self.conv1(x)))\n",
    "        x = F.max_pool2d(x, 2)\n",
    "        \n",
    "        x = F.relu(self.bn2(self.conv2(x)))\n",
    "        x = F.max_pool2d(x, 2)\n",
    "        \n",
    "        x = F.relu(self.bn3(self.conv3(x)))\n",
    "        x = F.max_pool2d(x, 2)\n",
    "        \n",
    "        x = F.relu(self.bn4(self.conv4(x)))\n",
    "        x = F.max_pool2d(x, 4)\n",
    "        \n",
    "        # Flatten the tensor\n",
    "        x = x.view(x.size(0), -1)\n",
    "        \n",
    "        # Fully connected layers\n",
    "        x = F.relu(self.fc1(x))\n",
    "        x = self.fc2(x)\n",
    "        \n",
    "        return x"
   ],
   "metadata": {
    "collapsed": false,
    "ExecuteTime": {
     "end_time": "2024-06-03T17:02:39.667807Z",
     "start_time": "2024-06-03T17:02:39.662949Z"
    }
   },
   "id": "687ee36802463d43",
   "execution_count": 79
  },
  {
   "cell_type": "code",
   "outputs": [],
   "source": [
    "model = EfficientCNN()"
   ],
   "metadata": {
    "collapsed": false,
    "ExecuteTime": {
     "end_time": "2024-06-03T17:02:39.995708Z",
     "start_time": "2024-06-03T17:02:39.989249Z"
    }
   },
   "id": "6875b446f2893898",
   "execution_count": 80
  },
  {
   "cell_type": "code",
   "outputs": [
    {
     "name": "stdout",
     "output_type": "stream",
     "text": [
      "==========================================================================================\n",
      "Layer (type:depth-idx)                   Output Shape              Param #\n",
      "==========================================================================================\n",
      "├─Conv2d: 1-1                            [-1, 32, 64, 64]          896\n",
      "├─BatchNorm2d: 1-2                       [-1, 32, 64, 64]          64\n",
      "├─Conv2d: 1-3                            [-1, 64, 32, 32]          18,496\n",
      "├─BatchNorm2d: 1-4                       [-1, 64, 32, 32]          128\n",
      "├─Conv2d: 1-5                            [-1, 128, 16, 16]         73,856\n",
      "├─BatchNorm2d: 1-6                       [-1, 128, 16, 16]         256\n",
      "├─Conv2d: 1-7                            [-1, 256, 8, 8]           295,168\n",
      "├─BatchNorm2d: 1-8                       [-1, 256, 8, 8]           512\n",
      "├─Linear: 1-9                            [-1, 512]                 524,800\n",
      "├─Linear: 1-10                           [-1, 251]                 128,763\n",
      "==========================================================================================\n",
      "Total params: 1,042,939\n",
      "Trainable params: 1,042,939\n",
      "Non-trainable params: 0\n",
      "Total mult-adds (M): 60.82\n",
      "==========================================================================================\n",
      "Input size (MB): 0.05\n",
      "Forward/backward pass size (MB): 3.76\n",
      "Params size (MB): 3.98\n",
      "Estimated Total Size (MB): 7.78\n",
      "==========================================================================================\n"
     ]
    },
    {
     "data": {
      "text/plain": "==========================================================================================\nLayer (type:depth-idx)                   Output Shape              Param #\n==========================================================================================\n├─Conv2d: 1-1                            [-1, 32, 64, 64]          896\n├─BatchNorm2d: 1-2                       [-1, 32, 64, 64]          64\n├─Conv2d: 1-3                            [-1, 64, 32, 32]          18,496\n├─BatchNorm2d: 1-4                       [-1, 64, 32, 32]          128\n├─Conv2d: 1-5                            [-1, 128, 16, 16]         73,856\n├─BatchNorm2d: 1-6                       [-1, 128, 16, 16]         256\n├─Conv2d: 1-7                            [-1, 256, 8, 8]           295,168\n├─BatchNorm2d: 1-8                       [-1, 256, 8, 8]           512\n├─Linear: 1-9                            [-1, 512]                 524,800\n├─Linear: 1-10                           [-1, 251]                 128,763\n==========================================================================================\nTotal params: 1,042,939\nTrainable params: 1,042,939\nNon-trainable params: 0\nTotal mult-adds (M): 60.82\n==========================================================================================\nInput size (MB): 0.05\nForward/backward pass size (MB): 3.76\nParams size (MB): 3.98\nEstimated Total Size (MB): 7.78\n=========================================================================================="
     },
     "execution_count": 81,
     "metadata": {},
     "output_type": "execute_result"
    }
   ],
   "source": [
    "# Print model summary\n",
    "torchsummary.summary(model, (3, 64, 64))"
   ],
   "metadata": {
    "collapsed": false,
    "ExecuteTime": {
     "end_time": "2024-06-03T17:02:40.398829Z",
     "start_time": "2024-06-03T17:02:40.390273Z"
    }
   },
   "id": "d72c7580c4695331",
   "execution_count": 81
  },
  {
   "cell_type": "code",
   "outputs": [],
   "source": [
    "## train the model\n",
    "epochs = 1\n",
    "criterion = nn.CrossEntropyLoss()\n",
    "optimizer = optim.Adam(model.parameters(), lr=0.001)\n",
    "scheduler = torch.optim.lr_scheduler.StepLR(optimizer, step_size=1, gamma=0.1)\n"
   ],
   "metadata": {
    "collapsed": false,
    "ExecuteTime": {
     "end_time": "2024-06-03T17:06:11.210169Z",
     "start_time": "2024-06-03T17:06:11.207247Z"
    }
   },
   "id": "ab488f0446a04bea",
   "execution_count": 87
  },
  {
   "cell_type": "code",
   "outputs": [
    {
     "name": "stdout",
     "output_type": "stream",
     "text": [
      "[1,  2000] loss: 5.520\n",
      "[1,  4000] loss: 5.516\n",
      "[1,  6000] loss: 5.514\n",
      "[1,  8000] loss: 5.511\n"
     ]
    }
   ],
   "source": [
    "for epoch in range(epochs):\n",
    "    model.train()\n",
    "    running_loss = 0.0\n",
    "    for i, data in enumerate(trainloader):\n",
    "        inputs, labels = data\n",
    "        optimizer.zero_grad()\n",
    "        outputs = model(inputs)\n",
    "        loss = criterion(outputs, labels)\n",
    "        loss.backward()\n",
    "        optimizer.step()\n",
    "        running_loss += loss.item()\n",
    "        if i % 2000 == 1999:\n",
    "            print('[%d, %5d] loss: %.3f' % (epoch + 1, i + 1, running_loss / 2000))\n",
    "            running_loss = 0.0\n",
    "    scheduler.step()"
   ],
   "metadata": {
    "collapsed": false,
    "ExecuteTime": {
     "end_time": "2024-06-03T17:23:52.036996Z",
     "start_time": "2024-06-03T17:20:54.527188Z"
    }
   },
   "id": "1b34a42cc8cb5f6e",
   "execution_count": 104
  },
  {
   "cell_type": "code",
   "outputs": [],
   "source": [],
   "metadata": {
    "collapsed": false
   },
   "id": "735ad55b2d6a7285"
  }
 ],
 "metadata": {
  "kernelspec": {
   "display_name": "Python 3",
   "language": "python",
   "name": "python3"
  },
  "language_info": {
   "codemirror_mode": {
    "name": "ipython",
    "version": 2
   },
   "file_extension": ".py",
   "mimetype": "text/x-python",
   "name": "python",
   "nbconvert_exporter": "python",
   "pygments_lexer": "ipython2",
   "version": "2.7.6"
  }
 },
 "nbformat": 4,
 "nbformat_minor": 5
}
