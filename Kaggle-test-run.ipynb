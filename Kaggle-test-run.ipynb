{
 "cells": [
  {
   "cell_type": "code",
   "execution_count": 1,
   "id": "bd3e4582",
   "metadata": {
    "execution": {
     "iopub.execute_input": "2024-06-10T17:18:04.333055Z",
     "iopub.status.busy": "2024-06-10T17:18:04.332752Z",
     "iopub.status.idle": "2024-06-10T17:18:46.222115Z",
     "shell.execute_reply": "2024-06-10T17:18:46.221313Z"
    },
    "papermill": {
     "duration": 41.899135,
     "end_time": "2024-06-10T17:18:46.224448",
     "exception": false,
     "start_time": "2024-06-10T17:18:04.325313",
     "status": "completed"
    },
    "tags": []
   },
   "outputs": [
    {
     "name": "stdout",
     "output_type": "stream",
     "text": [
      "Running on Kaggle\n",
      "Collecting torchsummary\r\n",
      "  Downloading torchsummary-1.5.1-py3-none-any.whl.metadata (296 bytes)\r\n",
      "Downloading torchsummary-1.5.1-py3-none-any.whl (2.8 kB)\r\n",
      "Installing collected packages: torchsummary\r\n",
      "Successfully installed torchsummary-1.5.1\r\n",
      "Collecting mlflow\r\n",
      "  Downloading mlflow-2.13.2-py3-none-any.whl.metadata (29 kB)\r\n",
      "Requirement already satisfied: Flask<4 in /opt/conda/lib/python3.10/site-packages (from mlflow) (3.0.3)\r\n",
      "Requirement already satisfied: alembic!=1.10.0,<2 in /opt/conda/lib/python3.10/site-packages (from mlflow) (1.13.1)\r\n",
      "Collecting cachetools<6,>=5.0.0 (from mlflow)\r\n",
      "  Downloading cachetools-5.3.3-py3-none-any.whl.metadata (5.3 kB)\r\n",
      "Requirement already satisfied: click<9,>=7.0 in /opt/conda/lib/python3.10/site-packages (from mlflow) (8.1.7)\r\n",
      "Requirement already satisfied: cloudpickle<4 in /opt/conda/lib/python3.10/site-packages (from mlflow) (2.2.1)\r\n",
      "Requirement already satisfied: docker<8,>=4.0.0 in /opt/conda/lib/python3.10/site-packages (from mlflow) (7.0.0)\r\n",
      "Requirement already satisfied: entrypoints<1 in /opt/conda/lib/python3.10/site-packages (from mlflow) (0.4)\r\n",
      "Requirement already satisfied: gitpython<4,>=3.1.9 in /opt/conda/lib/python3.10/site-packages (from mlflow) (3.1.41)\r\n",
      "Collecting graphene<4 (from mlflow)\r\n",
      "  Downloading graphene-3.3-py2.py3-none-any.whl.metadata (7.7 kB)\r\n",
      "Requirement already satisfied: importlib-metadata!=4.7.0,<8,>=3.7.0 in /opt/conda/lib/python3.10/site-packages (from mlflow) (6.11.0)\r\n",
      "Requirement already satisfied: markdown<4,>=3.3 in /opt/conda/lib/python3.10/site-packages (from mlflow) (3.5.2)\r\n",
      "Requirement already satisfied: matplotlib<4 in /opt/conda/lib/python3.10/site-packages (from mlflow) (3.7.5)\r\n",
      "Requirement already satisfied: numpy<2 in /opt/conda/lib/python3.10/site-packages (from mlflow) (1.26.4)\r\n",
      "Requirement already satisfied: opentelemetry-api<3,>=1.0.0 in /opt/conda/lib/python3.10/site-packages (from mlflow) (1.22.0)\r\n",
      "Requirement already satisfied: opentelemetry-sdk<3,>=1.0.0 in /opt/conda/lib/python3.10/site-packages (from mlflow) (1.22.0)\r\n",
      "Requirement already satisfied: packaging<25 in /opt/conda/lib/python3.10/site-packages (from mlflow) (21.3)\r\n",
      "Requirement already satisfied: pandas<3 in /opt/conda/lib/python3.10/site-packages (from mlflow) (2.2.1)\r\n",
      "Requirement already satisfied: protobuf<5,>=3.12.0 in /opt/conda/lib/python3.10/site-packages (from mlflow) (3.20.3)\r\n",
      "Requirement already satisfied: pyarrow<16,>=4.0.0 in /opt/conda/lib/python3.10/site-packages (from mlflow) (14.0.2)\r\n",
      "Requirement already satisfied: pytz<2025 in /opt/conda/lib/python3.10/site-packages (from mlflow) (2023.3.post1)\r\n",
      "Requirement already satisfied: pyyaml<7,>=5.1 in /opt/conda/lib/python3.10/site-packages (from mlflow) (6.0.1)\r\n",
      "Collecting querystring-parser<2 (from mlflow)\r\n",
      "  Downloading querystring_parser-1.2.4-py2.py3-none-any.whl.metadata (559 bytes)\r\n",
      "Requirement already satisfied: requests<3,>=2.17.3 in /opt/conda/lib/python3.10/site-packages (from mlflow) (2.32.3)\r\n",
      "Requirement already satisfied: scikit-learn<2 in /opt/conda/lib/python3.10/site-packages (from mlflow) (1.2.2)\r\n",
      "Requirement already satisfied: scipy<2 in /opt/conda/lib/python3.10/site-packages (from mlflow) (1.11.4)\r\n",
      "Requirement already satisfied: sqlalchemy<3,>=1.4.0 in /opt/conda/lib/python3.10/site-packages (from mlflow) (2.0.25)\r\n",
      "Requirement already satisfied: sqlparse<1,>=0.4.0 in /opt/conda/lib/python3.10/site-packages (from mlflow) (0.4.4)\r\n",
      "Requirement already satisfied: Jinja2<4,>=2.11 in /opt/conda/lib/python3.10/site-packages (from mlflow) (3.1.2)\r\n",
      "Collecting gunicorn<23 (from mlflow)\r\n",
      "  Downloading gunicorn-22.0.0-py3-none-any.whl.metadata (4.4 kB)\r\n",
      "Requirement already satisfied: Mako in /opt/conda/lib/python3.10/site-packages (from alembic!=1.10.0,<2->mlflow) (1.3.5)\r\n",
      "Requirement already satisfied: typing-extensions>=4 in /opt/conda/lib/python3.10/site-packages (from alembic!=1.10.0,<2->mlflow) (4.9.0)\r\n",
      "Requirement already satisfied: urllib3>=1.26.0 in /opt/conda/lib/python3.10/site-packages (from docker<8,>=4.0.0->mlflow) (1.26.18)\r\n",
      "Requirement already satisfied: Werkzeug>=3.0.0 in /opt/conda/lib/python3.10/site-packages (from Flask<4->mlflow) (3.0.3)\r\n",
      "Requirement already satisfied: itsdangerous>=2.1.2 in /opt/conda/lib/python3.10/site-packages (from Flask<4->mlflow) (2.2.0)\r\n",
      "Requirement already satisfied: blinker>=1.6.2 in /opt/conda/lib/python3.10/site-packages (from Flask<4->mlflow) (1.8.2)\r\n",
      "Requirement already satisfied: gitdb<5,>=4.0.1 in /opt/conda/lib/python3.10/site-packages (from gitpython<4,>=3.1.9->mlflow) (4.0.11)\r\n",
      "Collecting graphql-core<3.3,>=3.1 (from graphene<4->mlflow)\r\n",
      "  Downloading graphql_core-3.2.3-py3-none-any.whl.metadata (10 kB)\r\n",
      "Collecting graphql-relay<3.3,>=3.1 (from graphene<4->mlflow)\r\n",
      "  Downloading graphql_relay-3.2.0-py3-none-any.whl.metadata (12 kB)\r\n",
      "Collecting aniso8601<10,>=8 (from graphene<4->mlflow)\r\n",
      "  Downloading aniso8601-9.0.1-py2.py3-none-any.whl.metadata (23 kB)\r\n",
      "Requirement already satisfied: zipp>=0.5 in /opt/conda/lib/python3.10/site-packages (from importlib-metadata!=4.7.0,<8,>=3.7.0->mlflow) (3.17.0)\r\n",
      "Requirement already satisfied: MarkupSafe>=2.0 in /opt/conda/lib/python3.10/site-packages (from Jinja2<4,>=2.11->mlflow) (2.1.3)\r\n",
      "Requirement already satisfied: contourpy>=1.0.1 in /opt/conda/lib/python3.10/site-packages (from matplotlib<4->mlflow) (1.2.0)\r\n",
      "Requirement already satisfied: cycler>=0.10 in /opt/conda/lib/python3.10/site-packages (from matplotlib<4->mlflow) (0.12.1)\r\n",
      "Requirement already satisfied: fonttools>=4.22.0 in /opt/conda/lib/python3.10/site-packages (from matplotlib<4->mlflow) (4.47.0)\r\n",
      "Requirement already satisfied: kiwisolver>=1.0.1 in /opt/conda/lib/python3.10/site-packages (from matplotlib<4->mlflow) (1.4.5)\r\n",
      "Requirement already satisfied: pillow>=6.2.0 in /opt/conda/lib/python3.10/site-packages (from matplotlib<4->mlflow) (9.5.0)\r\n",
      "Requirement already satisfied: pyparsing>=2.3.1 in /opt/conda/lib/python3.10/site-packages (from matplotlib<4->mlflow) (3.1.1)\r\n",
      "Requirement already satisfied: python-dateutil>=2.7 in /opt/conda/lib/python3.10/site-packages (from matplotlib<4->mlflow) (2.9.0.post0)\r\n",
      "Requirement already satisfied: deprecated>=1.2.6 in /opt/conda/lib/python3.10/site-packages (from opentelemetry-api<3,>=1.0.0->mlflow) (1.2.14)\r\n",
      "Requirement already satisfied: opentelemetry-semantic-conventions==0.43b0 in /opt/conda/lib/python3.10/site-packages (from opentelemetry-sdk<3,>=1.0.0->mlflow) (0.43b0)\r\n",
      "Requirement already satisfied: tzdata>=2022.7 in /opt/conda/lib/python3.10/site-packages (from pandas<3->mlflow) (2023.4)\r\n",
      "Requirement already satisfied: six in /opt/conda/lib/python3.10/site-packages (from querystring-parser<2->mlflow) (1.16.0)\r\n",
      "Requirement already satisfied: charset-normalizer<4,>=2 in /opt/conda/lib/python3.10/site-packages (from requests<3,>=2.17.3->mlflow) (3.3.2)\r\n",
      "Requirement already satisfied: idna<4,>=2.5 in /opt/conda/lib/python3.10/site-packages (from requests<3,>=2.17.3->mlflow) (3.6)\r\n",
      "Requirement already satisfied: certifi>=2017.4.17 in /opt/conda/lib/python3.10/site-packages (from requests<3,>=2.17.3->mlflow) (2024.2.2)\r\n",
      "Requirement already satisfied: joblib>=1.1.1 in /opt/conda/lib/python3.10/site-packages (from scikit-learn<2->mlflow) (1.4.2)\r\n",
      "Requirement already satisfied: threadpoolctl>=2.0.0 in /opt/conda/lib/python3.10/site-packages (from scikit-learn<2->mlflow) (3.2.0)\r\n",
      "Requirement already satisfied: greenlet!=0.4.17 in /opt/conda/lib/python3.10/site-packages (from sqlalchemy<3,>=1.4.0->mlflow) (3.0.3)\r\n",
      "Requirement already satisfied: wrapt<2,>=1.10 in /opt/conda/lib/python3.10/site-packages (from deprecated>=1.2.6->opentelemetry-api<3,>=1.0.0->mlflow) (1.14.1)\r\n",
      "Requirement already satisfied: smmap<6,>=3.0.1 in /opt/conda/lib/python3.10/site-packages (from gitdb<5,>=4.0.1->gitpython<4,>=3.1.9->mlflow) (5.0.1)\r\n",
      "Downloading mlflow-2.13.2-py3-none-any.whl (25.0 MB)\r\n",
      "\u001b[2K   \u001b[90m━━━━━━━━━━━━━━━━━━━━━━━━━━━━━━━━━━━━━━━━\u001b[0m \u001b[32m25.0/25.0 MB\u001b[0m \u001b[31m47.1 MB/s\u001b[0m eta \u001b[36m0:00:00\u001b[0m\r\n",
      "\u001b[?25hDownloading cachetools-5.3.3-py3-none-any.whl (9.3 kB)\r\n",
      "Downloading graphene-3.3-py2.py3-none-any.whl (128 kB)\r\n",
      "\u001b[2K   \u001b[90m━━━━━━━━━━━━━━━━━━━━━━━━━━━━━━━━━━━━━━━━\u001b[0m \u001b[32m128.2/128.2 kB\u001b[0m \u001b[31m11.4 MB/s\u001b[0m eta \u001b[36m0:00:00\u001b[0m\r\n",
      "\u001b[?25hDownloading gunicorn-22.0.0-py3-none-any.whl (84 kB)\r\n",
      "\u001b[2K   \u001b[90m━━━━━━━━━━━━━━━━━━━━━━━━━━━━━━━━━━━━━━━━\u001b[0m \u001b[32m84.4/84.4 kB\u001b[0m \u001b[31m7.2 MB/s\u001b[0m eta \u001b[36m0:00:00\u001b[0m\r\n",
      "\u001b[?25hDownloading querystring_parser-1.2.4-py2.py3-none-any.whl (7.9 kB)\r\n",
      "Downloading aniso8601-9.0.1-py2.py3-none-any.whl (52 kB)\r\n",
      "\u001b[2K   \u001b[90m━━━━━━━━━━━━━━━━━━━━━━━━━━━━━━━━━━━━━━━━\u001b[0m \u001b[32m52.8/52.8 kB\u001b[0m \u001b[31m4.0 MB/s\u001b[0m eta \u001b[36m0:00:00\u001b[0m\r\n",
      "\u001b[?25hDownloading graphql_core-3.2.3-py3-none-any.whl (202 kB)\r\n",
      "\u001b[2K   \u001b[90m━━━━━━━━━━━━━━━━━━━━━━━━━━━━━━━━━━━━━━━━\u001b[0m \u001b[32m202.9/202.9 kB\u001b[0m \u001b[31m17.1 MB/s\u001b[0m eta \u001b[36m0:00:00\u001b[0m\r\n",
      "\u001b[?25hDownloading graphql_relay-3.2.0-py3-none-any.whl (16 kB)\r\n",
      "Installing collected packages: aniso8601, querystring-parser, graphql-core, cachetools, gunicorn, graphql-relay, graphene, mlflow\r\n",
      "  Attempting uninstall: cachetools\r\n",
      "    Found existing installation: cachetools 4.2.4\r\n",
      "    Uninstalling cachetools-4.2.4:\r\n",
      "      Successfully uninstalled cachetools-4.2.4\r\n",
      "\u001b[31mERROR: pip's dependency resolver does not currently take into account all the packages that are installed. This behaviour is the source of the following dependency conflicts.\r\n",
      "cudf 24.4.1 requires cubinlinker, which is not installed.\r\n",
      "cudf 24.4.1 requires cupy-cuda11x>=12.0.0, which is not installed.\r\n",
      "cudf 24.4.1 requires ptxcompiler, which is not installed.\r\n",
      "cuml 24.4.0 requires cupy-cuda11x>=12.0.0, which is not installed.\r\n",
      "dask-cudf 24.4.1 requires cupy-cuda11x>=12.0.0, which is not installed.\r\n",
      "tensorflow-decision-forests 1.8.1 requires wurlitzer, which is not installed.\r\n",
      "cudf 24.4.1 requires cuda-python<12.0a0,>=11.7.1, but you have cuda-python 12.5.0 which is incompatible.\r\n",
      "kfp 2.5.0 requires google-cloud-storage<3,>=2.2.1, but you have google-cloud-storage 1.44.0 which is incompatible.\r\n",
      "tensorflow 2.15.0 requires keras<2.16,>=2.15.0, but you have keras 3.3.3 which is incompatible.\u001b[0m\u001b[31m\r\n",
      "\u001b[0mSuccessfully installed aniso8601-9.0.1 cachetools-5.3.2 graphene-3.3 graphql-core-3.2.3 graphql-relay-3.2.0 gunicorn-22.0.0 mlflow-2.13.2 querystring-parser-1.2.4\r\n"
     ]
    }
   ],
   "source": [
    "import pandas as pd\n",
    "import numpy as np\n",
    "import matplotlib.pyplot as plt\n",
    "import seaborn as sns\n",
    "import os\n",
    "import shutil\n",
    "import importlib\n",
    "import sys\n",
    "\n",
    "# Determine the environment and import preprocessing module accordingly\n",
    "def is_kaggle():\n",
    "    return 'KAGGLE_KERNEL_RUN_TYPE' in os.environ\n",
    "\n",
    "if is_kaggle():\n",
    "    print(\"Running on Kaggle\")\n",
    "    # Assuming 'preprocessing.py' and other scripts are in '/kaggle/input'\n",
    "    kaggle_input_path = '/kaggle/usr/lib'\n",
    "    sys.path.append(kaggle_input_path)\n",
    "    \n",
    "    import preprocessing_py.preprocessing_py as preprocessing\n",
    "    import models_py.models_py as models\n",
    "    import utils_py.utils_py as utils\n",
    "   \n",
    "    \n",
    "    # Install missing libraries on kaggle\n",
    "    ! pip install torchsummary\n",
    "    ! pip install mlflow\n",
    "else:\n",
    "    print(\"Running locally\")\n",
    "    import scripts.preprocessing as preprocessing\n",
    "    import scripts.models as models\n",
    "    import scripts.utils as utils\n",
    "    \n",
    "    \n",
    "    \n",
    "# Reload the module (if necessary)\n",
    "importlib.reload(preprocessing)\n",
    "importlib.reload(models)\n",
    "importlib.reload(utils)\n",
    "\n",
    "# Other imports\n",
    "import torch\n",
    "import torch.nn as nn\n",
    "import torchvision\n",
    "from torchvision import transforms\n",
    "import torchsummary\n",
    "import torch.optim as optim\n",
    "\n",
    "import tqdm\n",
    "import mlflow\n",
    "import mlflow.pytorch"
   ]
  },
  {
   "cell_type": "code",
   "execution_count": 2,
   "id": "8274e9d4",
   "metadata": {
    "execution": {
     "iopub.execute_input": "2024-06-10T17:18:46.247860Z",
     "iopub.status.busy": "2024-06-10T17:18:46.247342Z",
     "iopub.status.idle": "2024-06-10T17:18:46.251636Z",
     "shell.execute_reply": "2024-06-10T17:18:46.250863Z"
    },
    "papermill": {
     "duration": 0.01836,
     "end_time": "2024-06-10T17:18:46.253668",
     "exception": false,
     "start_time": "2024-06-10T17:18:46.235308",
     "status": "completed"
    },
    "tags": []
   },
   "outputs": [],
   "source": [
    "#set the correct directory for mlflow tracking\n",
    "#mlflow.set_tracking_uri(\"file:./mlruns\")"
   ]
  },
  {
   "cell_type": "code",
   "execution_count": 3,
   "id": "529798de",
   "metadata": {
    "execution": {
     "iopub.execute_input": "2024-06-10T17:18:46.276536Z",
     "iopub.status.busy": "2024-06-10T17:18:46.276229Z",
     "iopub.status.idle": "2024-06-10T17:18:46.306184Z",
     "shell.execute_reply": "2024-06-10T17:18:46.305028Z"
    },
    "papermill": {
     "duration": 0.043868,
     "end_time": "2024-06-10T17:18:46.308147",
     "exception": false,
     "start_time": "2024-06-10T17:18:46.264279",
     "status": "completed"
    },
    "tags": []
   },
   "outputs": [
    {
     "name": "stdout",
     "output_type": "stream",
     "text": [
      "CUDA is available!  Training on GPU ...\n",
      "cuda:0\n"
     ]
    }
   ],
   "source": [
    "device = utils.use_GPU()"
   ]
  },
  {
   "cell_type": "code",
   "execution_count": 4,
   "id": "18d2ce0a",
   "metadata": {
    "ExecuteTime": {
     "end_time": "2024-06-04T14:24:21.972371Z",
     "start_time": "2024-06-04T14:24:21.961718Z"
    },
    "collapsed": false,
    "execution": {
     "iopub.execute_input": "2024-06-10T17:18:46.331494Z",
     "iopub.status.busy": "2024-06-10T17:18:46.331182Z",
     "iopub.status.idle": "2024-06-10T17:18:46.684673Z",
     "shell.execute_reply": "2024-06-10T17:18:46.683584Z"
    },
    "jupyter": {
     "outputs_hidden": false
    },
    "papermill": {
     "duration": 0.368088,
     "end_time": "2024-06-10T17:18:46.687119",
     "exception": false,
     "start_time": "2024-06-10T17:18:46.319031",
     "status": "completed"
    },
    "tags": []
   },
   "outputs": [],
   "source": [
    "if is_kaggle():\n",
    "    path = \"/kaggle/input/ssl/pytorch/uploaded/1\"\n",
    "else:\n",
    "    path=\".\"\n",
    "\n",
    "model = models.SqueezeNet()\n",
    "model.load_state_dict(torch.load(os.path.join(path,\"netFromSSL_10e.pth\")))\n",
    "\n",
    "model = model.to(device)"
   ]
  },
  {
   "cell_type": "code",
   "execution_count": 5,
   "id": "1092ce04",
   "metadata": {
    "ExecuteTime": {
     "end_time": "2024-06-04T14:34:04.612770Z",
     "start_time": "2024-06-04T14:34:04.593346Z"
    },
    "collapsed": false,
    "execution": {
     "iopub.execute_input": "2024-06-10T17:18:46.711964Z",
     "iopub.status.busy": "2024-06-10T17:18:46.711643Z",
     "iopub.status.idle": "2024-06-10T17:18:47.385941Z",
     "shell.execute_reply": "2024-06-10T17:18:47.385018Z"
    },
    "jupyter": {
     "outputs_hidden": false
    },
    "papermill": {
     "duration": 0.68922,
     "end_time": "2024-06-10T17:18:47.388706",
     "exception": false,
     "start_time": "2024-06-10T17:18:46.699486",
     "status": "completed"
    },
    "tags": []
   },
   "outputs": [
    {
     "name": "stdout",
     "output_type": "stream",
     "text": [
      "----------------------------------------------------------------\n",
      "        Layer (type)               Output Shape         Param #\n",
      "================================================================\n",
      "            Conv2d-1         [-1, 64, 111, 111]           1,792\n",
      "              ReLU-2         [-1, 64, 111, 111]               0\n",
      "         MaxPool2d-3           [-1, 64, 55, 55]               0\n",
      "            Conv2d-4           [-1, 16, 55, 55]           1,040\n",
      "              ReLU-5           [-1, 16, 55, 55]               0\n",
      "            Conv2d-6           [-1, 64, 55, 55]           1,088\n",
      "              ReLU-7           [-1, 64, 55, 55]               0\n",
      "            Conv2d-8           [-1, 64, 55, 55]           9,280\n",
      "              ReLU-9           [-1, 64, 55, 55]               0\n",
      "             Fire-10          [-1, 128, 55, 55]               0\n",
      "           Conv2d-11           [-1, 16, 55, 55]           2,064\n",
      "             ReLU-12           [-1, 16, 55, 55]               0\n",
      "           Conv2d-13           [-1, 64, 55, 55]           1,088\n",
      "             ReLU-14           [-1, 64, 55, 55]               0\n",
      "           Conv2d-15           [-1, 64, 55, 55]           9,280\n",
      "             ReLU-16           [-1, 64, 55, 55]               0\n",
      "             Fire-17          [-1, 128, 55, 55]               0\n",
      "        MaxPool2d-18          [-1, 128, 27, 27]               0\n",
      "           Conv2d-19           [-1, 32, 27, 27]           4,128\n",
      "             ReLU-20           [-1, 32, 27, 27]               0\n",
      "           Conv2d-21          [-1, 128, 27, 27]           4,224\n",
      "             ReLU-22          [-1, 128, 27, 27]               0\n",
      "           Conv2d-23          [-1, 128, 27, 27]          36,992\n",
      "             ReLU-24          [-1, 128, 27, 27]               0\n",
      "             Fire-25          [-1, 256, 27, 27]               0\n",
      "           Conv2d-26           [-1, 32, 27, 27]           8,224\n",
      "             ReLU-27           [-1, 32, 27, 27]               0\n",
      "           Conv2d-28          [-1, 128, 27, 27]           4,224\n",
      "             ReLU-29          [-1, 128, 27, 27]               0\n",
      "           Conv2d-30          [-1, 128, 27, 27]          36,992\n",
      "             ReLU-31          [-1, 128, 27, 27]               0\n",
      "             Fire-32          [-1, 256, 27, 27]               0\n",
      "        MaxPool2d-33          [-1, 256, 13, 13]               0\n",
      "           Conv2d-34           [-1, 48, 13, 13]          12,336\n",
      "             ReLU-35           [-1, 48, 13, 13]               0\n",
      "           Conv2d-36          [-1, 192, 13, 13]           9,408\n",
      "             ReLU-37          [-1, 192, 13, 13]               0\n",
      "           Conv2d-38          [-1, 192, 13, 13]          83,136\n",
      "             ReLU-39          [-1, 192, 13, 13]               0\n",
      "             Fire-40          [-1, 384, 13, 13]               0\n",
      "           Conv2d-41           [-1, 48, 13, 13]          18,480\n",
      "             ReLU-42           [-1, 48, 13, 13]               0\n",
      "           Conv2d-43          [-1, 192, 13, 13]           9,408\n",
      "             ReLU-44          [-1, 192, 13, 13]               0\n",
      "           Conv2d-45          [-1, 192, 13, 13]          83,136\n",
      "             ReLU-46          [-1, 192, 13, 13]               0\n",
      "             Fire-47          [-1, 384, 13, 13]               0\n",
      "           Conv2d-48           [-1, 64, 13, 13]          24,640\n",
      "             ReLU-49           [-1, 64, 13, 13]               0\n",
      "           Conv2d-50          [-1, 256, 13, 13]          16,640\n",
      "             ReLU-51          [-1, 256, 13, 13]               0\n",
      "           Conv2d-52          [-1, 256, 13, 13]         147,712\n",
      "             ReLU-53          [-1, 256, 13, 13]               0\n",
      "             Fire-54          [-1, 512, 13, 13]               0\n",
      "           Conv2d-55           [-1, 64, 13, 13]          32,832\n",
      "             ReLU-56           [-1, 64, 13, 13]               0\n",
      "           Conv2d-57          [-1, 256, 13, 13]          16,640\n",
      "             ReLU-58          [-1, 256, 13, 13]               0\n",
      "           Conv2d-59          [-1, 256, 13, 13]         147,712\n",
      "             ReLU-60          [-1, 256, 13, 13]               0\n",
      "             Fire-61          [-1, 512, 13, 13]               0\n",
      "          Dropout-62          [-1, 512, 13, 13]               0\n",
      "           Conv2d-63          [-1, 251, 13, 13]         128,763\n",
      "             ReLU-64          [-1, 251, 13, 13]               0\n",
      "AdaptiveAvgPool2d-65            [-1, 251, 1, 1]               0\n",
      "================================================================\n",
      "Total params: 851,259\n",
      "Trainable params: 851,259\n",
      "Non-trainable params: 0\n",
      "----------------------------------------------------------------\n",
      "Input size (MB): 0.57\n",
      "Forward/backward pass size (MB): 51.83\n",
      "Params size (MB): 3.25\n",
      "Estimated Total Size (MB): 55.65\n",
      "----------------------------------------------------------------\n"
     ]
    }
   ],
   "source": [
    "torchsummary.summary(model, (3, 224, 224));"
   ]
  },
  {
   "cell_type": "code",
   "execution_count": 6,
   "id": "42cc230f",
   "metadata": {
    "ExecuteTime": {
     "end_time": "2024-06-03T16:31:14.275625Z",
     "start_time": "2024-06-03T16:30:54.879615Z"
    },
    "collapsed": false,
    "execution": {
     "iopub.execute_input": "2024-06-10T17:18:47.413642Z",
     "iopub.status.busy": "2024-06-10T17:18:47.413308Z",
     "iopub.status.idle": "2024-06-10T17:18:47.420661Z",
     "shell.execute_reply": "2024-06-10T17:18:47.419782Z"
    },
    "jupyter": {
     "outputs_hidden": false
    },
    "papermill": {
     "duration": 0.022728,
     "end_time": "2024-06-10T17:18:47.422641",
     "exception": false,
     "start_time": "2024-06-10T17:18:47.399913",
     "status": "completed"
    },
    "tags": []
   },
   "outputs": [],
   "source": [
    "# Load data\n",
    "if not is_kaggle():\n",
    "\n",
    "    # check if the train folder is  already created\n",
    "    if not os.path.exists('data/train'):\n",
    "        folder_structure = preprocessing.create_dataset()\n",
    "        # transform it in a dataframe and list the number of images per class in the folders\n",
    "        a = pd.DataFrame([(k, len(v)) for k,v in folder_structure[0].items()], \n",
    "                            columns=['class', 'count'])\n",
    "        b = pd.DataFrame([(k, len(v)) for k,v in folder_structure[1].items()], \n",
    "                            columns=['class', 'count'])\n",
    "        image_counts = pd.merge(a, \n",
    "                                b, \n",
    "                                on='class', \n",
    "                                how='outer', \n",
    "                                suffixes=('_train', '_test'))\n",
    "        \n",
    "        \n",
    "        image_counts.loc[np.argmin(image_counts['count_train']),:]\n",
    "        # create a validation set\n",
    "        preprocessing.create_validation(42);"
   ]
  },
  {
   "cell_type": "code",
   "execution_count": 7,
   "id": "0a3f130a",
   "metadata": {
    "execution": {
     "iopub.execute_input": "2024-06-10T17:18:47.445672Z",
     "iopub.status.busy": "2024-06-10T17:18:47.445393Z",
     "iopub.status.idle": "2024-06-10T17:18:48.435243Z",
     "shell.execute_reply": "2024-06-10T17:18:48.434236Z"
    },
    "papermill": {
     "duration": 1.004135,
     "end_time": "2024-06-10T17:18:48.437718",
     "exception": false,
     "start_time": "2024-06-10T17:18:47.433583",
     "status": "completed"
    },
    "tags": []
   },
   "outputs": [
    {
     "name": "stdout",
     "output_type": "stream",
     "text": [
      "__notebook__.ipynb\r\n"
     ]
    }
   ],
   "source": [
    "ls"
   ]
  },
  {
   "cell_type": "code",
   "execution_count": 8,
   "id": "cfe5b514",
   "metadata": {
    "execution": {
     "iopub.execute_input": "2024-06-10T17:18:48.462580Z",
     "iopub.status.busy": "2024-06-10T17:18:48.462212Z",
     "iopub.status.idle": "2024-06-10T17:18:48.467334Z",
     "shell.execute_reply": "2024-06-10T17:18:48.466474Z"
    },
    "papermill": {
     "duration": 0.020184,
     "end_time": "2024-06-10T17:18:48.469433",
     "exception": false,
     "start_time": "2024-06-10T17:18:48.449249",
     "status": "completed"
    },
    "tags": []
   },
   "outputs": [],
   "source": [
    "if is_kaggle():\n",
    "    im_dir = '/kaggle/input/food-dataset-sl/'\n",
    "else:\n",
    "    im_dir ='.'  "
   ]
  },
  {
   "cell_type": "code",
   "execution_count": 9,
   "id": "b414a2f1",
   "metadata": {
    "execution": {
     "iopub.execute_input": "2024-06-10T17:18:48.493406Z",
     "iopub.status.busy": "2024-06-10T17:18:48.493123Z",
     "iopub.status.idle": "2024-06-10T17:18:48.500142Z",
     "shell.execute_reply": "2024-06-10T17:18:48.499328Z"
    },
    "papermill": {
     "duration": 0.021255,
     "end_time": "2024-06-10T17:18:48.502310",
     "exception": false,
     "start_time": "2024-06-10T17:18:48.481055",
     "status": "completed"
    },
    "tags": []
   },
   "outputs": [
    {
     "data": {
      "text/plain": [
       "'/kaggle/input/food-dataset-sl/'"
      ]
     },
     "execution_count": 9,
     "metadata": {},
     "output_type": "execute_result"
    }
   ],
   "source": [
    "im_dir"
   ]
  },
  {
   "cell_type": "code",
   "execution_count": 10,
   "id": "3cc185b6",
   "metadata": {
    "ExecuteTime": {
     "end_time": "2024-06-03T17:08:44.782398Z",
     "start_time": "2024-06-03T17:08:44.644528Z"
    },
    "collapsed": false,
    "execution": {
     "iopub.execute_input": "2024-06-10T17:18:48.525644Z",
     "iopub.status.busy": "2024-06-10T17:18:48.525375Z",
     "iopub.status.idle": "2024-06-10T17:19:19.941670Z",
     "shell.execute_reply": "2024-06-10T17:19:19.940591Z"
    },
    "jupyter": {
     "outputs_hidden": false
    },
    "papermill": {
     "duration": 31.430503,
     "end_time": "2024-06-10T17:19:19.944078",
     "exception": false,
     "start_time": "2024-06-10T17:18:48.513575",
     "status": "completed"
    },
    "tags": []
   },
   "outputs": [],
   "source": [
    "transform = transforms.Compose([\n",
    "    # resize \n",
    "    transforms.Resize((224, 224)),\n",
    "    transforms.RandomHorizontalFlip(),\n",
    "    transforms.RandomCrop(224),\n",
    "    transforms.ToTensor(),\n",
    "    # Normalize pixel values\n",
    "    transforms.Normalize(mean=[0.485, 0.456, 0.406], std=[0.229, 0.224, 0.225]),\n",
    "])\n",
    "\n",
    "\n",
    "# Load the training dataset\n",
    "trainset = torchvision.datasets.ImageFolder(root=os.path.join(im_dir,'data/train'), transform=transform)\n",
    "\n",
    "# Create data loader for training data with batch size 4 and shuffling\n",
    "trainloader = torch.utils.data.DataLoader(trainset, batch_size=8, shuffle=True, num_workers=4)\n",
    "\n",
    "valset = torchvision.datasets.ImageFolder(root=os.path.join(im_dir,'data/val'), transform=transform)\n",
    "\n",
    "valloader = torch.utils.data.DataLoader(valset, batch_size=16, shuffle=True, num_workers=4)\n",
    "\n",
    "testset = torchvision.datasets.ImageFolder(root=os.path.join(im_dir,'data/test'), transform=transform)\n",
    "\n",
    "testloader = torch.utils.data.DataLoader(testset, batch_size=1, shuffle=False, num_workers=4)\n"
   ]
  },
  {
   "cell_type": "code",
   "execution_count": 11,
   "id": "97405d0b",
   "metadata": {
    "execution": {
     "iopub.execute_input": "2024-06-10T17:19:19.968254Z",
     "iopub.status.busy": "2024-06-10T17:19:19.967914Z",
     "iopub.status.idle": "2024-06-10T17:19:20.004726Z",
     "shell.execute_reply": "2024-06-10T17:19:20.003988Z"
    },
    "papermill": {
     "duration": 0.051252,
     "end_time": "2024-06-10T17:19:20.006714",
     "exception": false,
     "start_time": "2024-06-10T17:19:19.955462",
     "status": "completed"
    },
    "tags": []
   },
   "outputs": [],
   "source": [
    "# Define criterion, optimizer and scheduler and other parameters for training\n",
    "opt = \"Adam\"                        # optimizer to be used: [\"Adam\" or \"SGD\"]\n",
    "momentum = 0.9                      # momentum ONLY for SGD optimizer\n",
    "weight_decay = 1e-4                 # weight decay ONLY on Adam optimizer\n",
    "step_size = 7                       # step size for the scheduler\n",
    "gamma = 0.1                         # gamma for the scheduler\n",
    "\n",
    "batch_size = 8                      # batch size\n",
    "num_epochs=10                       # number of epochs\n",
    "patience = 3                        # patience for early stopping\n",
    "criterion =\"CrossEntropyLoss\"       # loss function to be used: [\"CrossEntropyLoss\", \"MSELoss\", \"L1Loss\", \"NLLLoss\"]\n",
    "lr = 5e-5                           # learning rate\n",
    "\n",
    "model_name = \"squeezenet\"           # model name\n",
    "model = models.SqueezeNet()         # model\n",
    "\n",
    "\n",
    "\n",
    "#set the optimizer\n",
    "if opt == \"Adam\":\n",
    "    optimizer = optim.Adam(model.parameters(), lr=lr, weight_decay=weight_decay)\n",
    "elif opt == \"SGD\":\n",
    "    optimizer = optim.SGD(model.parameters(), lr=lr, momentum=momentum)\n",
    "else:\n",
    "    print(\"Invalid optimizer\")\n",
    "\n",
    "#set the criterion\n",
    "if criterion == \"CrossEntropyLoss\":\n",
    "    criterion = nn.CrossEntropyLoss()\n",
    "elif criterion == \"MSELoss\":\n",
    "    criterion = nn.MSELoss()\n",
    "elif criterion == \"L1Loss\":\n",
    "    criterion = nn.L1Loss()\n",
    "elif criterion == \"NLLLoss\":\n",
    "    criterion = nn.NLLLoss()\n",
    "else:\n",
    "    print(\"Invalid criterion\")\n",
    "\n",
    "#set the scheduler\n",
    "scheduler = optim.lr_scheduler.StepLR(optimizer, step_size=step_size, gamma=gamma)\n",
    "\n",
    "# Upload model to correct device\n",
    "model = model.to(device)"
   ]
  },
  {
   "cell_type": "code",
   "execution_count": 12,
   "id": "b11fd056",
   "metadata": {
    "execution": {
     "iopub.execute_input": "2024-06-10T17:19:20.030768Z",
     "iopub.status.busy": "2024-06-10T17:19:20.029927Z",
     "iopub.status.idle": "2024-06-10T17:19:20.039591Z",
     "shell.execute_reply": "2024-06-10T17:19:20.038727Z"
    },
    "papermill": {
     "duration": 0.023589,
     "end_time": "2024-06-10T17:19:20.041561",
     "exception": false,
     "start_time": "2024-06-10T17:19:20.017972",
     "status": "completed"
    },
    "tags": []
   },
   "outputs": [],
   "source": [
    "def set_training_parameters(model, model_name, opt, lr, weight_decay, momentum, criterion, step_size, gamma, num_epochs, patience, device):\n",
    "\n",
    "    #set the optimizer\n",
    "    if opt == \"Adam\":\n",
    "        optimizer = optim.Adam(model.parameters(), lr=lr, weight_decay=weight_decay)\n",
    "    elif opt == \"SGD\":\n",
    "        optimizer = optim.SGD(model.parameters(), lr=lr, momentum=momentum)\n",
    "    else:\n",
    "        print(\"Invalid optimizer\")\n",
    "\n",
    "    #set the criterion\n",
    "    if criterion == \"CrossEntropyLoss\":\n",
    "        criterion = nn.CrossEntropyLoss()\n",
    "    elif criterion == \"MSELoss\":\n",
    "        criterion = nn.MSELoss()\n",
    "    elif criterion == \"L1Loss\":\n",
    "        criterion = nn.L1Loss()\n",
    "    elif criterion == \"NLLLoss\":\n",
    "        criterion = nn.NLLLoss()\n",
    "    else:\n",
    "        print(\"Invalid criterion\")\n",
    "\n",
    "    #set the scheduler\n",
    "    scheduler = optim.lr_scheduler.StepLR(optimizer, step_size=step_size, gamma=gamma)\n",
    "\n",
    "    # Upload model to correct device\n",
    "    model = model.to(device)\n",
    "    \n",
    "    training_parameters = {}\n",
    "    training_parameters['model'] = model\n",
    "    training_parameters['model_name'] = model_name\n",
    "    training_parameters['criterion'] = criterion\n",
    "    training_parameters['optimizer'] = optimizer\n",
    "    training_parameters['scheduler'] = scheduler\n",
    "    training_parameters['num_epochs'] = num_epochs\n",
    "    training_parameters['patience'] = patience\n",
    "    \n",
    "    return training_parameters"
   ]
  },
  {
   "cell_type": "code",
   "execution_count": 13,
   "id": "7c0829cb",
   "metadata": {
    "ExecuteTime": {
     "end_time": "2024-06-03T17:23:52.036996Z",
     "start_time": "2024-06-03T17:20:54.527188Z"
    },
    "collapsed": false,
    "execution": {
     "iopub.execute_input": "2024-06-10T17:19:20.064853Z",
     "iopub.status.busy": "2024-06-10T17:19:20.064580Z",
     "iopub.status.idle": "2024-06-10T17:19:20.080240Z",
     "shell.execute_reply": "2024-06-10T17:19:20.079400Z"
    },
    "jupyter": {
     "outputs_hidden": false
    },
    "papermill": {
     "duration": 0.029365,
     "end_time": "2024-06-10T17:19:20.082160",
     "exception": false,
     "start_time": "2024-06-10T17:19:20.052795",
     "status": "completed"
    },
    "tags": []
   },
   "outputs": [],
   "source": [
    "# Training function based on above parameters\n",
    "def train_model(model, model_name, trainloader, valloader, criterion, optimizer, scheduler, num_epochs=10, patience=3 ):\n",
    "\n",
    "    mlflow.start_run(run_name=model_name)\n",
    "\n",
    "    # Log model parameters\n",
    "    mlflow.log_param(\"optimizer\", opt)\n",
    "    mlflow.log_param(\"learning_rate\", lr)\n",
    "    mlflow.log_param(\"batch_size\", batch_size)\n",
    "    mlflow.log_param(\"num_epochs\", num_epochs)\n",
    "    mlflow.log_param(\"momentum\", momentum)\n",
    "    mlflow.log_param(\"weight_decay\", weight_decay)\n",
    "    mlflow.log_param(\"step_size\", step_size)\n",
    "    mlflow.log_param(\"gamma\", gamma)\n",
    "    mlflow.log_param(\"patience\", patience)\n",
    "\n",
    "\n",
    "    patience_counter = 0\n",
    "    best_model = None\n",
    "    best_loss = np.inf\n",
    "        \n",
    "    for epoch in range(num_epochs):\n",
    "        model.train()  # Set model to training mode\n",
    "        running_loss = 0.0\n",
    "        train_loader_tqdm = tqdm.tqdm(trainloader, desc=f\"Epoch {epoch+1}/{num_epochs}\", \n",
    "                                unit=\"batch\")\n",
    "        ind_rloss=1\n",
    "        for inputs, labels in train_loader_tqdm:\n",
    "            inputs, labels = inputs.to(device), labels.to(device)\n",
    "\n",
    "            # Zero the parameter gradients\n",
    "            optimizer.zero_grad()\n",
    "\n",
    "            # Forward pass\n",
    "            outputs = model(inputs)\n",
    "            loss = criterion(outputs, labels)\n",
    "\n",
    "            # Backward pass and optimize\n",
    "            loss.backward()\n",
    "            optimizer.step()\n",
    "\n",
    "            # Print statistics\n",
    "            running_loss += loss.item()\n",
    "            train_loader_tqdm.set_postfix(loss=running_loss / ind_rloss)\n",
    "            ind_rloss +=1\n",
    "\n",
    "        epoch_loss = running_loss / len(trainloader)\n",
    "        print(f'Epoch [{epoch+1}/{num_epochs}], Loss: {epoch_loss:.4f}')\n",
    "\n",
    "        scheduler.step()\n",
    "        mlflow.log_metric(\"train_loss\", epoch_loss, step=epoch)\n",
    "        \n",
    "        # Validation loop (optional)\n",
    "        model.eval()  # Set model to evaluation mode\n",
    "        val_loss = 0.0\n",
    "        correct = 0\n",
    "        total = 0\n",
    "\n",
    "        with torch.no_grad():\n",
    "            for inputs, labels in valloader:\n",
    "                inputs, labels = inputs.to(device), labels.to(device)\n",
    "\n",
    "                outputs = model(inputs)\n",
    "                loss = criterion(outputs, labels)\n",
    "                val_loss += loss.item()\n",
    "\n",
    "                _, predicted = torch.max(outputs.data, 1)\n",
    "                total += labels.size(0)\n",
    "                correct += (predicted == labels).sum().item()\n",
    "\n",
    "        val_loss /= len(valloader)\n",
    "        val_accuracy = 100 * correct / total\n",
    "        print(f'Validation Loss: {val_loss:.4f}, Validation Accuracy: {val_accuracy:.2f}%')\n",
    "        \n",
    "        # Log validation loss and accuracy\n",
    "        mlflow.log_metric(\"val_loss\", val_loss, step=epoch)\n",
    "        mlflow.log_metric(\"val_accuracy\", val_accuracy, step=epoch)\n",
    "        \n",
    "        # Early stopping\n",
    "        if val_loss < best_loss:\n",
    "            best_loss = val_loss\n",
    "            best_model = model\n",
    "            patience_counter = 0\n",
    "        else:\n",
    "            patience_counter += 1\n",
    "            if patience_counter > patience:\n",
    "                print(\"Early stopping\")\n",
    "                break\n",
    "                    \n",
    "    # Log the model\n",
    "    mlflow.pytorch.log_model(best_model, model_name)\n",
    "\n",
    "    # End the MLflow run\n",
    "    mlflow.end_run()\n",
    "\n",
    "    print('Finished Training')\n"
   ]
  },
  {
   "cell_type": "markdown",
   "id": "d63c8172",
   "metadata": {
    "papermill": {
     "duration": 0.010825,
     "end_time": "2024-06-10T17:19:20.104145",
     "exception": false,
     "start_time": "2024-06-10T17:19:20.093320",
     "status": "completed"
    },
    "tags": []
   },
   "source": []
  },
  {
   "cell_type": "code",
   "execution_count": 14,
   "id": "3e5f5700",
   "metadata": {
    "execution": {
     "iopub.execute_input": "2024-06-10T17:19:20.127799Z",
     "iopub.status.busy": "2024-06-10T17:19:20.127019Z",
     "iopub.status.idle": "2024-06-10T17:19:20.134203Z",
     "shell.execute_reply": "2024-06-10T17:19:20.133271Z"
    },
    "papermill": {
     "duration": 0.020721,
     "end_time": "2024-06-10T17:19:20.136156",
     "exception": false,
     "start_time": "2024-06-10T17:19:20.115435",
     "status": "completed"
    },
    "tags": []
   },
   "outputs": [],
   "source": [
    "def Save_mlruns():\n",
    "    print(\"moving to working directory...\")\n",
    "    ! cd /kaggle/working/\n",
    "    print(\"zipping directory...\")\n",
    "    ! zip -r mlruns.zip mlruns\n",
    "    print(\"!!REMEMBER TO DOWNLOAD IT FROM THE OUTPUT SECTION!!\")\n",
    "    print(\"back to home directory...\")\n",
    "    ! cd "
   ]
  },
  {
   "cell_type": "code",
   "execution_count": 15,
   "id": "548d6308",
   "metadata": {
    "execution": {
     "iopub.execute_input": "2024-06-10T17:19:20.159918Z",
     "iopub.status.busy": "2024-06-10T17:19:20.159622Z",
     "iopub.status.idle": "2024-06-10T17:24:50.540884Z",
     "shell.execute_reply": "2024-06-10T17:24:50.539609Z"
    },
    "papermill": {
     "duration": 330.395738,
     "end_time": "2024-06-10T17:24:50.543098",
     "exception": false,
     "start_time": "2024-06-10T17:19:20.147360",
     "status": "completed"
    },
    "tags": []
   },
   "outputs": [
    {
     "name": "stderr",
     "output_type": "stream",
     "text": [
      "Epoch 1/1: 100%|██████████| 11860/11860 [04:23<00:00, 45.08batch/s, loss=5.34]"
     ]
    },
    {
     "name": "stdout",
     "output_type": "stream",
     "text": [
      "Epoch [1/1], Loss: 5.3357\n"
     ]
    },
    {
     "name": "stderr",
     "output_type": "stream",
     "text": [
      "\n"
     ]
    },
    {
     "name": "stdout",
     "output_type": "stream",
     "text": [
      "Validation Loss: 5.1546, Validation Accuracy: 3.41%\n",
      "Finished Training\n"
     ]
    }
   ],
   "source": [
    "# example of training \n",
    "\n",
    "# Define criterion, optimizer and scheduler and other parameters for training\n",
    "opt = \"Adam\"                        # optimizer to be used: [\"Adam\" or \"SGD\"]\n",
    "momentum = 0.9                      # momentum ONLY for SGD optimizer\n",
    "weight_decay = 1e-4                 # weight decay ONLY on Adam optimizer\n",
    "step_size = 20                      # step size for the scheduler\n",
    "gamma = 0.5                         # gamma for the scheduler\n",
    "\n",
    "batch_size = 64                      # batch size\n",
    "num_epochs=1                     # number of epochs\n",
    "patience = 3                        # patience for early stopping\n",
    "criterion =\"CrossEntropyLoss\"       # loss function to be used: [\"CrossEntropyLoss\", \"MSELoss\", \"L1Loss\", \"NLLLoss\"]\n",
    "lr = 5e-5                           # learning rate\n",
    "\n",
    "model_name = \"test-remote-kaggle\"           # model name\n",
    "model = models.SqueezeNet()         # model\n",
    "\n",
    "tr_param = set_training_parameters(model=model,model_name = model_name, opt=opt, lr=lr, weight_decay=weight_decay, \n",
    "                                   momentum=momentum, criterion=criterion, step_size=step_size, gamma=gamma, num_epochs=num_epochs, \n",
    "                                   patience=patience, device=device)\n",
    "\n",
    "#stop eventual mlflow runs\n",
    "mlflow.end_run()\n",
    "train_model(**tr_param, trainloader=trainloader, valloader=valloader)"
   ]
  },
  {
   "cell_type": "code",
   "execution_count": 16,
   "id": "09a808da",
   "metadata": {
    "execution": {
     "iopub.execute_input": "2024-06-10T17:24:52.854490Z",
     "iopub.status.busy": "2024-06-10T17:24:52.854122Z",
     "iopub.status.idle": "2024-06-10T17:24:55.946669Z",
     "shell.execute_reply": "2024-06-10T17:24:55.945286Z"
    },
    "papermill": {
     "duration": 4.273823,
     "end_time": "2024-06-10T17:24:55.949153",
     "exception": false,
     "start_time": "2024-06-10T17:24:51.675330",
     "status": "completed"
    },
    "tags": []
   },
   "outputs": [
    {
     "name": "stdout",
     "output_type": "stream",
     "text": [
      "moving to working directory...\n",
      "zipping directory...\n",
      "  adding: mlruns/ (stored 0%)\r\n",
      "  adding: mlruns/.trash/ (stored 0%)\r\n",
      "  adding: mlruns/0/ (stored 0%)\r\n",
      "  adding: mlruns/0/3f5fe9404ceb4639ac68af0065ea8660/ (stored 0%)\r\n",
      "  adding: mlruns/0/3f5fe9404ceb4639ac68af0065ea8660/tags/ (stored 0%)\r\n",
      "  adding: mlruns/0/3f5fe9404ceb4639ac68af0065ea8660/tags/mlflow.source.type (stored 0%)\r\n",
      "  adding: mlruns/0/3f5fe9404ceb4639ac68af0065ea8660/tags/mlflow.runName (stored 0%)\r\n",
      "  adding: mlruns/0/3f5fe9404ceb4639ac68af0065ea8660/tags/mlflow.log-model.history (deflated 45%)\r\n",
      "  adding: mlruns/0/3f5fe9404ceb4639ac68af0065ea8660/tags/mlflow.source.name (deflated 3%)\r\n",
      "  adding: mlruns/0/3f5fe9404ceb4639ac68af0065ea8660/tags/mlflow.user (stored 0%)\r\n",
      "  adding: mlruns/0/3f5fe9404ceb4639ac68af0065ea8660/metrics/ (stored 0%)\r\n",
      "  adding: mlruns/0/3f5fe9404ceb4639ac68af0065ea8660/metrics/val_loss (stored 0%)\r\n",
      "  adding: mlruns/0/3f5fe9404ceb4639ac68af0065ea8660/metrics/train_loss (stored 0%)\r\n",
      "  adding: mlruns/0/3f5fe9404ceb4639ac68af0065ea8660/metrics/val_accuracy (stored 0%)\r\n",
      "  adding: mlruns/0/3f5fe9404ceb4639ac68af0065ea8660/artifacts/ (stored 0%)\r\n",
      "  adding: mlruns/0/3f5fe9404ceb4639ac68af0065ea8660/artifacts/test-remote-kaggle/ (stored 0%)\r\n",
      "  adding: mlruns/0/3f5fe9404ceb4639ac68af0065ea8660/artifacts/test-remote-kaggle/data/ (stored 0%)\r\n",
      "  adding: mlruns/0/3f5fe9404ceb4639ac68af0065ea8660/artifacts/test-remote-kaggle/data/pickle_module_info.txt (stored 0%)\r\n",
      "  adding: mlruns/0/3f5fe9404ceb4639ac68af0065ea8660/artifacts/test-remote-kaggle/data/model.pth (deflated 7%)\r\n",
      "  adding: mlruns/0/3f5fe9404ceb4639ac68af0065ea8660/artifacts/test-remote-kaggle/python_env.yaml (deflated 19%)\r\n",
      "  adding: mlruns/0/3f5fe9404ceb4639ac68af0065ea8660/artifacts/test-remote-kaggle/requirements.txt (deflated 35%)\r\n",
      "  adding: mlruns/0/3f5fe9404ceb4639ac68af0065ea8660/artifacts/test-remote-kaggle/metadata/ (stored 0%)\r\n",
      "  adding: mlruns/0/3f5fe9404ceb4639ac68af0065ea8660/artifacts/test-remote-kaggle/metadata/python_env.yaml (deflated 19%)\r\n",
      "  adding: mlruns/0/3f5fe9404ceb4639ac68af0065ea8660/artifacts/test-remote-kaggle/metadata/requirements.txt (deflated 35%)\r\n",
      "  adding: mlruns/0/3f5fe9404ceb4639ac68af0065ea8660/artifacts/test-remote-kaggle/metadata/conda.yaml (deflated 44%)\r\n",
      "  adding: mlruns/0/3f5fe9404ceb4639ac68af0065ea8660/artifacts/test-remote-kaggle/metadata/MLmodel (deflated 44%)\r\n",
      "  adding: mlruns/0/3f5fe9404ceb4639ac68af0065ea8660/artifacts/test-remote-kaggle/conda.yaml (deflated 44%)\r\n",
      "  adding: mlruns/0/3f5fe9404ceb4639ac68af0065ea8660/artifacts/test-remote-kaggle/MLmodel (deflated 44%)\r\n",
      "  adding: mlruns/0/3f5fe9404ceb4639ac68af0065ea8660/params/ (stored 0%)\r\n",
      "  adding: mlruns/0/3f5fe9404ceb4639ac68af0065ea8660/params/num_epochs (stored 0%)\r\n",
      "  adding: mlruns/0/3f5fe9404ceb4639ac68af0065ea8660/params/learning_rate (stored 0%)\r\n",
      "  adding: mlruns/0/3f5fe9404ceb4639ac68af0065ea8660/params/batch_size (stored 0%)\r\n",
      "  adding: mlruns/0/3f5fe9404ceb4639ac68af0065ea8660/params/momentum (stored 0%)\r\n",
      "  adding: mlruns/0/3f5fe9404ceb4639ac68af0065ea8660/params/patience (stored 0%)\r\n",
      "  adding: mlruns/0/3f5fe9404ceb4639ac68af0065ea8660/params/step_size (stored 0%)\r\n",
      "  adding: mlruns/0/3f5fe9404ceb4639ac68af0065ea8660/params/gamma (stored 0%)\r\n",
      "  adding: mlruns/0/3f5fe9404ceb4639ac68af0065ea8660/params/optimizer (stored 0%)\r\n",
      "  adding: mlruns/0/3f5fe9404ceb4639ac68af0065ea8660/params/weight_decay (stored 0%)\r\n",
      "  adding: mlruns/0/3f5fe9404ceb4639ac68af0065ea8660/meta.yaml (deflated 44%)\r\n",
      "  adding: mlruns/0/meta.yaml (deflated 24%)\r\n",
      "!!REMEMBER TO DOWNLOAD IT FROM THE OUTPUT SECTION!!\n",
      "back to home directory...\n"
     ]
    }
   ],
   "source": [
    "if is_kaggle():\n",
    "    Save_mlruns()"
   ]
  }
 ],
 "metadata": {
  "kaggle": {
   "accelerator": "nvidiaTeslaT4",
   "dataSources": [
    {
     "datasetId": 5175452,
     "sourceId": 8646217,
     "sourceType": "datasetVersion"
    },
    {
     "sourceId": 182255674,
     "sourceType": "kernelVersion"
    },
    {
     "sourceId": 182257654,
     "sourceType": "kernelVersion"
    },
    {
     "sourceId": 182257811,
     "sourceType": "kernelVersion"
    },
    {
     "sourceId": 182257893,
     "sourceType": "kernelVersion"
    },
    {
     "isSourceIdPinned": true,
     "modelInstanceId": 53173,
     "sourceId": 63760,
     "sourceType": "modelInstanceVersion"
    }
   ],
   "dockerImageVersionId": 30732,
   "isGpuEnabled": true,
   "isInternetEnabled": true,
   "language": "python",
   "sourceType": "notebook"
  },
  "kernelspec": {
   "display_name": "Python 3",
   "language": "python",
   "name": "python3"
  },
  "language_info": {
   "codemirror_mode": {
    "name": "ipython",
    "version": 3
   },
   "file_extension": ".py",
   "mimetype": "text/x-python",
   "name": "python",
   "nbconvert_exporter": "python",
   "pygments_lexer": "ipython3",
   "version": "3.10.13"
  },
  "papermill": {
   "default_parameters": {},
   "duration": 417.098177,
   "end_time": "2024-06-10T17:24:58.707788",
   "environment_variables": {},
   "exception": null,
   "input_path": "__notebook__.ipynb",
   "output_path": "__notebook__.ipynb",
   "parameters": {},
   "start_time": "2024-06-10T17:18:01.609611",
   "version": "2.5.0"
  }
 },
 "nbformat": 4,
 "nbformat_minor": 5
}
