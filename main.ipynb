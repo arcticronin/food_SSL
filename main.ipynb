{
 "cells": [
  {
   "cell_type": "code",
   "execution_count": 1,
   "id": "5f652a37",
   "metadata": {
    "execution": {
     "iopub.execute_input": "2024-06-15T15:13:53.795087Z",
     "iopub.status.busy": "2024-06-15T15:13:53.794736Z",
     "iopub.status.idle": "2024-06-15T15:14:38.089551Z",
     "shell.execute_reply": "2024-06-15T15:14:38.088571Z"
    },
    "papermill": {
     "duration": 44.305825,
     "end_time": "2024-06-15T15:14:38.092021",
     "exception": false,
     "start_time": "2024-06-15T15:13:53.786196",
     "status": "completed"
    },
    "tags": []
   },
   "outputs": [
    {
     "name": "stdout",
     "output_type": "stream",
     "text": [
      "Running on Kaggle\n",
      "Collecting torchsummary\r\n",
      "  Downloading torchsummary-1.5.1-py3-none-any.whl.metadata (296 bytes)\r\n",
      "Downloading torchsummary-1.5.1-py3-none-any.whl (2.8 kB)\r\n",
      "Installing collected packages: torchsummary\r\n",
      "Successfully installed torchsummary-1.5.1\r\n",
      "Collecting mlflow\r\n",
      "  Downloading mlflow-2.13.2-py3-none-any.whl.metadata (29 kB)\r\n",
      "Requirement already satisfied: Flask<4 in /opt/conda/lib/python3.10/site-packages (from mlflow) (3.0.3)\r\n",
      "Requirement already satisfied: alembic!=1.10.0,<2 in /opt/conda/lib/python3.10/site-packages (from mlflow) (1.13.1)\r\n",
      "Collecting cachetools<6,>=5.0.0 (from mlflow)\r\n",
      "  Downloading cachetools-5.3.3-py3-none-any.whl.metadata (5.3 kB)\r\n",
      "Requirement already satisfied: click<9,>=7.0 in /opt/conda/lib/python3.10/site-packages (from mlflow) (8.1.7)\r\n",
      "Requirement already satisfied: cloudpickle<4 in /opt/conda/lib/python3.10/site-packages (from mlflow) (2.2.1)\r\n",
      "Requirement already satisfied: docker<8,>=4.0.0 in /opt/conda/lib/python3.10/site-packages (from mlflow) (7.0.0)\r\n",
      "Requirement already satisfied: entrypoints<1 in /opt/conda/lib/python3.10/site-packages (from mlflow) (0.4)\r\n",
      "Requirement already satisfied: gitpython<4,>=3.1.9 in /opt/conda/lib/python3.10/site-packages (from mlflow) (3.1.41)\r\n",
      "Collecting graphene<4 (from mlflow)\r\n",
      "  Downloading graphene-3.3-py2.py3-none-any.whl.metadata (7.7 kB)\r\n",
      "Requirement already satisfied: importlib-metadata!=4.7.0,<8,>=3.7.0 in /opt/conda/lib/python3.10/site-packages (from mlflow) (6.11.0)\r\n",
      "Requirement already satisfied: markdown<4,>=3.3 in /opt/conda/lib/python3.10/site-packages (from mlflow) (3.5.2)\r\n",
      "Requirement already satisfied: matplotlib<4 in /opt/conda/lib/python3.10/site-packages (from mlflow) (3.7.5)\r\n",
      "Requirement already satisfied: numpy<2 in /opt/conda/lib/python3.10/site-packages (from mlflow) (1.26.4)\r\n",
      "Requirement already satisfied: opentelemetry-api<3,>=1.0.0 in /opt/conda/lib/python3.10/site-packages (from mlflow) (1.22.0)\r\n",
      "Requirement already satisfied: opentelemetry-sdk<3,>=1.0.0 in /opt/conda/lib/python3.10/site-packages (from mlflow) (1.22.0)\r\n",
      "Requirement already satisfied: packaging<25 in /opt/conda/lib/python3.10/site-packages (from mlflow) (21.3)\r\n",
      "Requirement already satisfied: pandas<3 in /opt/conda/lib/python3.10/site-packages (from mlflow) (2.2.1)\r\n",
      "Requirement already satisfied: protobuf<5,>=3.12.0 in /opt/conda/lib/python3.10/site-packages (from mlflow) (3.20.3)\r\n",
      "Requirement already satisfied: pyarrow<16,>=4.0.0 in /opt/conda/lib/python3.10/site-packages (from mlflow) (14.0.2)\r\n",
      "Requirement already satisfied: pytz<2025 in /opt/conda/lib/python3.10/site-packages (from mlflow) (2023.3.post1)\r\n",
      "Requirement already satisfied: pyyaml<7,>=5.1 in /opt/conda/lib/python3.10/site-packages (from mlflow) (6.0.1)\r\n",
      "Collecting querystring-parser<2 (from mlflow)\r\n",
      "  Downloading querystring_parser-1.2.4-py2.py3-none-any.whl.metadata (559 bytes)\r\n",
      "Requirement already satisfied: requests<3,>=2.17.3 in /opt/conda/lib/python3.10/site-packages (from mlflow) (2.32.3)\r\n",
      "Requirement already satisfied: scikit-learn<2 in /opt/conda/lib/python3.10/site-packages (from mlflow) (1.2.2)\r\n",
      "Requirement already satisfied: scipy<2 in /opt/conda/lib/python3.10/site-packages (from mlflow) (1.11.4)\r\n",
      "Requirement already satisfied: sqlalchemy<3,>=1.4.0 in /opt/conda/lib/python3.10/site-packages (from mlflow) (2.0.25)\r\n",
      "Requirement already satisfied: sqlparse<1,>=0.4.0 in /opt/conda/lib/python3.10/site-packages (from mlflow) (0.4.4)\r\n",
      "Requirement already satisfied: Jinja2<4,>=2.11 in /opt/conda/lib/python3.10/site-packages (from mlflow) (3.1.2)\r\n",
      "Collecting gunicorn<23 (from mlflow)\r\n",
      "  Downloading gunicorn-22.0.0-py3-none-any.whl.metadata (4.4 kB)\r\n",
      "Requirement already satisfied: Mako in /opt/conda/lib/python3.10/site-packages (from alembic!=1.10.0,<2->mlflow) (1.3.5)\r\n",
      "Requirement already satisfied: typing-extensions>=4 in /opt/conda/lib/python3.10/site-packages (from alembic!=1.10.0,<2->mlflow) (4.9.0)\r\n",
      "Requirement already satisfied: urllib3>=1.26.0 in /opt/conda/lib/python3.10/site-packages (from docker<8,>=4.0.0->mlflow) (1.26.18)\r\n",
      "Requirement already satisfied: Werkzeug>=3.0.0 in /opt/conda/lib/python3.10/site-packages (from Flask<4->mlflow) (3.0.3)\r\n",
      "Requirement already satisfied: itsdangerous>=2.1.2 in /opt/conda/lib/python3.10/site-packages (from Flask<4->mlflow) (2.2.0)\r\n",
      "Requirement already satisfied: blinker>=1.6.2 in /opt/conda/lib/python3.10/site-packages (from Flask<4->mlflow) (1.8.2)\r\n",
      "Requirement already satisfied: gitdb<5,>=4.0.1 in /opt/conda/lib/python3.10/site-packages (from gitpython<4,>=3.1.9->mlflow) (4.0.11)\r\n",
      "Collecting graphql-core<3.3,>=3.1 (from graphene<4->mlflow)\r\n",
      "  Downloading graphql_core-3.2.3-py3-none-any.whl.metadata (10 kB)\r\n",
      "Collecting graphql-relay<3.3,>=3.1 (from graphene<4->mlflow)\r\n",
      "  Downloading graphql_relay-3.2.0-py3-none-any.whl.metadata (12 kB)\r\n",
      "Collecting aniso8601<10,>=8 (from graphene<4->mlflow)\r\n",
      "  Downloading aniso8601-9.0.1-py2.py3-none-any.whl.metadata (23 kB)\r\n",
      "Requirement already satisfied: zipp>=0.5 in /opt/conda/lib/python3.10/site-packages (from importlib-metadata!=4.7.0,<8,>=3.7.0->mlflow) (3.17.0)\r\n",
      "Requirement already satisfied: MarkupSafe>=2.0 in /opt/conda/lib/python3.10/site-packages (from Jinja2<4,>=2.11->mlflow) (2.1.3)\r\n",
      "Requirement already satisfied: contourpy>=1.0.1 in /opt/conda/lib/python3.10/site-packages (from matplotlib<4->mlflow) (1.2.0)\r\n",
      "Requirement already satisfied: cycler>=0.10 in /opt/conda/lib/python3.10/site-packages (from matplotlib<4->mlflow) (0.12.1)\r\n",
      "Requirement already satisfied: fonttools>=4.22.0 in /opt/conda/lib/python3.10/site-packages (from matplotlib<4->mlflow) (4.47.0)\r\n",
      "Requirement already satisfied: kiwisolver>=1.0.1 in /opt/conda/lib/python3.10/site-packages (from matplotlib<4->mlflow) (1.4.5)\r\n",
      "Requirement already satisfied: pillow>=6.2.0 in /opt/conda/lib/python3.10/site-packages (from matplotlib<4->mlflow) (9.5.0)\r\n",
      "Requirement already satisfied: pyparsing>=2.3.1 in /opt/conda/lib/python3.10/site-packages (from matplotlib<4->mlflow) (3.1.1)\r\n",
      "Requirement already satisfied: python-dateutil>=2.7 in /opt/conda/lib/python3.10/site-packages (from matplotlib<4->mlflow) (2.9.0.post0)\r\n",
      "Requirement already satisfied: deprecated>=1.2.6 in /opt/conda/lib/python3.10/site-packages (from opentelemetry-api<3,>=1.0.0->mlflow) (1.2.14)\r\n",
      "Requirement already satisfied: opentelemetry-semantic-conventions==0.43b0 in /opt/conda/lib/python3.10/site-packages (from opentelemetry-sdk<3,>=1.0.0->mlflow) (0.43b0)\r\n",
      "Requirement already satisfied: tzdata>=2022.7 in /opt/conda/lib/python3.10/site-packages (from pandas<3->mlflow) (2023.4)\r\n",
      "Requirement already satisfied: six in /opt/conda/lib/python3.10/site-packages (from querystring-parser<2->mlflow) (1.16.0)\r\n",
      "Requirement already satisfied: charset-normalizer<4,>=2 in /opt/conda/lib/python3.10/site-packages (from requests<3,>=2.17.3->mlflow) (3.3.2)\r\n",
      "Requirement already satisfied: idna<4,>=2.5 in /opt/conda/lib/python3.10/site-packages (from requests<3,>=2.17.3->mlflow) (3.6)\r\n",
      "Requirement already satisfied: certifi>=2017.4.17 in /opt/conda/lib/python3.10/site-packages (from requests<3,>=2.17.3->mlflow) (2024.2.2)\r\n",
      "Requirement already satisfied: joblib>=1.1.1 in /opt/conda/lib/python3.10/site-packages (from scikit-learn<2->mlflow) (1.4.2)\r\n",
      "Requirement already satisfied: threadpoolctl>=2.0.0 in /opt/conda/lib/python3.10/site-packages (from scikit-learn<2->mlflow) (3.2.0)\r\n",
      "Requirement already satisfied: greenlet!=0.4.17 in /opt/conda/lib/python3.10/site-packages (from sqlalchemy<3,>=1.4.0->mlflow) (3.0.3)\r\n",
      "Requirement already satisfied: wrapt<2,>=1.10 in /opt/conda/lib/python3.10/site-packages (from deprecated>=1.2.6->opentelemetry-api<3,>=1.0.0->mlflow) (1.14.1)\r\n",
      "Requirement already satisfied: smmap<6,>=3.0.1 in /opt/conda/lib/python3.10/site-packages (from gitdb<5,>=4.0.1->gitpython<4,>=3.1.9->mlflow) (5.0.1)\r\n",
      "Downloading mlflow-2.13.2-py3-none-any.whl (25.0 MB)\r\n",
      "\u001b[2K   \u001b[90m━━━━━━━━━━━━━━━━━━━━━━━━━━━━━━━━━━━━━━━━\u001b[0m \u001b[32m25.0/25.0 MB\u001b[0m \u001b[31m57.3 MB/s\u001b[0m eta \u001b[36m0:00:00\u001b[0m\r\n",
      "\u001b[?25hDownloading cachetools-5.3.3-py3-none-any.whl (9.3 kB)\r\n",
      "Downloading graphene-3.3-py2.py3-none-any.whl (128 kB)\r\n",
      "\u001b[2K   \u001b[90m━━━━━━━━━━━━━━━━━━━━━━━━━━━━━━━━━━━━━━━━\u001b[0m \u001b[32m128.2/128.2 kB\u001b[0m \u001b[31m9.1 MB/s\u001b[0m eta \u001b[36m0:00:00\u001b[0m\r\n",
      "\u001b[?25hDownloading gunicorn-22.0.0-py3-none-any.whl (84 kB)\r\n",
      "\u001b[2K   \u001b[90m━━━━━━━━━━━━━━━━━━━━━━━━━━━━━━━━━━━━━━━━\u001b[0m \u001b[32m84.4/84.4 kB\u001b[0m \u001b[31m5.1 MB/s\u001b[0m eta \u001b[36m0:00:00\u001b[0m\r\n",
      "\u001b[?25hDownloading querystring_parser-1.2.4-py2.py3-none-any.whl (7.9 kB)\r\n",
      "Downloading aniso8601-9.0.1-py2.py3-none-any.whl (52 kB)\r\n",
      "\u001b[2K   \u001b[90m━━━━━━━━━━━━━━━━━━━━━━━━━━━━━━━━━━━━━━━━\u001b[0m \u001b[32m52.8/52.8 kB\u001b[0m \u001b[31m3.4 MB/s\u001b[0m eta \u001b[36m0:00:00\u001b[0m\r\n",
      "\u001b[?25hDownloading graphql_core-3.2.3-py3-none-any.whl (202 kB)\r\n",
      "\u001b[2K   \u001b[90m━━━━━━━━━━━━━━━━━━━━━━━━━━━━━━━━━━━━━━━━\u001b[0m \u001b[32m202.9/202.9 kB\u001b[0m \u001b[31m14.1 MB/s\u001b[0m eta \u001b[36m0:00:00\u001b[0m\r\n",
      "\u001b[?25hDownloading graphql_relay-3.2.0-py3-none-any.whl (16 kB)\r\n",
      "Installing collected packages: aniso8601, querystring-parser, graphql-core, cachetools, gunicorn, graphql-relay, graphene, mlflow\r\n",
      "  Attempting uninstall: cachetools\r\n",
      "    Found existing installation: cachetools 4.2.4\r\n",
      "    Uninstalling cachetools-4.2.4:\r\n",
      "      Successfully uninstalled cachetools-4.2.4\r\n",
      "\u001b[31mERROR: pip's dependency resolver does not currently take into account all the packages that are installed. This behaviour is the source of the following dependency conflicts.\r\n",
      "cudf 24.4.1 requires cubinlinker, which is not installed.\r\n",
      "cudf 24.4.1 requires cupy-cuda11x>=12.0.0, which is not installed.\r\n",
      "cudf 24.4.1 requires ptxcompiler, which is not installed.\r\n",
      "cuml 24.4.0 requires cupy-cuda11x>=12.0.0, which is not installed.\r\n",
      "dask-cudf 24.4.1 requires cupy-cuda11x>=12.0.0, which is not installed.\r\n",
      "tensorflow-decision-forests 1.8.1 requires wurlitzer, which is not installed.\r\n",
      "cudf 24.4.1 requires cuda-python<12.0a0,>=11.7.1, but you have cuda-python 12.5.0 which is incompatible.\r\n",
      "kfp 2.5.0 requires google-cloud-storage<3,>=2.2.1, but you have google-cloud-storage 1.44.0 which is incompatible.\r\n",
      "tensorflow 2.15.0 requires keras<2.16,>=2.15.0, but you have keras 3.3.3 which is incompatible.\u001b[0m\u001b[31m\r\n",
      "\u001b[0mSuccessfully installed aniso8601-9.0.1 cachetools-5.3.2 graphene-3.3 graphql-core-3.2.3 graphql-relay-3.2.0 gunicorn-22.0.0 mlflow-2.13.2 querystring-parser-1.2.4\r\n"
     ]
    }
   ],
   "source": [
    "import pandas as pd\n",
    "import numpy as np\n",
    "import matplotlib.pyplot as plt\n",
    "import seaborn as sns\n",
    "import os\n",
    "import shutil\n",
    "import importlib\n",
    "import sys\n",
    "\n",
    "# Determine the environment and import preprocessing module accordingly\n",
    "def is_kaggle():\n",
    "    return 'KAGGLE_KERNEL_RUN_TYPE' in os.environ\n",
    "\n",
    "if is_kaggle():\n",
    "    print(\"Running on Kaggle\")\n",
    "    # Assuming 'preprocessing.py' and other scripts are in '/kaggle/input'\n",
    "    kaggle_input_path = '/kaggle/usr/lib'\n",
    "    #sys.path.append(kaggle_input_path)\n",
    "    \n",
    "    #import preprocessing_py.preprocessing_py as preprocessing\n",
    "    #import models_py.models_py as models\n",
    "    #import utils_py.utils_py as utils\n",
    "   \n",
    "    \n",
    "    # Install missing libraries on kaggle\n",
    "    ! pip install torchsummary\n",
    "    ! pip install mlflow\n",
    "else:\n",
    "    print(\"Running locally\")\n",
    "    import scripts.preprocessing as preprocessing\n",
    "    import scripts.models as models\n",
    "    import scripts.utils as utils\n",
    "    \n",
    "    \n",
    "    \n",
    "# Reload the module (if necessary)\n",
    "#importlib.reload(preprocessing)\n",
    "#importlib.reload(models)\n",
    "#importlib.reload(utils)\n",
    "\n",
    "# Other imports\n",
    "import torch\n",
    "import torch.nn as nn\n",
    "import torchvision\n",
    "from torchvision import transforms\n",
    "import torchsummary\n",
    "import torch.optim as optim\n",
    "\n",
    "import tqdm\n",
    "import mlflow\n",
    "import mlflow.pytorch"
   ]
  },
  {
   "cell_type": "code",
   "execution_count": 2,
   "id": "87de0f7e",
   "metadata": {
    "execution": {
     "iopub.execute_input": "2024-06-15T15:14:38.116604Z",
     "iopub.status.busy": "2024-06-15T15:14:38.116104Z",
     "iopub.status.idle": "2024-06-15T15:14:38.132763Z",
     "shell.execute_reply": "2024-06-15T15:14:38.132021Z"
    },
    "papermill": {
     "duration": 0.03033,
     "end_time": "2024-06-15T15:14:38.134500",
     "exception": false,
     "start_time": "2024-06-15T15:14:38.104170",
     "status": "completed"
    },
    "tags": []
   },
   "outputs": [],
   "source": [
    "PATH = \"/kaggle/usr/lib/models_py/models_py.py\"\n",
    "sys.path.insert(1, PATH)\n",
    "import models_py as models"
   ]
  },
  {
   "cell_type": "code",
   "execution_count": 3,
   "id": "38a2b20d",
   "metadata": {
    "execution": {
     "iopub.execute_input": "2024-06-15T15:14:38.158629Z",
     "iopub.status.busy": "2024-06-15T15:14:38.158343Z",
     "iopub.status.idle": "2024-06-15T15:14:38.162881Z",
     "shell.execute_reply": "2024-06-15T15:14:38.162017Z"
    },
    "papermill": {
     "duration": 0.018868,
     "end_time": "2024-06-15T15:14:38.164772",
     "exception": false,
     "start_time": "2024-06-15T15:14:38.145904",
     "status": "completed"
    },
    "tags": []
   },
   "outputs": [],
   "source": [
    "PATH = \"/kaggle/usr/lib/utils_py/utils_py.py\"\n",
    "sys.path.insert(1, PATH)\n",
    "import utils_py as utils"
   ]
  },
  {
   "cell_type": "code",
   "execution_count": 4,
   "id": "9a49d1ee",
   "metadata": {
    "execution": {
     "iopub.execute_input": "2024-06-15T15:14:38.187891Z",
     "iopub.status.busy": "2024-06-15T15:14:38.187645Z",
     "iopub.status.idle": "2024-06-15T15:14:38.192289Z",
     "shell.execute_reply": "2024-06-15T15:14:38.191532Z"
    },
    "papermill": {
     "duration": 0.018386,
     "end_time": "2024-06-15T15:14:38.194201",
     "exception": false,
     "start_time": "2024-06-15T15:14:38.175815",
     "status": "completed"
    },
    "tags": []
   },
   "outputs": [],
   "source": [
    "PATH = \"/kaggle/usr/lib/preprocessing_py/preprocessing_py.py\"\n",
    "sys.path.insert(1, PATH)\n",
    "import preprocessing_py as preprocessing"
   ]
  },
  {
   "cell_type": "code",
   "execution_count": 5,
   "id": "e5fc4988",
   "metadata": {
    "execution": {
     "iopub.execute_input": "2024-06-15T15:14:38.217337Z",
     "iopub.status.busy": "2024-06-15T15:14:38.217105Z",
     "iopub.status.idle": "2024-06-15T15:14:38.227309Z",
     "shell.execute_reply": "2024-06-15T15:14:38.226440Z"
    },
    "papermill": {
     "duration": 0.023981,
     "end_time": "2024-06-15T15:14:38.229289",
     "exception": false,
     "start_time": "2024-06-15T15:14:38.205308",
     "status": "completed"
    },
    "tags": []
   },
   "outputs": [
    {
     "data": {
      "text/plain": [
       "<module 'utils_py' (<_frozen_importlib_external._NamespaceLoader object at 0x7af2210542b0>)>"
      ]
     },
     "execution_count": 5,
     "metadata": {},
     "output_type": "execute_result"
    }
   ],
   "source": [
    "importlib.reload(preprocessing)\n",
    "importlib.reload(models)\n",
    "importlib.reload(utils)"
   ]
  },
  {
   "cell_type": "code",
   "execution_count": 6,
   "id": "658f613d",
   "metadata": {
    "execution": {
     "iopub.execute_input": "2024-06-15T15:14:38.253801Z",
     "iopub.status.busy": "2024-06-15T15:14:38.253500Z",
     "iopub.status.idle": "2024-06-15T15:14:38.257185Z",
     "shell.execute_reply": "2024-06-15T15:14:38.256370Z"
    },
    "papermill": {
     "duration": 0.017707,
     "end_time": "2024-06-15T15:14:38.259190",
     "exception": false,
     "start_time": "2024-06-15T15:14:38.241483",
     "status": "completed"
    },
    "tags": []
   },
   "outputs": [],
   "source": [
    "device = 'cuda' #utils.use_GPU()"
   ]
  },
  {
   "cell_type": "code",
   "execution_count": 7,
   "id": "dee57610",
   "metadata": {
    "execution": {
     "iopub.execute_input": "2024-06-15T15:14:38.283320Z",
     "iopub.status.busy": "2024-06-15T15:14:38.283077Z",
     "iopub.status.idle": "2024-06-15T15:14:38.298557Z",
     "shell.execute_reply": "2024-06-15T15:14:38.297743Z"
    },
    "papermill": {
     "duration": 0.029619,
     "end_time": "2024-06-15T15:14:38.300570",
     "exception": false,
     "start_time": "2024-06-15T15:14:38.270951",
     "status": "completed"
    },
    "tags": []
   },
   "outputs": [],
   "source": [
    "class FireStorm(nn.Module):\n",
    "    # This model is based on Fire module from SqueezeNet with the addition of BatchNorm \n",
    "    # and the change of ReLU to LeakyReLU\n",
    "\n",
    "    # autoencoder\n",
    "    def __init__(\n",
    "        self,\n",
    "        inplanes: int,\n",
    "        squeeze_planes: int,\n",
    "        expand1x1_planes: int,\n",
    "        expand3x3_planes: int,\n",
    "        \n",
    "    ) -> None:\n",
    "        super().__init__()\n",
    "        self.inplanes = inplanes\n",
    "\n",
    "        self.squeeze = nn.Conv2d(inplanes, squeeze_planes, kernel_size=1)\n",
    "        self.squeeze_activation = nn.LeakyReLU(inplace=True)\n",
    "        self.squeeze_bn = nn.BatchNorm2d(squeeze_planes)\n",
    "       \n",
    "        self.expand1x1 = nn.Conv2d(squeeze_planes, expand1x1_planes, kernel_size=1)\n",
    "        self.expand1x1_activation = nn.LeakyReLU(inplace=True)\n",
    "        self.expand1x1_bn = nn.BatchNorm2d(expand1x1_planes)\n",
    "        \n",
    "        self.expand3x3 = nn.Conv2d(squeeze_planes, expand3x3_planes, kernel_size=3, padding=1)\n",
    "        self.expand3x3_activation = nn.LeakyReLU(inplace=True)\n",
    "        self.expand3x3_bn = nn.BatchNorm2d(expand3x3_planes)\n",
    "\n",
    "    def forward(self, x):\n",
    "        x = self.squeeze_bn(self.squeeze_activation(self.squeeze(x)))\n",
    "        return torch.cat([\n",
    "            self.expand1x1_bn(\n",
    "                self.expand1x1_activation(self.expand1x1(x))\n",
    "            ),\n",
    "            self.expand3x3_bn(\n",
    "                self.expand3x3_activation(self.expand3x3(x)) \n",
    "            ),\n",
    "            ], 1)\n",
    "            \n",
    "        \n",
    "\n",
    "\n",
    "class StormModel2(nn.Module):\n",
    "    # version with more parameters\n",
    "\n",
    "    def __init__(self, num_classes: int = 251, dropout: float = 0.5) -> None:\n",
    "        super().__init__()\n",
    "        self.num_classes = num_classes\n",
    "        self.features = nn.Sequential(\n",
    "            \n",
    "            nn.Conv2d(3, 64, kernel_size=3, stride=2),\n",
    "            nn.LeakyReLU(inplace=True),\n",
    "\n",
    "            nn.MaxPool2d(kernel_size=3, stride=2, ceil_mode=True),\n",
    "\n",
    "            FireStorm(64, 16, 64, 64),\n",
    "            FireStorm(128, 16, 64, 64),\n",
    "\n",
    "            nn.MaxPool2d(kernel_size=3, stride=2, ceil_mode=True),\n",
    "\n",
    "            FireStorm(128, 32, 128, 128),\n",
    "            FireStorm(256, 32, 128, 128),\n",
    "            FireStorm(256, 48, 192, 192),\n",
    "\n",
    "            nn.MaxPool2d(kernel_size=3, stride=2, ceil_mode=True),\n",
    "      \n",
    "            FireStorm(384, 64, 192, 192),\n",
    "            FireStorm(384, 64, 256, 256),  # added module\n",
    "            \n",
    "        )\n",
    "\n",
    "\n",
    "        self.classifier = nn.Sequential(\n",
    "            nn.AdaptiveAvgPool2d((1, 1)),\n",
    "            nn.Flatten(),\n",
    "            nn.Linear(512, 512),\n",
    "            nn.LeakyReLU(inplace=True),\n",
    "            nn.Dropout(p=dropout),\n",
    "            nn.Linear(512, self.num_classes),\n",
    "        )\n",
    "       \n",
    "    def forward(self, x: torch.Tensor) -> torch.Tensor:\n",
    "        x = self.features(x)\n",
    "        x = self.classifier(x)\n",
    "        return torch.flatten(x, 1)\n",
    "\n"
   ]
  },
  {
   "cell_type": "code",
   "execution_count": 8,
   "id": "b0f90670",
   "metadata": {
    "ExecuteTime": {
     "end_time": "2024-06-04T14:24:21.972371Z",
     "start_time": "2024-06-04T14:24:21.961718Z"
    },
    "collapsed": false,
    "execution": {
     "iopub.execute_input": "2024-06-15T15:14:38.326435Z",
     "iopub.status.busy": "2024-06-15T15:14:38.326173Z",
     "iopub.status.idle": "2024-06-15T15:14:38.664262Z",
     "shell.execute_reply": "2024-06-15T15:14:38.663301Z"
    },
    "jupyter": {
     "outputs_hidden": false
    },
    "papermill": {
     "duration": 0.353036,
     "end_time": "2024-06-15T15:14:38.666662",
     "exception": false,
     "start_time": "2024-06-15T15:14:38.313626",
     "status": "completed"
    },
    "tags": []
   },
   "outputs": [],
   "source": [
    "if is_kaggle():\n",
    "    path_SSL = \"/kaggle/input/ssl/pytorch/uploaded/1\"\n",
    "    path_Storm = \"/kaggle/input/stormmodelpretrained/pytorch/dict-gruccia/1\"\n",
    "else:\n",
    "    path_SSL = \".\"\n",
    "    path_Storm = \".\"\n",
    "    \n",
    "\n",
    "#model = models.StormModel()\n",
    "#StormModel = model.to(device)\n",
    "\n",
    "\n",
    "#model = torch.load(os.path.join(path_Storm,\"StormModel1.0.pth\"))\n",
    "#StormModel30 = model.to(device)\n",
    "\n",
    "\n",
    "#model = models.StormModel()  # \n",
    "#model = StormModel2()\n",
    "#StormModel2 = model.to(device)\n",
    "#model.load_state_dict(torch.load(os.path.join(path_SSL,\"StormModelPretrained.pth\")))\n",
    "#model.load_state_dict(torch.load(\"/kaggle/input/stormmodelpretrained/pytorch/dict-gruccia/1/StormModelPretrained.pth\"))\n",
    "#SSLmodel = model.to(device)\n",
    "\n",
    "\n",
    "model = models.StormModel()\n",
    "#model.to(device)\n",
    "#model.load_state_dict(torch.load(\"/kaggle/input/perluca/pytorch/colordifferentdatasetnonorm/1/StormModelPretrained(1).pth\"))\n",
    "#model.load_state_dict(torch.load(\"/kaggle/input/jigsawpretrain/pytorch/same_data/1/MAINjigsawpretrained_same_data.pth\"))\n",
    "#model.load_state_dict(torch.load(\"/kaggle/input/jigsawpretrain/pytorch/first/1/MAINjigsawpretrained.pth\"))\n",
    "#model=torch.load(\"/kaggle/input/final_pretrained/pytorch/samedataset_norm_12ep/1/SSLmodel_pretrained.pth\")\n",
    "SSL_StormModel = model.to(device)"
   ]
  },
  {
   "cell_type": "code",
   "execution_count": 9,
   "id": "3607ba64",
   "metadata": {
    "ExecuteTime": {
     "end_time": "2024-06-04T14:34:04.612770Z",
     "start_time": "2024-06-04T14:34:04.593346Z"
    },
    "collapsed": false,
    "execution": {
     "iopub.execute_input": "2024-06-15T15:14:38.690373Z",
     "iopub.status.busy": "2024-06-15T15:14:38.690099Z",
     "iopub.status.idle": "2024-06-15T15:14:39.665857Z",
     "shell.execute_reply": "2024-06-15T15:14:39.664829Z"
    },
    "jupyter": {
     "outputs_hidden": false
    },
    "papermill": {
     "duration": 0.990065,
     "end_time": "2024-06-15T15:14:39.668242",
     "exception": false,
     "start_time": "2024-06-15T15:14:38.678177",
     "status": "completed"
    },
    "tags": []
   },
   "outputs": [
    {
     "name": "stdout",
     "output_type": "stream",
     "text": [
      "----------------------------------------------------------------\n",
      "        Layer (type)               Output Shape         Param #\n",
      "================================================================\n",
      "            Conv2d-1         [-1, 64, 111, 111]           1,792\n",
      "         LeakyReLU-2         [-1, 64, 111, 111]               0\n",
      "         MaxPool2d-3           [-1, 64, 55, 55]               0\n",
      "            Conv2d-4           [-1, 16, 55, 55]           1,040\n",
      "         LeakyReLU-5           [-1, 16, 55, 55]               0\n",
      "       BatchNorm2d-6           [-1, 16, 55, 55]              32\n",
      "            Conv2d-7           [-1, 64, 55, 55]           1,088\n",
      "         LeakyReLU-8           [-1, 64, 55, 55]               0\n",
      "       BatchNorm2d-9           [-1, 64, 55, 55]             128\n",
      "           Conv2d-10           [-1, 64, 55, 55]           9,280\n",
      "        LeakyReLU-11           [-1, 64, 55, 55]               0\n",
      "      BatchNorm2d-12           [-1, 64, 55, 55]             128\n",
      "        FireStorm-13          [-1, 128, 55, 55]               0\n",
      "           Conv2d-14           [-1, 16, 55, 55]           2,064\n",
      "        LeakyReLU-15           [-1, 16, 55, 55]               0\n",
      "      BatchNorm2d-16           [-1, 16, 55, 55]              32\n",
      "           Conv2d-17           [-1, 64, 55, 55]           1,088\n",
      "        LeakyReLU-18           [-1, 64, 55, 55]               0\n",
      "      BatchNorm2d-19           [-1, 64, 55, 55]             128\n",
      "           Conv2d-20           [-1, 64, 55, 55]           9,280\n",
      "        LeakyReLU-21           [-1, 64, 55, 55]               0\n",
      "      BatchNorm2d-22           [-1, 64, 55, 55]             128\n",
      "        FireStorm-23          [-1, 128, 55, 55]               0\n",
      "        MaxPool2d-24          [-1, 128, 27, 27]               0\n",
      "           Conv2d-25           [-1, 32, 27, 27]           4,128\n",
      "        LeakyReLU-26           [-1, 32, 27, 27]               0\n",
      "      BatchNorm2d-27           [-1, 32, 27, 27]              64\n",
      "           Conv2d-28          [-1, 128, 27, 27]           4,224\n",
      "        LeakyReLU-29          [-1, 128, 27, 27]               0\n",
      "      BatchNorm2d-30          [-1, 128, 27, 27]             256\n",
      "           Conv2d-31          [-1, 128, 27, 27]          36,992\n",
      "        LeakyReLU-32          [-1, 128, 27, 27]               0\n",
      "      BatchNorm2d-33          [-1, 128, 27, 27]             256\n",
      "        FireStorm-34          [-1, 256, 27, 27]               0\n",
      "           Conv2d-35           [-1, 32, 27, 27]           8,224\n",
      "        LeakyReLU-36           [-1, 32, 27, 27]               0\n",
      "      BatchNorm2d-37           [-1, 32, 27, 27]              64\n",
      "           Conv2d-38          [-1, 128, 27, 27]           4,224\n",
      "        LeakyReLU-39          [-1, 128, 27, 27]               0\n",
      "      BatchNorm2d-40          [-1, 128, 27, 27]             256\n",
      "           Conv2d-41          [-1, 128, 27, 27]          36,992\n",
      "        LeakyReLU-42          [-1, 128, 27, 27]               0\n",
      "      BatchNorm2d-43          [-1, 128, 27, 27]             256\n",
      "        FireStorm-44          [-1, 256, 27, 27]               0\n",
      "        MaxPool2d-45          [-1, 256, 13, 13]               0\n",
      "           Conv2d-46           [-1, 48, 13, 13]          12,336\n",
      "        LeakyReLU-47           [-1, 48, 13, 13]               0\n",
      "      BatchNorm2d-48           [-1, 48, 13, 13]              96\n",
      "           Conv2d-49          [-1, 192, 13, 13]           9,408\n",
      "        LeakyReLU-50          [-1, 192, 13, 13]               0\n",
      "      BatchNorm2d-51          [-1, 192, 13, 13]             384\n",
      "           Conv2d-52          [-1, 192, 13, 13]          83,136\n",
      "        LeakyReLU-53          [-1, 192, 13, 13]               0\n",
      "      BatchNorm2d-54          [-1, 192, 13, 13]             384\n",
      "        FireStorm-55          [-1, 384, 13, 13]               0\n",
      "           Conv2d-56           [-1, 64, 13, 13]          24,640\n",
      "        LeakyReLU-57           [-1, 64, 13, 13]               0\n",
      "      BatchNorm2d-58           [-1, 64, 13, 13]             128\n",
      "           Conv2d-59          [-1, 256, 13, 13]          16,640\n",
      "        LeakyReLU-60          [-1, 256, 13, 13]               0\n",
      "      BatchNorm2d-61          [-1, 256, 13, 13]             512\n",
      "           Conv2d-62          [-1, 256, 13, 13]         147,712\n",
      "        LeakyReLU-63          [-1, 256, 13, 13]               0\n",
      "      BatchNorm2d-64          [-1, 256, 13, 13]             512\n",
      "        FireStorm-65          [-1, 512, 13, 13]               0\n",
      "AdaptiveAvgPool2d-66            [-1, 512, 1, 1]               0\n",
      "          Flatten-67                  [-1, 512]               0\n",
      "           Linear-68                  [-1, 512]         262,656\n",
      "        LeakyReLU-69                  [-1, 512]               0\n",
      "          Dropout-70                  [-1, 512]               0\n",
      "           Linear-71                  [-1, 251]         128,763\n",
      "================================================================\n",
      "Total params: 809,451\n",
      "Trainable params: 809,451\n",
      "Non-trainable params: 0\n",
      "----------------------------------------------------------------\n",
      "Input size (MB): 0.57\n",
      "Forward/backward pass size (MB): 57.93\n",
      "Params size (MB): 3.09\n",
      "Estimated Total Size (MB): 61.60\n",
      "----------------------------------------------------------------\n"
     ]
    }
   ],
   "source": [
    "torchsummary.summary(model, (3, 224, 224));"
   ]
  },
  {
   "cell_type": "code",
   "execution_count": 10,
   "id": "ddff99f1",
   "metadata": {
    "ExecuteTime": {
     "end_time": "2024-06-03T16:31:14.275625Z",
     "start_time": "2024-06-03T16:30:54.879615Z"
    },
    "collapsed": false,
    "execution": {
     "iopub.execute_input": "2024-06-15T15:14:39.693718Z",
     "iopub.status.busy": "2024-06-15T15:14:39.693330Z",
     "iopub.status.idle": "2024-06-15T15:14:39.700636Z",
     "shell.execute_reply": "2024-06-15T15:14:39.699827Z"
    },
    "jupyter": {
     "outputs_hidden": false
    },
    "papermill": {
     "duration": 0.021923,
     "end_time": "2024-06-15T15:14:39.702500",
     "exception": false,
     "start_time": "2024-06-15T15:14:39.680577",
     "status": "completed"
    },
    "tags": []
   },
   "outputs": [],
   "source": [
    "# Load data\n",
    "if not is_kaggle():\n",
    "\n",
    "    # check if the train folder is  already created\n",
    "    if not os.path.exists('data/train'):\n",
    "        folder_structure = preprocessing.create_dataset()\n",
    "        # transform it in a dataframe and list the number of images per class in the folders\n",
    "        a = pd.DataFrame([(k, len(v)) for k,v in folder_structure[0].items()], \n",
    "                            columns=['class', 'count'])\n",
    "        b = pd.DataFrame([(k, len(v)) for k,v in folder_structure[1].items()], \n",
    "                            columns=['class', 'count'])\n",
    "        image_counts = pd.merge(a, \n",
    "                                b, \n",
    "                                on='class', \n",
    "                                how='outer', \n",
    "                                suffixes=('_train', '_test'))\n",
    "        \n",
    "        \n",
    "        image_counts.loc[np.argmin(image_counts['count_train']),:]\n",
    "        # create a validation set\n",
    "        preprocessing.create_validation(42);"
   ]
  },
  {
   "cell_type": "code",
   "execution_count": 11,
   "id": "0e44a80f",
   "metadata": {
    "execution": {
     "iopub.execute_input": "2024-06-15T15:14:39.726144Z",
     "iopub.status.busy": "2024-06-15T15:14:39.725899Z",
     "iopub.status.idle": "2024-06-15T15:14:39.729770Z",
     "shell.execute_reply": "2024-06-15T15:14:39.728969Z"
    },
    "papermill": {
     "duration": 0.017512,
     "end_time": "2024-06-15T15:14:39.731526",
     "exception": false,
     "start_time": "2024-06-15T15:14:39.714014",
     "status": "completed"
    },
    "tags": []
   },
   "outputs": [],
   "source": [
    "if is_kaggle():\n",
    "    im_dir = '/kaggle/input/food-dataset-sl/'\n",
    "else:\n",
    "    im_dir ='.'  "
   ]
  },
  {
   "cell_type": "code",
   "execution_count": 12,
   "id": "2a5c9995",
   "metadata": {
    "execution": {
     "iopub.execute_input": "2024-06-15T15:14:39.755106Z",
     "iopub.status.busy": "2024-06-15T15:14:39.754850Z",
     "iopub.status.idle": "2024-06-15T15:14:39.759980Z",
     "shell.execute_reply": "2024-06-15T15:14:39.759211Z"
    },
    "papermill": {
     "duration": 0.018957,
     "end_time": "2024-06-15T15:14:39.761750",
     "exception": false,
     "start_time": "2024-06-15T15:14:39.742793",
     "status": "completed"
    },
    "tags": []
   },
   "outputs": [
    {
     "data": {
      "text/plain": [
       "'/kaggle/input/food-dataset-sl/'"
      ]
     },
     "execution_count": 12,
     "metadata": {},
     "output_type": "execute_result"
    }
   ],
   "source": [
    "im_dir"
   ]
  },
  {
   "cell_type": "code",
   "execution_count": 13,
   "id": "9728a511",
   "metadata": {
    "ExecuteTime": {
     "end_time": "2024-06-03T17:08:44.782398Z",
     "start_time": "2024-06-03T17:08:44.644528Z"
    },
    "collapsed": false,
    "execution": {
     "iopub.execute_input": "2024-06-15T15:14:39.785459Z",
     "iopub.status.busy": "2024-06-15T15:14:39.785225Z",
     "iopub.status.idle": "2024-06-15T15:15:28.425532Z",
     "shell.execute_reply": "2024-06-15T15:15:28.424548Z"
    },
    "jupyter": {
     "outputs_hidden": false
    },
    "papermill": {
     "duration": 48.654885,
     "end_time": "2024-06-15T15:15:28.427982",
     "exception": false,
     "start_time": "2024-06-15T15:14:39.773097",
     "status": "completed"
    },
    "tags": []
   },
   "outputs": [],
   "source": [
    "transform = transforms.Compose([\n",
    "    # resize \n",
    "    transforms.Resize((224, 224)),\n",
    "    transforms.RandomHorizontalFlip(),\n",
    "    #transforms.RandomCrop(224),\n",
    "    transforms.ToTensor(),\n",
    "    # Normalize pixel values\n",
    "    transforms.Normalize(mean= [0.6388, 0.5445, 0.4448],  std =  [0.2713, 0.2864, 0.3131]),\n",
    "])\n",
    "\n",
    "\n",
    "# Load the training dataset\n",
    "trainset = torchvision.datasets.ImageFolder(root=os.path.join(im_dir,'data/train'), transform=transform)\n",
    "\n",
    "# Create data loader for training data with batch size 4 and shuffling\n",
    "trainloader = torch.utils.data.DataLoader(trainset, batch_size=8, shuffle=True, num_workers=4)\n",
    "\n",
    "valset = torchvision.datasets.ImageFolder(root=os.path.join(im_dir,'data/val'), transform=transform)\n",
    "\n",
    "valloader = torch.utils.data.DataLoader(valset, batch_size=16, shuffle=True, num_workers=4)\n",
    "\n",
    "testset = torchvision.datasets.ImageFolder(root=os.path.join(im_dir,'data/test'), transform=transform)\n",
    "\n",
    "testloader = torch.utils.data.DataLoader(testset, batch_size=1, shuffle=False, num_workers=4)\n"
   ]
  },
  {
   "cell_type": "code",
   "execution_count": 14,
   "id": "4fb99d86",
   "metadata": {
    "execution": {
     "iopub.execute_input": "2024-06-15T15:15:28.452328Z",
     "iopub.status.busy": "2024-06-15T15:15:28.452059Z",
     "iopub.status.idle": "2024-06-15T15:15:28.463272Z",
     "shell.execute_reply": "2024-06-15T15:15:28.462641Z"
    },
    "papermill": {
     "duration": 0.025255,
     "end_time": "2024-06-15T15:15:28.465069",
     "exception": false,
     "start_time": "2024-06-15T15:15:28.439814",
     "status": "completed"
    },
    "tags": []
   },
   "outputs": [],
   "source": [
    "# Define criterion, optimizer and scheduler and other parameters for training\n",
    "opt = \"Adam\"                        # optimizer to be used: [\"Adam\" or \"SGD\"]\n",
    "momentum = 0.9                      # momentum ONLY for SGD optimizer\n",
    "weight_decay = 1e-3                 # weight decay ONLY on Adam optimizer\n",
    "step_size = 10                      # step size for the scheduler\n",
    "gamma = 0.2                         # gamma for the scheduler\n",
    "\n",
    "batch_size = 8                      # batch size\n",
    "num_epochs= 50                       # number of epochs\n",
    "patience = 3                        # patience for early stopping\n",
    "criterion =\"CrossEntropyLoss\"       # loss function to be used: [\"CrossEntropyLoss\", \"MSELoss\", \"L1Loss\", \"NLLLoss\"]\n",
    "lr = 1e-4                           # learning rate\n",
    "\n",
    "model_name = \"squeezenet\"           # model name\n",
    "model = model       # model\n",
    "\n",
    "\n",
    "\n",
    "#set the optimizer\n",
    "if opt == \"Adam\":\n",
    "    optimizer = optim.Adam(model.parameters(), lr=lr, weight_decay=weight_decay)\n",
    "elif opt == \"SGD\":\n",
    "    optimizer = optim.SGD(model.parameters(), lr=lr, momentum=momentum)\n",
    "else:\n",
    "    print(\"Invalid optimizer\")\n",
    "\n",
    "#set the criterion\n",
    "if criterion == \"CrossEntropyLoss\":\n",
    "    criterion = nn.CrossEntropyLoss()\n",
    "elif criterion == \"MSELoss\":\n",
    "    criterion = nn.MSELoss()\n",
    "elif criterion == \"L1Loss\":\n",
    "    criterion = nn.L1Loss()\n",
    "elif criterion == \"NLLLoss\":\n",
    "    criterion = nn.NLLLoss()\n",
    "else:\n",
    "    print(\"Invalid criterion\")\n",
    "\n",
    "#set the scheduler\n",
    "scheduler = optim.lr_scheduler.StepLR(optimizer, step_size=step_size, gamma=gamma)\n",
    "\n",
    "# Upload model to correct device\n",
    "model = model.to(device)"
   ]
  },
  {
   "cell_type": "code",
   "execution_count": 15,
   "id": "019d2515",
   "metadata": {
    "execution": {
     "iopub.execute_input": "2024-06-15T15:15:28.490306Z",
     "iopub.status.busy": "2024-06-15T15:15:28.490063Z",
     "iopub.status.idle": "2024-06-15T15:15:28.498980Z",
     "shell.execute_reply": "2024-06-15T15:15:28.498263Z"
    },
    "papermill": {
     "duration": 0.023478,
     "end_time": "2024-06-15T15:15:28.500915",
     "exception": false,
     "start_time": "2024-06-15T15:15:28.477437",
     "status": "completed"
    },
    "tags": []
   },
   "outputs": [],
   "source": [
    "def set_training_parameters(model, model_name, opt, lr, weight_decay, momentum, criterion, step_size, gamma, num_epochs, patience, device):\n",
    "\n",
    "    #set the optimizer\n",
    "    if opt == \"Adam\":\n",
    "        optimizer = optim.Adam(model.parameters(), lr=lr, weight_decay=weight_decay)\n",
    "    elif opt == \"SGD\":\n",
    "        optimizer = optim.SGD(model.parameters(), lr=lr, momentum=momentum)\n",
    "    else:\n",
    "        print(\"Invalid optimizer\")\n",
    "\n",
    "    #set the criterion\n",
    "    if criterion == \"CrossEntropyLoss\":\n",
    "        criterion = nn.CrossEntropyLoss()\n",
    "    elif criterion == \"MSELoss\":\n",
    "        criterion = nn.MSELoss()\n",
    "    elif criterion == \"L1Loss\":\n",
    "        criterion = nn.L1Loss()\n",
    "    elif criterion == \"NLLLoss\":\n",
    "        criterion = nn.NLLLoss()\n",
    "    else:\n",
    "        print(\"Invalid criterion\")\n",
    "\n",
    "    #set the scheduler\n",
    "    scheduler = optim.lr_scheduler.StepLR(optimizer, step_size=step_size, gamma=gamma)\n",
    "\n",
    "    # Upload model to correct device\n",
    "    model = model.to(device)\n",
    "    \n",
    "    training_parameters = {}\n",
    "    training_parameters['model'] = model\n",
    "    training_parameters['model_name'] = model_name\n",
    "    training_parameters['criterion'] = criterion\n",
    "    training_parameters['optimizer'] = optimizer\n",
    "    training_parameters['scheduler'] = scheduler\n",
    "    training_parameters['num_epochs'] = num_epochs\n",
    "    training_parameters['patience'] = patience\n",
    "    \n",
    "    return training_parameters"
   ]
  },
  {
   "cell_type": "code",
   "execution_count": 16,
   "id": "ac878c8a",
   "metadata": {
    "ExecuteTime": {
     "end_time": "2024-06-03T17:23:52.036996Z",
     "start_time": "2024-06-03T17:20:54.527188Z"
    },
    "collapsed": false,
    "execution": {
     "iopub.execute_input": "2024-06-15T15:15:28.525267Z",
     "iopub.status.busy": "2024-06-15T15:15:28.524663Z",
     "iopub.status.idle": "2024-06-15T15:15:28.540077Z",
     "shell.execute_reply": "2024-06-15T15:15:28.539378Z"
    },
    "jupyter": {
     "outputs_hidden": false
    },
    "papermill": {
     "duration": 0.029439,
     "end_time": "2024-06-15T15:15:28.541911",
     "exception": false,
     "start_time": "2024-06-15T15:15:28.512472",
     "status": "completed"
    },
    "tags": []
   },
   "outputs": [],
   "source": [
    "# Training function based on above parameters\n",
    "def train_model(model, model_name, trainloader, valloader, criterion, optimizer, scheduler, num_epochs=10, patience=3 ):\n",
    "\n",
    "    mlflow.start_run(run_name=model_name)\n",
    "\n",
    "    # Log model parameters\n",
    "    mlflow.log_param(\"optimizer\", opt)\n",
    "    mlflow.log_param(\"learning_rate\", lr)\n",
    "    mlflow.log_param(\"batch_size\", batch_size)\n",
    "    mlflow.log_param(\"num_epochs\", num_epochs)\n",
    "    mlflow.log_param(\"momentum\", momentum)\n",
    "    mlflow.log_param(\"weight_decay\", weight_decay)\n",
    "    mlflow.log_param(\"step_size\", step_size)\n",
    "    mlflow.log_param(\"gamma\", gamma)\n",
    "    mlflow.log_param(\"patience\", patience)\n",
    "\n",
    "    starting_step=0\n",
    "\n",
    "    patience_counter = 0\n",
    "    best_model = None\n",
    "    best_loss = np.inf\n",
    "        \n",
    "    for epoch in range(num_epochs):\n",
    "        model.train()  # Set model to training mode\n",
    "        running_loss = 0.0\n",
    "        train_loader_tqdm = tqdm.tqdm(trainloader, desc=f\"Epoch {epoch+1}/{num_epochs}\", \n",
    "                                unit=\"batch\")\n",
    "        ind_rloss=1\n",
    "        for inputs, labels in train_loader_tqdm:\n",
    "            inputs, labels = inputs.to(device), labels.to(device)\n",
    "\n",
    "            # Zero the parameter gradients\n",
    "            optimizer.zero_grad()\n",
    "\n",
    "            # Forward pass\n",
    "            outputs = model(inputs)\n",
    "            loss = criterion(outputs, labels)\n",
    "\n",
    "            # Backward pass and optimize\n",
    "            loss.backward()\n",
    "            optimizer.step()\n",
    "\n",
    "            # Print statistics\n",
    "            running_loss += loss.item()\n",
    "            train_loader_tqdm.set_postfix(loss=running_loss / ind_rloss)\n",
    "            ind_rloss +=1\n",
    "\n",
    "        epoch_loss = running_loss / len(trainloader)\n",
    "        print(f'Epoch [{epoch+1}/{num_epochs}], Loss: {epoch_loss:.4f}')\n",
    "\n",
    "        scheduler.step()\n",
    "        mlflow.log_metric(\"train_loss\", epoch_loss, step=starting_step+epoch)\n",
    "        \n",
    "        # Validation loop (optional)\n",
    "        model.eval()  # Set model to evaluation mode\n",
    "        val_loss = 0.0\n",
    "        correct = 0\n",
    "        total = 0\n",
    "\n",
    "        with torch.no_grad():\n",
    "            for inputs, labels in valloader:\n",
    "                inputs, labels = inputs.to(device), labels.to(device)\n",
    "\n",
    "                outputs = model(inputs)\n",
    "                loss = criterion(outputs, labels)\n",
    "                val_loss += loss.item()\n",
    "\n",
    "                _, predicted = torch.max(outputs.data, 1)\n",
    "                total += labels.size(0)\n",
    "                correct += (predicted == labels).sum().item()\n",
    "\n",
    "        val_loss /= len(valloader)\n",
    "        val_accuracy = 100 * correct / total\n",
    "        print(f'Validation Loss: {val_loss:.4f}, Validation Accuracy: {val_accuracy:.2f}%')\n",
    "        \n",
    "        # Log validation loss and accuracy\n",
    "        mlflow.log_metric(\"val_loss\", val_loss, step=starting_step+epoch)\n",
    "        mlflow.log_metric(\"val_accuracy\", val_accuracy, step=starting_step+epoch)\n",
    "        \n",
    "        # Early stopping\n",
    "        if val_loss < best_loss:\n",
    "            best_loss = val_loss\n",
    "            best_model = model\n",
    "            patience_counter = 0\n",
    "        else:\n",
    "            patience_counter += 1\n",
    "            if patience_counter > patience:\n",
    "                print(\"Early stopping\")\n",
    "                break\n",
    "                    \n",
    "    # Log the model\n",
    "    mlflow.pytorch.log_model(best_model, model_name)\n",
    "\n",
    "    # End the MLflow run\n",
    "    mlflow.end_run()\n",
    "\n",
    "    print('Finished Training')\n"
   ]
  },
  {
   "cell_type": "markdown",
   "id": "ab9784fe",
   "metadata": {
    "papermill": {
     "duration": 0.011368,
     "end_time": "2024-06-15T15:15:28.565459",
     "exception": false,
     "start_time": "2024-06-15T15:15:28.554091",
     "status": "completed"
    },
    "tags": []
   },
   "source": []
  },
  {
   "cell_type": "code",
   "execution_count": 17,
   "id": "7cadf7f0",
   "metadata": {
    "execution": {
     "iopub.execute_input": "2024-06-15T15:15:28.589606Z",
     "iopub.status.busy": "2024-06-15T15:15:28.589329Z",
     "iopub.status.idle": "2024-06-15T15:15:28.595732Z",
     "shell.execute_reply": "2024-06-15T15:15:28.594923Z"
    },
    "papermill": {
     "duration": 0.020699,
     "end_time": "2024-06-15T15:15:28.597659",
     "exception": false,
     "start_time": "2024-06-15T15:15:28.576960",
     "status": "completed"
    },
    "tags": []
   },
   "outputs": [],
   "source": [
    "def Save_mlruns():\n",
    "    print(\"moving to working directory...\")\n",
    "    ! cd /kaggle/working/\n",
    "    print(\"zipping directory...\")\n",
    "    ! zip -r mlruns.zip mlruns\n",
    "    print(\"!!REMEMBER TO DOWNLOAD IT FROM THE OUTPUT SECTION!!\")\n",
    "    print(\"back to home directory...\")\n",
    "    ! cd "
   ]
  },
  {
   "cell_type": "code",
   "execution_count": 18,
   "id": "c1070dcc",
   "metadata": {
    "execution": {
     "iopub.execute_input": "2024-06-15T15:15:28.622073Z",
     "iopub.status.busy": "2024-06-15T15:15:28.621838Z",
     "iopub.status.idle": "2024-06-15T18:51:16.752972Z",
     "shell.execute_reply": "2024-06-15T18:51:16.751708Z"
    },
    "papermill": {
     "duration": 12948.145807,
     "end_time": "2024-06-15T18:51:16.755350",
     "exception": false,
     "start_time": "2024-06-15T15:15:28.609543",
     "status": "completed"
    },
    "tags": []
   },
   "outputs": [
    {
     "name": "stderr",
     "output_type": "stream",
     "text": [
      "Epoch 1/50: 100%|██████████| 11860/11860 [04:46<00:00, 41.36batch/s, loss=5]"
     ]
    },
    {
     "name": "stdout",
     "output_type": "stream",
     "text": [
      "Epoch [1/50], Loss: 5.0029\n"
     ]
    },
    {
     "name": "stderr",
     "output_type": "stream",
     "text": [
      "\n"
     ]
    },
    {
     "name": "stdout",
     "output_type": "stream",
     "text": [
      "Validation Loss: 4.6008, Validation Accuracy: 7.21%\n"
     ]
    },
    {
     "name": "stderr",
     "output_type": "stream",
     "text": [
      "Epoch 2/50: 100%|██████████| 11860/11860 [04:26<00:00, 44.46batch/s, loss=4.63]"
     ]
    },
    {
     "name": "stdout",
     "output_type": "stream",
     "text": [
      "Epoch [2/50], Loss: 4.6283\n"
     ]
    },
    {
     "name": "stderr",
     "output_type": "stream",
     "text": [
      "\n"
     ]
    },
    {
     "name": "stdout",
     "output_type": "stream",
     "text": [
      "Validation Loss: 4.3506, Validation Accuracy: 10.65%\n"
     ]
    },
    {
     "name": "stderr",
     "output_type": "stream",
     "text": [
      "Epoch 3/50: 100%|██████████| 11860/11860 [04:28<00:00, 44.18batch/s, loss=4.41]"
     ]
    },
    {
     "name": "stdout",
     "output_type": "stream",
     "text": [
      "Epoch [3/50], Loss: 4.4139\n"
     ]
    },
    {
     "name": "stderr",
     "output_type": "stream",
     "text": [
      "\n"
     ]
    },
    {
     "name": "stdout",
     "output_type": "stream",
     "text": [
      "Validation Loss: 4.1059, Validation Accuracy: 14.12%\n"
     ]
    },
    {
     "name": "stderr",
     "output_type": "stream",
     "text": [
      "Epoch 4/50: 100%|██████████| 11860/11860 [04:29<00:00, 44.02batch/s, loss=4.24]"
     ]
    },
    {
     "name": "stdout",
     "output_type": "stream",
     "text": [
      "Epoch [4/50], Loss: 4.2449\n"
     ]
    },
    {
     "name": "stderr",
     "output_type": "stream",
     "text": [
      "\n"
     ]
    },
    {
     "name": "stdout",
     "output_type": "stream",
     "text": [
      "Validation Loss: 3.9761, Validation Accuracy: 15.93%\n"
     ]
    },
    {
     "name": "stderr",
     "output_type": "stream",
     "text": [
      "Epoch 5/50: 100%|██████████| 11860/11860 [04:29<00:00, 43.97batch/s, loss=4.1]"
     ]
    },
    {
     "name": "stdout",
     "output_type": "stream",
     "text": [
      "Epoch [5/50], Loss: 4.1045\n"
     ]
    },
    {
     "name": "stderr",
     "output_type": "stream",
     "text": [
      "\n"
     ]
    },
    {
     "name": "stdout",
     "output_type": "stream",
     "text": [
      "Validation Loss: 3.8240, Validation Accuracy: 18.22%\n"
     ]
    },
    {
     "name": "stderr",
     "output_type": "stream",
     "text": [
      "Epoch 6/50: 100%|██████████| 11860/11860 [04:29<00:00, 44.02batch/s, loss=3.99]\n"
     ]
    },
    {
     "name": "stdout",
     "output_type": "stream",
     "text": [
      "Epoch [6/50], Loss: 3.9861\n",
      "Validation Loss: 3.7568, Validation Accuracy: 19.68%\n"
     ]
    },
    {
     "name": "stderr",
     "output_type": "stream",
     "text": [
      "Epoch 7/50: 100%|██████████| 11860/11860 [04:28<00:00, 44.13batch/s, loss=3.88]"
     ]
    },
    {
     "name": "stdout",
     "output_type": "stream",
     "text": [
      "Epoch [7/50], Loss: 3.8809\n"
     ]
    },
    {
     "name": "stderr",
     "output_type": "stream",
     "text": [
      "\n"
     ]
    },
    {
     "name": "stdout",
     "output_type": "stream",
     "text": [
      "Validation Loss: 3.6426, Validation Accuracy: 21.38%\n"
     ]
    },
    {
     "name": "stderr",
     "output_type": "stream",
     "text": [
      "Epoch 8/50: 100%|██████████| 11860/11860 [04:30<00:00, 43.90batch/s, loss=3.8]"
     ]
    },
    {
     "name": "stdout",
     "output_type": "stream",
     "text": [
      "Epoch [8/50], Loss: 3.8018\n"
     ]
    },
    {
     "name": "stderr",
     "output_type": "stream",
     "text": [
      "\n"
     ]
    },
    {
     "name": "stdout",
     "output_type": "stream",
     "text": [
      "Validation Loss: 3.6077, Validation Accuracy: 22.84%\n"
     ]
    },
    {
     "name": "stderr",
     "output_type": "stream",
     "text": [
      "Epoch 9/50: 100%|██████████| 11860/11860 [04:28<00:00, 44.21batch/s, loss=3.72]"
     ]
    },
    {
     "name": "stdout",
     "output_type": "stream",
     "text": [
      "Epoch [9/50], Loss: 3.7183\n"
     ]
    },
    {
     "name": "stderr",
     "output_type": "stream",
     "text": [
      "\n"
     ]
    },
    {
     "name": "stdout",
     "output_type": "stream",
     "text": [
      "Validation Loss: 3.5182, Validation Accuracy: 23.49%\n"
     ]
    },
    {
     "name": "stderr",
     "output_type": "stream",
     "text": [
      "Epoch 10/50: 100%|██████████| 11860/11860 [04:26<00:00, 44.55batch/s, loss=3.65]"
     ]
    },
    {
     "name": "stdout",
     "output_type": "stream",
     "text": [
      "Epoch [10/50], Loss: 3.6464\n"
     ]
    },
    {
     "name": "stderr",
     "output_type": "stream",
     "text": [
      "\n"
     ]
    },
    {
     "name": "stdout",
     "output_type": "stream",
     "text": [
      "Validation Loss: 3.3792, Validation Accuracy: 26.00%\n"
     ]
    },
    {
     "name": "stderr",
     "output_type": "stream",
     "text": [
      "Epoch 11/50: 100%|██████████| 11860/11860 [04:26<00:00, 44.56batch/s, loss=3.47]"
     ]
    },
    {
     "name": "stdout",
     "output_type": "stream",
     "text": [
      "Epoch [11/50], Loss: 3.4671\n"
     ]
    },
    {
     "name": "stderr",
     "output_type": "stream",
     "text": [
      "\n"
     ]
    },
    {
     "name": "stdout",
     "output_type": "stream",
     "text": [
      "Validation Loss: 3.2564, Validation Accuracy: 28.25%\n"
     ]
    },
    {
     "name": "stderr",
     "output_type": "stream",
     "text": [
      "Epoch 12/50: 100%|██████████| 11860/11860 [04:27<00:00, 44.32batch/s, loss=3.43]"
     ]
    },
    {
     "name": "stdout",
     "output_type": "stream",
     "text": [
      "Epoch [12/50], Loss: 3.4326\n"
     ]
    },
    {
     "name": "stderr",
     "output_type": "stream",
     "text": [
      "\n"
     ]
    },
    {
     "name": "stdout",
     "output_type": "stream",
     "text": [
      "Validation Loss: 3.2600, Validation Accuracy: 28.52%\n"
     ]
    },
    {
     "name": "stderr",
     "output_type": "stream",
     "text": [
      "Epoch 13/50: 100%|██████████| 11860/11860 [04:36<00:00, 42.93batch/s, loss=3.4]"
     ]
    },
    {
     "name": "stdout",
     "output_type": "stream",
     "text": [
      "Epoch [13/50], Loss: 3.4017\n"
     ]
    },
    {
     "name": "stderr",
     "output_type": "stream",
     "text": [
      "\n"
     ]
    },
    {
     "name": "stdout",
     "output_type": "stream",
     "text": [
      "Validation Loss: 3.2157, Validation Accuracy: 29.13%\n"
     ]
    },
    {
     "name": "stderr",
     "output_type": "stream",
     "text": [
      "Epoch 14/50: 100%|██████████| 11860/11860 [04:28<00:00, 44.19batch/s, loss=3.38]"
     ]
    },
    {
     "name": "stdout",
     "output_type": "stream",
     "text": [
      "Epoch [14/50], Loss: 3.3785\n"
     ]
    },
    {
     "name": "stderr",
     "output_type": "stream",
     "text": [
      "\n"
     ]
    },
    {
     "name": "stdout",
     "output_type": "stream",
     "text": [
      "Validation Loss: 3.1979, Validation Accuracy: 29.68%\n"
     ]
    },
    {
     "name": "stderr",
     "output_type": "stream",
     "text": [
      "Epoch 15/50: 100%|██████████| 11860/11860 [04:28<00:00, 44.09batch/s, loss=3.36]\n"
     ]
    },
    {
     "name": "stdout",
     "output_type": "stream",
     "text": [
      "Epoch [15/50], Loss: 3.3586\n",
      "Validation Loss: 3.1812, Validation Accuracy: 29.56%\n"
     ]
    },
    {
     "name": "stderr",
     "output_type": "stream",
     "text": [
      "Epoch 16/50: 100%|██████████| 11860/11860 [04:27<00:00, 44.34batch/s, loss=3.34]"
     ]
    },
    {
     "name": "stdout",
     "output_type": "stream",
     "text": [
      "Epoch [16/50], Loss: 3.3425\n"
     ]
    },
    {
     "name": "stderr",
     "output_type": "stream",
     "text": [
      "\n"
     ]
    },
    {
     "name": "stdout",
     "output_type": "stream",
     "text": [
      "Validation Loss: 3.1739, Validation Accuracy: 30.12%\n"
     ]
    },
    {
     "name": "stderr",
     "output_type": "stream",
     "text": [
      "Epoch 17/50: 100%|██████████| 11860/11860 [04:29<00:00, 44.01batch/s, loss=3.32]"
     ]
    },
    {
     "name": "stdout",
     "output_type": "stream",
     "text": [
      "Epoch [17/50], Loss: 3.3232\n"
     ]
    },
    {
     "name": "stderr",
     "output_type": "stream",
     "text": [
      "\n"
     ]
    },
    {
     "name": "stdout",
     "output_type": "stream",
     "text": [
      "Validation Loss: 3.1704, Validation Accuracy: 29.72%\n"
     ]
    },
    {
     "name": "stderr",
     "output_type": "stream",
     "text": [
      "Epoch 18/50: 100%|██████████| 11860/11860 [04:28<00:00, 44.11batch/s, loss=3.31]"
     ]
    },
    {
     "name": "stdout",
     "output_type": "stream",
     "text": [
      "Epoch [18/50], Loss: 3.3086\n"
     ]
    },
    {
     "name": "stderr",
     "output_type": "stream",
     "text": [
      "\n"
     ]
    },
    {
     "name": "stdout",
     "output_type": "stream",
     "text": [
      "Validation Loss: 3.1794, Validation Accuracy: 29.96%\n"
     ]
    },
    {
     "name": "stderr",
     "output_type": "stream",
     "text": [
      "Epoch 19/50: 100%|██████████| 11860/11860 [04:26<00:00, 44.44batch/s, loss=3.29]"
     ]
    },
    {
     "name": "stdout",
     "output_type": "stream",
     "text": [
      "Epoch [19/50], Loss: 3.2894\n"
     ]
    },
    {
     "name": "stderr",
     "output_type": "stream",
     "text": [
      "\n"
     ]
    },
    {
     "name": "stdout",
     "output_type": "stream",
     "text": [
      "Validation Loss: 3.1246, Validation Accuracy: 30.69%\n"
     ]
    },
    {
     "name": "stderr",
     "output_type": "stream",
     "text": [
      "Epoch 20/50: 100%|██████████| 11860/11860 [04:27<00:00, 44.42batch/s, loss=3.27]"
     ]
    },
    {
     "name": "stdout",
     "output_type": "stream",
     "text": [
      "Epoch [20/50], Loss: 3.2726\n"
     ]
    },
    {
     "name": "stderr",
     "output_type": "stream",
     "text": [
      "\n"
     ]
    },
    {
     "name": "stdout",
     "output_type": "stream",
     "text": [
      "Validation Loss: 3.1188, Validation Accuracy: 30.94%\n"
     ]
    },
    {
     "name": "stderr",
     "output_type": "stream",
     "text": [
      "Epoch 21/50: 100%|██████████| 11860/11860 [04:26<00:00, 44.48batch/s, loss=3.23]"
     ]
    },
    {
     "name": "stdout",
     "output_type": "stream",
     "text": [
      "Epoch [21/50], Loss: 3.2274\n"
     ]
    },
    {
     "name": "stderr",
     "output_type": "stream",
     "text": [
      "\n"
     ]
    },
    {
     "name": "stdout",
     "output_type": "stream",
     "text": [
      "Validation Loss: 3.1111, Validation Accuracy: 30.92%\n"
     ]
    },
    {
     "name": "stderr",
     "output_type": "stream",
     "text": [
      "Epoch 22/50: 100%|██████████| 11860/11860 [04:25<00:00, 44.64batch/s, loss=3.22]"
     ]
    },
    {
     "name": "stdout",
     "output_type": "stream",
     "text": [
      "Epoch [22/50], Loss: 3.2231\n"
     ]
    },
    {
     "name": "stderr",
     "output_type": "stream",
     "text": [
      "\n"
     ]
    },
    {
     "name": "stdout",
     "output_type": "stream",
     "text": [
      "Validation Loss: 3.0922, Validation Accuracy: 31.08%\n"
     ]
    },
    {
     "name": "stderr",
     "output_type": "stream",
     "text": [
      "Epoch 23/50: 100%|██████████| 11860/11860 [04:25<00:00, 44.67batch/s, loss=3.21]"
     ]
    },
    {
     "name": "stdout",
     "output_type": "stream",
     "text": [
      "Epoch [23/50], Loss: 3.2147\n"
     ]
    },
    {
     "name": "stderr",
     "output_type": "stream",
     "text": [
      "\n"
     ]
    },
    {
     "name": "stdout",
     "output_type": "stream",
     "text": [
      "Validation Loss: 3.1017, Validation Accuracy: 31.30%\n"
     ]
    },
    {
     "name": "stderr",
     "output_type": "stream",
     "text": [
      "Epoch 24/50: 100%|██████████| 11860/11860 [04:25<00:00, 44.63batch/s, loss=3.21]"
     ]
    },
    {
     "name": "stdout",
     "output_type": "stream",
     "text": [
      "Epoch [24/50], Loss: 3.2097\n"
     ]
    },
    {
     "name": "stderr",
     "output_type": "stream",
     "text": [
      "\n"
     ]
    },
    {
     "name": "stdout",
     "output_type": "stream",
     "text": [
      "Validation Loss: 3.0926, Validation Accuracy: 31.22%\n"
     ]
    },
    {
     "name": "stderr",
     "output_type": "stream",
     "text": [
      "Epoch 25/50: 100%|██████████| 11860/11860 [04:26<00:00, 44.55batch/s, loss=3.21]"
     ]
    },
    {
     "name": "stdout",
     "output_type": "stream",
     "text": [
      "Epoch [25/50], Loss: 3.2109\n"
     ]
    },
    {
     "name": "stderr",
     "output_type": "stream",
     "text": [
      "\n"
     ]
    },
    {
     "name": "stdout",
     "output_type": "stream",
     "text": [
      "Validation Loss: 3.1019, Validation Accuracy: 31.54%\n"
     ]
    },
    {
     "name": "stderr",
     "output_type": "stream",
     "text": [
      "Epoch 26/50: 100%|██████████| 11860/11860 [04:26<00:00, 44.53batch/s, loss=3.21]"
     ]
    },
    {
     "name": "stdout",
     "output_type": "stream",
     "text": [
      "Epoch [26/50], Loss: 3.2072\n"
     ]
    },
    {
     "name": "stderr",
     "output_type": "stream",
     "text": [
      "\n"
     ]
    },
    {
     "name": "stdout",
     "output_type": "stream",
     "text": [
      "Validation Loss: 3.0775, Validation Accuracy: 31.27%\n"
     ]
    },
    {
     "name": "stderr",
     "output_type": "stream",
     "text": [
      "Epoch 27/50: 100%|██████████| 11860/11860 [04:27<00:00, 44.31batch/s, loss=3.2]"
     ]
    },
    {
     "name": "stdout",
     "output_type": "stream",
     "text": [
      "Epoch [27/50], Loss: 3.1973\n"
     ]
    },
    {
     "name": "stderr",
     "output_type": "stream",
     "text": [
      "\n"
     ]
    },
    {
     "name": "stdout",
     "output_type": "stream",
     "text": [
      "Validation Loss: 3.0949, Validation Accuracy: 31.36%\n"
     ]
    },
    {
     "name": "stderr",
     "output_type": "stream",
     "text": [
      "Epoch 28/50: 100%|██████████| 11860/11860 [04:27<00:00, 44.40batch/s, loss=3.19]"
     ]
    },
    {
     "name": "stdout",
     "output_type": "stream",
     "text": [
      "Epoch [28/50], Loss: 3.1926\n"
     ]
    },
    {
     "name": "stderr",
     "output_type": "stream",
     "text": [
      "\n"
     ]
    },
    {
     "name": "stdout",
     "output_type": "stream",
     "text": [
      "Validation Loss: 3.0929, Validation Accuracy: 31.08%\n"
     ]
    },
    {
     "name": "stderr",
     "output_type": "stream",
     "text": [
      "Epoch 29/50: 100%|██████████| 11860/11860 [04:27<00:00, 44.38batch/s, loss=3.19]"
     ]
    },
    {
     "name": "stdout",
     "output_type": "stream",
     "text": [
      "Epoch [29/50], Loss: 3.1889\n"
     ]
    },
    {
     "name": "stderr",
     "output_type": "stream",
     "text": [
      "\n"
     ]
    },
    {
     "name": "stdout",
     "output_type": "stream",
     "text": [
      "Validation Loss: 3.0852, Validation Accuracy: 31.63%\n"
     ]
    },
    {
     "name": "stderr",
     "output_type": "stream",
     "text": [
      "Epoch 30/50: 100%|██████████| 11860/11860 [04:27<00:00, 44.26batch/s, loss=3.19]"
     ]
    },
    {
     "name": "stdout",
     "output_type": "stream",
     "text": [
      "Epoch [30/50], Loss: 3.1870\n"
     ]
    },
    {
     "name": "stderr",
     "output_type": "stream",
     "text": [
      "\n"
     ]
    },
    {
     "name": "stdout",
     "output_type": "stream",
     "text": [
      "Validation Loss: 3.0802, Validation Accuracy: 31.74%\n"
     ]
    },
    {
     "name": "stderr",
     "output_type": "stream",
     "text": [
      "Epoch 31/50: 100%|██████████| 11860/11860 [04:28<00:00, 44.25batch/s, loss=3.17]"
     ]
    },
    {
     "name": "stdout",
     "output_type": "stream",
     "text": [
      "Epoch [31/50], Loss: 3.1698\n"
     ]
    },
    {
     "name": "stderr",
     "output_type": "stream",
     "text": [
      "\n"
     ]
    },
    {
     "name": "stdout",
     "output_type": "stream",
     "text": [
      "Validation Loss: 3.0725, Validation Accuracy: 31.61%\n"
     ]
    },
    {
     "name": "stderr",
     "output_type": "stream",
     "text": [
      "Epoch 32/50: 100%|██████████| 11860/11860 [04:27<00:00, 44.37batch/s, loss=3.17]"
     ]
    },
    {
     "name": "stdout",
     "output_type": "stream",
     "text": [
      "Epoch [32/50], Loss: 3.1735\n"
     ]
    },
    {
     "name": "stderr",
     "output_type": "stream",
     "text": [
      "\n"
     ]
    },
    {
     "name": "stdout",
     "output_type": "stream",
     "text": [
      "Validation Loss: 3.0806, Validation Accuracy: 31.61%\n"
     ]
    },
    {
     "name": "stderr",
     "output_type": "stream",
     "text": [
      "Epoch 33/50: 100%|██████████| 11860/11860 [04:28<00:00, 44.10batch/s, loss=3.17]"
     ]
    },
    {
     "name": "stdout",
     "output_type": "stream",
     "text": [
      "Epoch [33/50], Loss: 3.1748\n"
     ]
    },
    {
     "name": "stderr",
     "output_type": "stream",
     "text": [
      "\n"
     ]
    },
    {
     "name": "stdout",
     "output_type": "stream",
     "text": [
      "Validation Loss: 3.0937, Validation Accuracy: 31.53%\n"
     ]
    },
    {
     "name": "stderr",
     "output_type": "stream",
     "text": [
      "Epoch 34/50: 100%|██████████| 11860/11860 [04:29<00:00, 43.98batch/s, loss=3.17]"
     ]
    },
    {
     "name": "stdout",
     "output_type": "stream",
     "text": [
      "Epoch [34/50], Loss: 3.1688\n"
     ]
    },
    {
     "name": "stderr",
     "output_type": "stream",
     "text": [
      "\n"
     ]
    },
    {
     "name": "stdout",
     "output_type": "stream",
     "text": [
      "Validation Loss: 3.0822, Validation Accuracy: 31.40%\n"
     ]
    },
    {
     "name": "stderr",
     "output_type": "stream",
     "text": [
      "Epoch 35/50: 100%|██████████| 11860/11860 [04:29<00:00, 44.02batch/s, loss=3.17]"
     ]
    },
    {
     "name": "stdout",
     "output_type": "stream",
     "text": [
      "Epoch [35/50], Loss: 3.1716\n"
     ]
    },
    {
     "name": "stderr",
     "output_type": "stream",
     "text": [
      "\n"
     ]
    },
    {
     "name": "stdout",
     "output_type": "stream",
     "text": [
      "Validation Loss: 3.0908, Validation Accuracy: 31.41%\n"
     ]
    },
    {
     "name": "stderr",
     "output_type": "stream",
     "text": [
      "Epoch 36/50: 100%|██████████| 11860/11860 [04:29<00:00, 44.05batch/s, loss=3.17]"
     ]
    },
    {
     "name": "stdout",
     "output_type": "stream",
     "text": [
      "Epoch [36/50], Loss: 3.1737\n"
     ]
    },
    {
     "name": "stderr",
     "output_type": "stream",
     "text": [
      "\n"
     ]
    },
    {
     "name": "stdout",
     "output_type": "stream",
     "text": [
      "Validation Loss: 3.0558, Validation Accuracy: 32.03%\n"
     ]
    },
    {
     "name": "stderr",
     "output_type": "stream",
     "text": [
      "Epoch 37/50: 100%|██████████| 11860/11860 [04:25<00:00, 44.64batch/s, loss=3.16]"
     ]
    },
    {
     "name": "stdout",
     "output_type": "stream",
     "text": [
      "Epoch [37/50], Loss: 3.1641\n"
     ]
    },
    {
     "name": "stderr",
     "output_type": "stream",
     "text": [
      "\n"
     ]
    },
    {
     "name": "stdout",
     "output_type": "stream",
     "text": [
      "Validation Loss: 3.0618, Validation Accuracy: 31.81%\n"
     ]
    },
    {
     "name": "stderr",
     "output_type": "stream",
     "text": [
      "Epoch 38/50: 100%|██████████| 11860/11860 [04:23<00:00, 45.08batch/s, loss=3.17]\n"
     ]
    },
    {
     "name": "stdout",
     "output_type": "stream",
     "text": [
      "Epoch [38/50], Loss: 3.1658\n",
      "Validation Loss: 3.0957, Validation Accuracy: 31.41%\n"
     ]
    },
    {
     "name": "stderr",
     "output_type": "stream",
     "text": [
      "Epoch 39/50: 100%|██████████| 11860/11860 [04:29<00:00, 44.00batch/s, loss=3.16]"
     ]
    },
    {
     "name": "stdout",
     "output_type": "stream",
     "text": [
      "Epoch [39/50], Loss: 3.1627\n"
     ]
    },
    {
     "name": "stderr",
     "output_type": "stream",
     "text": [
      "\n"
     ]
    },
    {
     "name": "stdout",
     "output_type": "stream",
     "text": [
      "Validation Loss: 3.0738, Validation Accuracy: 31.82%\n"
     ]
    },
    {
     "name": "stderr",
     "output_type": "stream",
     "text": [
      "Epoch 40/50: 100%|██████████| 11860/11860 [04:23<00:00, 44.99batch/s, loss=3.17]"
     ]
    },
    {
     "name": "stdout",
     "output_type": "stream",
     "text": [
      "Epoch [40/50], Loss: 3.1700\n"
     ]
    },
    {
     "name": "stderr",
     "output_type": "stream",
     "text": [
      "\n"
     ]
    },
    {
     "name": "stdout",
     "output_type": "stream",
     "text": [
      "Validation Loss: 3.0838, Validation Accuracy: 31.53%\n"
     ]
    },
    {
     "name": "stderr",
     "output_type": "stream",
     "text": [
      "Epoch 41/50: 100%|██████████| 11860/11860 [04:29<00:00, 44.00batch/s, loss=3.16]"
     ]
    },
    {
     "name": "stdout",
     "output_type": "stream",
     "text": [
      "Epoch [41/50], Loss: 3.1622\n"
     ]
    },
    {
     "name": "stderr",
     "output_type": "stream",
     "text": [
      "\n"
     ]
    },
    {
     "name": "stdout",
     "output_type": "stream",
     "text": [
      "Validation Loss: 3.0759, Validation Accuracy: 31.84%\n"
     ]
    },
    {
     "name": "stderr",
     "output_type": "stream",
     "text": [
      "Epoch 42/50: 100%|██████████| 11860/11860 [04:22<00:00, 45.22batch/s, loss=3.17]"
     ]
    },
    {
     "name": "stdout",
     "output_type": "stream",
     "text": [
      "Epoch [42/50], Loss: 3.1676\n"
     ]
    },
    {
     "name": "stderr",
     "output_type": "stream",
     "text": [
      "\n"
     ]
    },
    {
     "name": "stdout",
     "output_type": "stream",
     "text": [
      "Validation Loss: 3.0674, Validation Accuracy: 31.91%\n",
      "Early stopping\n",
      "Finished Training\n"
     ]
    }
   ],
   "source": [
    "# example of training \n",
    "\n",
    "# Define criterion, optimizer and scheduler and other parameters for training\n",
    "opt = \"Adam\"                        # optimizer to be used: [\"Adam\" or \"SGD\"]\n",
    "momentum = 0.9                      # momentum ONLY for SGD optimizer\n",
    "weight_decay = 1e-4                 # weight decay ONLY on Adam optimizer\n",
    "step_size = 10                     # step size for the scheduler\n",
    "gamma = 0.2                         # gamma for the scheduler\n",
    "\n",
    "batch_size = 64                      # batch size\n",
    "num_epochs= 50                      # number of epochs\n",
    "patience = 5                        # patience for early stopping\n",
    "criterion =\"CrossEntropyLoss\"       # loss function to be used: [\"CrossEntropyLoss\", \"MSELoss\", \"L1Loss\", \"NLLLoss\"]\n",
    "lr = 1e-4                          # learning rate\n",
    "\n",
    "model_name = \"Classic_Storm_Model_50\"           # model name\n",
    "model =  SSL_StormModel               # model\n",
    "\n",
    "tr_param = set_training_parameters(model=model,model_name = model_name, opt=opt, lr=lr, weight_decay=weight_decay, \n",
    "                                   momentum=momentum, criterion=criterion, step_size=step_size, gamma=gamma, num_epochs=num_epochs, \n",
    "                                   patience=patience, device=device)\n",
    "\n",
    "#stop eventual mlflow runs\n",
    "mlflow.end_run()\n",
    "train_model(**tr_param, trainloader=trainloader, valloader=valloader)"
   ]
  },
  {
   "cell_type": "code",
   "execution_count": 19,
   "id": "3ff89e84",
   "metadata": {
    "execution": {
     "iopub.execute_input": "2024-06-15T18:52:56.107880Z",
     "iopub.status.busy": "2024-06-15T18:52:56.107501Z",
     "iopub.status.idle": "2024-06-15T18:52:56.133370Z",
     "shell.execute_reply": "2024-06-15T18:52:56.132393Z"
    },
    "papermill": {
     "duration": 49.781448,
     "end_time": "2024-06-15T18:52:56.136085",
     "exception": false,
     "start_time": "2024-06-15T18:52:06.354637",
     "status": "completed"
    },
    "tags": []
   },
   "outputs": [],
   "source": [
    "torch.save(model.state_dict(), \"model_50_clean.pth\")"
   ]
  }
 ],
 "metadata": {
  "kaggle": {
   "accelerator": "nvidiaTeslaT4",
   "dataSources": [
    {
     "datasetId": 5175452,
     "sourceId": 8646217,
     "sourceType": "datasetVersion"
    },
    {
     "sourceId": 182257654,
     "sourceType": "kernelVersion"
    },
    {
     "sourceId": 182257893,
     "sourceType": "kernelVersion"
    },
    {
     "sourceId": 183435265,
     "sourceType": "kernelVersion"
    },
    {
     "modelInstanceId": 53173,
     "sourceId": 63760,
     "sourceType": "modelInstanceVersion"
    },
    {
     "modelInstanceId": 54533,
     "sourceId": 65368,
     "sourceType": "modelInstanceVersion"
    },
    {
     "modelInstanceId": 54548,
     "sourceId": 65385,
     "sourceType": "modelInstanceVersion"
    },
    {
     "isSourceIdPinned": true,
     "modelInstanceId": 54642,
     "sourceId": 65498,
     "sourceType": "modelInstanceVersion"
    }
   ],
   "dockerImageVersionId": 30732,
   "isGpuEnabled": true,
   "isInternetEnabled": true,
   "language": "python",
   "sourceType": "notebook"
  },
  "kernelspec": {
   "display_name": "Python 3",
   "language": "python",
   "name": "python3"
  },
  "language_info": {
   "codemirror_mode": {
    "name": "ipython",
    "version": 3
   },
   "file_extension": ".py",
   "mimetype": "text/x-python",
   "name": "python",
   "nbconvert_exporter": "python",
   "pygments_lexer": "ipython3",
   "version": "3.10.13"
  },
  "papermill": {
   "default_parameters": {},
   "duration": 13197.283836,
   "end_time": "2024-06-15T18:53:47.930857",
   "environment_variables": {},
   "exception": null,
   "input_path": "__notebook__.ipynb",
   "output_path": "__notebook__.ipynb",
   "parameters": {},
   "start_time": "2024-06-15T15:13:50.647021",
   "version": "2.5.0"
  }
 },
 "nbformat": 4,
 "nbformat_minor": 5
}
